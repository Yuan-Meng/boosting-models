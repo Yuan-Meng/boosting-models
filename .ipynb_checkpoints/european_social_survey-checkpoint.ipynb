{
 "cells": [
  {
   "cell_type": "markdown",
   "metadata": {
    "persistent_id": "8e5275a8-829d-4cf4-b2b6-be7d9bd3537f"
   },
   "source": [
    "# Who lives with a partner?"
   ]
  },
  {
   "cell_type": "markdown",
   "metadata": {
    "persistent_id": "1088e153-0a6c-484a-b2c5-b68c610166c2"
   },
   "source": [
    "## Background\n",
    "The [European Social Survey (ESS)](http://www.europeansocialsurvey.org/) conducts biannual interviews with \"newly selected, cross-sectional samples\" of European citizens to measure their \"attitudes, beliefs and, behaviour patterns\". For the purpose of this exercise, I'll build boosting models using the features of each interviewee to predict whether they live with a partner. The goal is to try different approaches (e.g., subsampling, using different loss functions, running more iterations, modifying parameters of the underlying decision trees, etc.) to improve model performance."
   ]
  },
  {
   "cell_type": "markdown",
   "metadata": {
    "persistent_id": "c349a290-9640-4196-bbd2-c8c9a5532f0c",
    "toc-hr-collapsed": true
   },
   "source": [
    "## Preparing data"
   ]
  },
  {
   "cell_type": "markdown",
   "metadata": {
    "persistent_id": "502c52f2-7411-407d-90c2-b8b2369162be"
   },
   "source": [
    "### Load data"
   ]
  },
  {
   "cell_type": "code",
   "execution_count": 1,
   "metadata": {
    "execution_event_id": "5c719d95-99fa-417f-b318-a97f1a4337c2",
    "last_executed_text": "# Import libraries\nimport pandas as pd\nimport numpy as np\nimport scipy\nimport matplotlib.pyplot as plt\n\n%matplotlib inline\n\nfrom sklearn.ensemble import GradientBoostingClassifier\nfrom sklearn.model_selection import train_test_split, cross_val_score\nfrom sklearn.metrics import confusion_matrix, accuracy_score",
    "persistent_id": "3c3858dd-3341-43ba-a2cf-4bdb1b75bb07"
   },
   "outputs": [],
   "source": [
    "# Import libraries\n",
    "import pandas as pd\n",
    "import numpy as np\n",
    "import scipy\n",
    "import matplotlib.pyplot as plt\n",
    "\n",
    "%matplotlib inline\n",
    "\n",
    "from sklearn.ensemble import GradientBoostingClassifier\n",
    "from sklearn.model_selection import train_test_split, cross_val_score\n",
    "from sklearn.metrics import confusion_matrix, accuracy_score"
   ]
  },
  {
   "cell_type": "code",
   "execution_count": 2,
   "metadata": {
    "execution_event_id": "f1b79a72-de75-4a16-8273-48f4807bee17",
    "last_executed_text": "# Read data\nraw = pd.read_csv(\n    (\n        \"https://raw.githubusercontent.com/Thinkful-Ed/data-201-resources/\"\n        \"master/ESS_practice_data/ESSdata_Thinkful.csv\"\n    )\n).dropna()",
    "persistent_id": "4eb6b472-2938-4780-abc3-5928fa6fc954"
   },
   "outputs": [],
   "source": [
    "# Read data\n",
    "raw = pd.read_csv(\n",
    "    (\n",
    "        \"https://raw.githubusercontent.com/Thinkful-Ed/data-201-resources/\"\n",
    "        \"master/ESS_practice_data/ESSdata_Thinkful.csv\"\n",
    "    )\n",
    ").dropna()"
   ]
  },
  {
   "cell_type": "code",
   "execution_count": 3,
   "metadata": {
    "execution_event_id": "310ec61f-059d-4fa3-b790-54908750db18",
    "last_executed_text": "# A few rows\nraw.head()",
    "persistent_id": "90a2e875-4e77-4362-b9c7-26cef0ae3b24"
   },
   "outputs": [
    {
     "data": {
      "text/html": [
       "<div>\n",
       "<style scoped>\n",
       "    .dataframe tbody tr th:only-of-type {\n",
       "        vertical-align: middle;\n",
       "    }\n",
       "\n",
       "    .dataframe tbody tr th {\n",
       "        vertical-align: top;\n",
       "    }\n",
       "\n",
       "    .dataframe thead th {\n",
       "        text-align: right;\n",
       "    }\n",
       "</style>\n",
       "<table border=\"1\" class=\"dataframe\">\n",
       "  <thead>\n",
       "    <tr style=\"text-align: right;\">\n",
       "      <th></th>\n",
       "      <th>cntry</th>\n",
       "      <th>idno</th>\n",
       "      <th>year</th>\n",
       "      <th>tvtot</th>\n",
       "      <th>ppltrst</th>\n",
       "      <th>pplfair</th>\n",
       "      <th>pplhlp</th>\n",
       "      <th>happy</th>\n",
       "      <th>sclmeet</th>\n",
       "      <th>sclact</th>\n",
       "      <th>gndr</th>\n",
       "      <th>agea</th>\n",
       "      <th>partner</th>\n",
       "    </tr>\n",
       "  </thead>\n",
       "  <tbody>\n",
       "    <tr>\n",
       "      <th>0</th>\n",
       "      <td>CH</td>\n",
       "      <td>5.0</td>\n",
       "      <td>6</td>\n",
       "      <td>3.0</td>\n",
       "      <td>3.0</td>\n",
       "      <td>10.0</td>\n",
       "      <td>5.0</td>\n",
       "      <td>8.0</td>\n",
       "      <td>5.0</td>\n",
       "      <td>4.0</td>\n",
       "      <td>2.0</td>\n",
       "      <td>60.0</td>\n",
       "      <td>1.0</td>\n",
       "    </tr>\n",
       "    <tr>\n",
       "      <th>1</th>\n",
       "      <td>CH</td>\n",
       "      <td>25.0</td>\n",
       "      <td>6</td>\n",
       "      <td>6.0</td>\n",
       "      <td>5.0</td>\n",
       "      <td>7.0</td>\n",
       "      <td>5.0</td>\n",
       "      <td>9.0</td>\n",
       "      <td>3.0</td>\n",
       "      <td>2.0</td>\n",
       "      <td>2.0</td>\n",
       "      <td>59.0</td>\n",
       "      <td>1.0</td>\n",
       "    </tr>\n",
       "    <tr>\n",
       "      <th>2</th>\n",
       "      <td>CH</td>\n",
       "      <td>26.0</td>\n",
       "      <td>6</td>\n",
       "      <td>1.0</td>\n",
       "      <td>8.0</td>\n",
       "      <td>8.0</td>\n",
       "      <td>8.0</td>\n",
       "      <td>7.0</td>\n",
       "      <td>6.0</td>\n",
       "      <td>3.0</td>\n",
       "      <td>1.0</td>\n",
       "      <td>24.0</td>\n",
       "      <td>2.0</td>\n",
       "    </tr>\n",
       "    <tr>\n",
       "      <th>3</th>\n",
       "      <td>CH</td>\n",
       "      <td>28.0</td>\n",
       "      <td>6</td>\n",
       "      <td>4.0</td>\n",
       "      <td>6.0</td>\n",
       "      <td>6.0</td>\n",
       "      <td>7.0</td>\n",
       "      <td>10.0</td>\n",
       "      <td>6.0</td>\n",
       "      <td>2.0</td>\n",
       "      <td>2.0</td>\n",
       "      <td>64.0</td>\n",
       "      <td>1.0</td>\n",
       "    </tr>\n",
       "    <tr>\n",
       "      <th>4</th>\n",
       "      <td>CH</td>\n",
       "      <td>29.0</td>\n",
       "      <td>6</td>\n",
       "      <td>5.0</td>\n",
       "      <td>6.0</td>\n",
       "      <td>7.0</td>\n",
       "      <td>5.0</td>\n",
       "      <td>8.0</td>\n",
       "      <td>7.0</td>\n",
       "      <td>2.0</td>\n",
       "      <td>2.0</td>\n",
       "      <td>55.0</td>\n",
       "      <td>1.0</td>\n",
       "    </tr>\n",
       "  </tbody>\n",
       "</table>\n",
       "</div>"
      ],
      "text/plain": [
       "  cntry  idno  year  tvtot  ppltrst  pplfair  pplhlp  happy  sclmeet  sclact  \\\n",
       "0    CH   5.0     6    3.0      3.0     10.0     5.0    8.0      5.0     4.0   \n",
       "1    CH  25.0     6    6.0      5.0      7.0     5.0    9.0      3.0     2.0   \n",
       "2    CH  26.0     6    1.0      8.0      8.0     8.0    7.0      6.0     3.0   \n",
       "3    CH  28.0     6    4.0      6.0      6.0     7.0   10.0      6.0     2.0   \n",
       "4    CH  29.0     6    5.0      6.0      7.0     5.0    8.0      7.0     2.0   \n",
       "\n",
       "   gndr  agea  partner  \n",
       "0   2.0  60.0      1.0  \n",
       "1   2.0  59.0      1.0  \n",
       "2   1.0  24.0      2.0  \n",
       "3   2.0  64.0      1.0  \n",
       "4   2.0  55.0      1.0  "
      ]
     },
     "execution_count": 3,
     "metadata": {},
     "output_type": "execute_result"
    }
   ],
   "source": [
    "# A few rows\n",
    "raw.head()"
   ]
  },
  {
   "cell_type": "code",
   "execution_count": 4,
   "metadata": {
    "execution_event_id": "349e3801-333a-4b17-b367-424bc73c606b",
    "last_executed_text": "# Dimensions\nraw.shape",
    "persistent_id": "fa80d10a-5f1c-4db6-9f61-2708575e247f"
   },
   "outputs": [
    {
     "data": {
      "text/plain": [
       "(8147, 13)"
      ]
     },
     "execution_count": 4,
     "metadata": {},
     "output_type": "execute_result"
    }
   ],
   "source": [
    "# Dimensions\n",
    "raw.shape"
   ]
  },
  {
   "cell_type": "markdown",
   "metadata": {
    "execution_event_id": "b4a695d3-10db-4754-ac1a-7ac834204827",
    "last_executed_text": "### Variable descriptions",
    "persistent_id": "a966a020-ead8-4d12-9bad-d6bff86cf6e4"
   },
   "source": [
    "### Variable descriptions"
   ]
  },
  {
   "cell_type": "markdown",
   "metadata": {},
   "source": [
    "This version of the ESS data has already been simplified, with only 12 explanatory variables and one target variable. According to the [ESS cumulative variable list](https://www.europeansocialsurvey.org/docs/cumulative/ESS_cumulative_variable_list.pdf), below are the meanings of these variable:\n",
    "- \"cntry\": Country \n",
    "- \"indo\":  Respondent's identification number\n",
    "- \"year\" (not in the original ESS data): Year in which the respondent was interviewed **(only guessing)**\n",
    "- \"tvtot\": TV watching, total time on average weekday\n",
    "- \"ppltrst\": Most people can be trusted or you can't be too careful\n",
    "- \"pplfair\": Most people try to take advantage of you, or try to be fair\n",
    "- \"happy\": How happy are you\n",
    "- \"sclmeet\": How often socially meet with friends, relatives or colleagues \n",
    "- \"sclact\": Take part in social activities compared to others of same age\n",
    "- \"gndr\": Gender\n",
    "- \"agea\": Age of respondent, calculated \n",
    "- \"partner\": Lives with husband/wife/partner at household grid"
   ]
  },
  {
   "cell_type": "markdown",
   "metadata": {
    "persistent_id": "d18b517d-7fed-4138-95a5-80440bec2aa3"
   },
   "source": [
    "### Data cleaning"
   ]
  },
  {
   "cell_type": "markdown",
   "metadata": {
    "persistent_id": "7efaa237-c830-41d1-8a32-d032134b4d8f"
   },
   "source": [
    "Are there any missing values in the dataset?"
   ]
  },
  {
   "cell_type": "code",
   "execution_count": 5,
   "metadata": {
    "execution_event_id": "db6cecad-ccce-47dd-9f61-dcb7a6919725",
    "last_executed_text": "# Count missing values\ntotal = raw.isnull().sum().sort_values(ascending=False)\npercent = (raw.isnull().sum() / raw.isnull().count()).sort_values(ascending=False)\nmissing = pd.concat([total, percent], axis=1, keys=[\"total\", \"percent\"])\nmissing = missing.loc[missing[\"total\"] > 0, :]\n\nmissing",
    "persistent_id": "b49586a8-61ac-4a68-b9c4-18a3202dae1e"
   },
   "outputs": [
    {
     "data": {
      "text/html": [
       "<div>\n",
       "<style scoped>\n",
       "    .dataframe tbody tr th:only-of-type {\n",
       "        vertical-align: middle;\n",
       "    }\n",
       "\n",
       "    .dataframe tbody tr th {\n",
       "        vertical-align: top;\n",
       "    }\n",
       "\n",
       "    .dataframe thead th {\n",
       "        text-align: right;\n",
       "    }\n",
       "</style>\n",
       "<table border=\"1\" class=\"dataframe\">\n",
       "  <thead>\n",
       "    <tr style=\"text-align: right;\">\n",
       "      <th></th>\n",
       "      <th>total</th>\n",
       "      <th>percent</th>\n",
       "    </tr>\n",
       "  </thead>\n",
       "  <tbody>\n",
       "  </tbody>\n",
       "</table>\n",
       "</div>"
      ],
      "text/plain": [
       "Empty DataFrame\n",
       "Columns: [total, percent]\n",
       "Index: []"
      ]
     },
     "execution_count": 5,
     "metadata": {},
     "output_type": "execute_result"
    }
   ],
   "source": [
    "# Count missing values\n",
    "total = raw.isnull().sum().sort_values(ascending=False)\n",
    "percent = (raw.isnull().sum() / raw.isnull().count()).sort_values(ascending=False)\n",
    "missing = pd.concat([total, percent], axis=1, keys=[\"total\", \"percent\"])\n",
    "missing = missing.loc[missing[\"total\"] > 0, :]\n",
    "\n",
    "missing"
   ]
  },
  {
   "cell_type": "markdown",
   "metadata": {
    "persistent_id": "bdf2873d-b975-40db-ad51-0a66071656d3"
   },
   "source": [
    "Fortunately, there isn't any. Let's examine other potential issues. ESS uses \"1\" to denote \"not living with a partner\" and \"2\" for \"living with a partner\". To make it more natural to interpret, we can switch to using 0 and 1 to denote the two outcomes."
   ]
  },
  {
   "cell_type": "code",
   "execution_count": 6,
   "metadata": {
    "execution_event_id": "3e1b46da-60fb-4785-ad8f-3124084da816",
    "last_executed_text": "# Create a copy of the original data\ndf = raw.copy()\n\n# Recode 1 and 2 to 0 and 1\ny = df[\"partner\"] - 1",
    "persistent_id": "4a77c131-761f-43a2-940b-2e1d0041b20a"
   },
   "outputs": [],
   "source": [
    "# Create a copy of the original data\n",
    "df = raw.copy()\n",
    "\n",
    "# Recode 1 and 2 to 0 and 1\n",
    "y = df[\"partner\"] - 1"
   ]
  },
  {
   "cell_type": "markdown",
   "metadata": {
    "persistent_id": "0b13c373-8431-4754-91e1-88fb29758651"
   },
   "source": [
    "Since respondents' identification numbers are not needed for making predictions, we can drop the \"indo\" column. Because most models only accept numerical variables as input and \"cntry\" is a string variable, we can use one hot encoding to convert it into a series of numeric variables and drop the original column. Let's do these below."
   ]
  },
  {
   "cell_type": "code",
   "execution_count": 7,
   "metadata": {
    "execution_event_id": "9240307f-f66f-44e7-841f-9fad3409f64f",
    "last_executed_text": "# Drop unnecessary columns\nX = df.loc[:, ~df.columns.isin([\"partner\", \"cntry\", \"idno\"])]\n\n# One hot encode \"cntry\"\nX = pd.concat([X, pd.get_dummies(df[\"cntry\"])], axis=1)",
    "persistent_id": "843700a8-bb69-4827-be43-6cd87a36075c"
   },
   "outputs": [],
   "source": [
    "# Drop unnecessary columns\n",
    "X = df.loc[:, ~df.columns.isin([\"partner\", \"cntry\", \"idno\"])]\n",
    "\n",
    "# One hot encode \"cntry\"\n",
    "X = pd.concat([X, pd.get_dummies(df[\"cntry\"])], axis=1)"
   ]
  },
  {
   "cell_type": "markdown",
   "metadata": {
    "persistent_id": "989a5e51-64c9-4729-a43f-f5644e8a600e"
   },
   "source": [
    "### Train/test split\n",
    "Let's save 20% of the data for testing later and use the remaining 80% to train our model."
   ]
  },
  {
   "cell_type": "code",
   "execution_count": 8,
   "metadata": {
    "execution_event_id": "941df4ac-bdfb-4418-afe4-bb5dde2b7c31",
    "last_executed_text": "X_train, X_test, y_train, y_test = train_test_split(\n    X, y, test_size=0.2, random_state=465\n)",
    "persistent_id": "18e042dd-9e2b-4bfe-8e5c-018ba4226a2e"
   },
   "outputs": [],
   "source": [
    "X_train, X_test, y_train, y_test = train_test_split(\n",
    "    X, y, test_size=0.2, random_state=465\n",
    ")"
   ]
  },
  {
   "cell_type": "markdown",
   "metadata": {
    "persistent_id": "d30753be-c4aa-45d2-890e-ada02f9a144b"
   },
   "source": [
    "### Feature standardization\n",
    "To potentially improve model performance, we can standardize the features before using them. "
   ]
  },
  {
   "cell_type": "code",
   "execution_count": 9,
   "metadata": {
    "execution_event_id": "059c2d61-c2fb-4ea4-b8d9-73acb4a43259",
    "last_executed_text": "from sklearn.preprocessing import StandardScaler\n\nscaler = StandardScaler()\nX_train = scaler.fit_transform(X_train)\nX_test = scaler.fit_transform(X_test)",
    "persistent_id": "a415aed2-529c-4a64-883b-f85a747baffb"
   },
   "outputs": [],
   "source": [
    "from sklearn.preprocessing import StandardScaler\n",
    "\n",
    "scaler = StandardScaler()\n",
    "X_train = scaler.fit_transform(X_train)\n",
    "X_test = scaler.fit_transform(X_test)"
   ]
  },
  {
   "cell_type": "markdown",
   "metadata": {
    "persistent_id": "efe3908e-5995-41b3-927d-11afd0713cc9",
    "toc-hr-collapsed": true
   },
   "source": [
    "## Original boosting model\n",
    "We can use the `GradientBoostingClassifier` module from the scikit-learn package to build a boosting classifier with 500 boosting stages, each using a decision tree with the maximum depth of 2. To begin, we can set the learning rate to be 1 and use deviance as our loss function. Later we can play with these to see how they influence model performance."
   ]
  },
  {
   "cell_type": "markdown",
   "metadata": {
    "persistent_id": "47d259fa-9a88-4967-bc21-d61b61753ead"
   },
   "source": [
    "### Train classifier"
   ]
  },
  {
   "cell_type": "code",
   "execution_count": 37,
   "metadata": {
    "execution_event_id": "b5436c90-7b62-4e5c-8b8a-144856356dfa",
    "last_executed_text": "clf = GradientBoostingClassifier(\n    n_estimators=500, learning_rate=0.1, max_depth=2, loss=\"deviance\", random_state=0\n).fit(X_train, y_train)",
    "persistent_id": "5ee9e2e6-8137-4871-8052-c05ac6ca624e"
   },
   "outputs": [],
   "source": [
    "clf = GradientBoostingClassifier(\n",
    "    n_estimators=500, learning_rate=0.1, max_depth=2, loss=\"deviance\", random_state=0\n",
    ").fit(X_train, y_train)"
   ]
  },
  {
   "cell_type": "markdown",
   "metadata": {
    "execution_event_id": "1187f52a-04f0-41b1-8884-8ba8e12cee98",
    "last_executed_text": "classifier.score(X_test, y_test)",
    "persistent_id": "f79b5132-424a-4cb7-bf2a-b985a78cda6f"
   },
   "source": [
    "### Cross validation\n",
    "Let's cross validate our boosting classifier on the training dataset."
   ]
  },
  {
   "cell_type": "code",
   "execution_count": 38,
   "metadata": {
    "execution_event_id": "9ba0c851-48cd-476a-ba29-82be2be501a3",
    "last_executed_text": "from sklearn.model_selection import cross_val_score\n\nscores = cross_val_score(classifier, X_train, y_train, cv=10, n_jobs=-1)\n\nprint(\"Accuracy in each of the 10 folds: {}; mean accuracy: {}.\".format(scores, scores.mean()))",
    "persistent_id": "675da059-eb63-48c2-8e59-7f8174031a8d"
   },
   "outputs": [
    {
     "name": "stdout",
     "output_type": "stream",
     "text": [
      "Accuracy in each of the 10 folds: [0.71625767 0.73159509 0.75766871 0.7392638  0.77760736 0.76226994\n",
      " 0.75613497 0.75729647 0.72043011 0.75729647]; mean accuracy: 0.7475820587486924.\n"
     ]
    }
   ],
   "source": [
    "scores = cross_val_score(clf, X_train, y_train, cv=10, n_jobs=-1)\n",
    "\n",
    "print(\n",
    "    \"Accuracy in each of the 10 folds: {}; mean accuracy: {}.\".format(\n",
    "        scores, scores.mean()\n",
    "    )\n",
    ")"
   ]
  },
  {
   "cell_type": "markdown",
   "metadata": {},
   "source": [
    "Our model did OK, obtaining a mean accuracy of 75% across 10 folds."
   ]
  },
  {
   "cell_type": "markdown",
   "metadata": {
    "persistent_id": "9413c496-281e-4296-ad71-be8a81af59ba"
   },
   "source": [
    "### Predictions and evaluation\n",
    "Finally, we can use the trained model to predict partner status for respondents in the testing data and evaluate model predictions against the actual outcomes."
   ]
  },
  {
   "cell_type": "code",
   "execution_count": 39,
   "metadata": {
    "execution_event_id": "921bd2dd-d29d-41f8-97ff-93634465216c",
    "last_executed_text": "# Predict partner status for the testing data\ny_pred = clf.predict(X_test)\n\n# Evaluate predictions against actual outcomes\ncm = confusion_matrix(y_test, y_pred)\n\nprint(\"Confusion matrix: \\n{}\\n\".format(cm))\nprint(\"Accuracy is {}.\".format(accuracy_score(y_test, y_pred)))",
    "persistent_id": "45cab3c9-c1c0-4738-9852-857ffec92670"
   },
   "outputs": [
    {
     "name": "stdout",
     "output_type": "stream",
     "text": [
      "Confusion matrix: \n",
      "[[912 104]\n",
      " [293 321]]\n",
      "\n",
      "Accuracy is 0.756441717791411.\n"
     ]
    }
   ],
   "source": [
    "# Predict partner status for the testing data\n",
    "y_pred = clf.predict(X_test)\n",
    "\n",
    "# Evaluate predictions against actual outcomes\n",
    "cm = confusion_matrix(y_test, y_pred)\n",
    "\n",
    "print(\"Confusion matrix: \\n{}\\n\".format(cm))\n",
    "print(\"Accuracy is {}.\".format(accuracy_score(y_test, y_pred)))"
   ]
  },
  {
   "cell_type": "markdown",
   "metadata": {
    "persistent_id": "7dac9c3c-c7a6-49ec-969b-53a608242720"
   },
   "source": [
    "Again, our boosting classifier achieved a 76% accuracy in the testing data, which is quite acceptable. In the next section, let's tweak this model too see how we can improve it."
   ]
  },
  {
   "cell_type": "markdown",
   "metadata": {
    "persistent_id": "8b8fd0d9-e60b-4cc7-ad70-875c324ce1fa",
    "toc-hr-collapsed": false
   },
   "source": [
    "## Improving the classifier\n",
    "The original ESS data has many more variables than we do here. However, since it's unclear which year(s) our abridged version of data comes from, it's hard to match the records and add new features. \n",
    "\n",
    "Still, we can use a variety of techniques to improve our model."
   ]
  },
  {
   "cell_type": "markdown",
   "metadata": {
    "persistent_id": "75126a35-4735-413f-ae74-61065a5279e5"
   },
   "source": [
    "### Subsampling\n",
    "Instead of using all the features to build each decision tree, we can randomly select a subset of features to it. This practice is called \"feature subsampling\". As a [\"rule of thumb\"](https://stats.stackexchange.com/questions/203711/feature-subsampling-with-gradient-boosting), if we have $N$ features, we can use $\\sqrt N$ for each tree. For boosting models, subsampling is not essential but it may still allow the model to converge faster with boosting."
   ]
  },
  {
   "cell_type": "code",
   "execution_count": 40,
   "metadata": {
    "execution_event_id": "dfa9166e-de38-4b3b-8342-dc39a1999f74",
    "last_executed_text": "# Train new classifier\nclf2 = GradientBoostingClassifier(\n    n_estimators=500,\n    subsample=np.sqrt(X_train.shape[1]) / X_train.shape[1],\n    learning_rate=0.1,\n    max_depth=2,\n    loss=\"deviance\",\n    random_state=0,\n).fit(X_train, y_train)",
    "persistent_id": "b378d6d2-7c53-416b-8861-c41e7c1c0138"
   },
   "outputs": [],
   "source": [
    "# Train new classifier\n",
    "clf2 = GradientBoostingClassifier(\n",
    "    n_estimators=500,\n",
    "    subsample=np.sqrt(X_train.shape[1]) / X_train.shape[1],\n",
    "    learning_rate=0.1,\n",
    "    max_depth=2,\n",
    "    loss=\"deviance\",\n",
    "    random_state=0,\n",
    ").fit(X_train, y_train)"
   ]
  },
  {
   "cell_type": "code",
   "execution_count": 41,
   "metadata": {
    "execution_event_id": "649e7b42-a551-4ff6-ac3d-dfd1eaf04a93",
    "last_executed_text": "# Cross validate on training data\nscores = cross_val_score(clf2, X_train, y_train, cv=10, n_jobs=-1)\n\nprint(\n    \"Accuracy in each of the 10 folds: {}; mean accuracy: {}.\".format(\n        scores, scores.mean()\n    )\n)",
    "persistent_id": "ae1cc5cb-6517-4030-8ea6-dcf6681f6ea2"
   },
   "outputs": [
    {
     "name": "stdout",
     "output_type": "stream",
     "text": [
      "Accuracy in each of the 10 folds: [0.73466258 0.7208589  0.76533742 0.73619632 0.76380368 0.77760736\n",
      " 0.75153374 0.76804916 0.71889401 0.76497696]; mean accuracy: 0.7501920122887865.\n"
     ]
    }
   ],
   "source": [
    "# Cross validate on training data\n",
    "scores = cross_val_score(clf2, X_train, y_train, cv=10, n_jobs=-1)\n",
    "\n",
    "print(\n",
    "    \"Accuracy in each of the 10 folds: {}; mean accuracy: {}.\".format(\n",
    "        scores, scores.mean()\n",
    "    )\n",
    ")"
   ]
  },
  {
   "cell_type": "code",
   "execution_count": 42,
   "metadata": {
    "execution_event_id": "f278f8d9-7346-4d10-b568-f41318e95888",
    "last_executed_text": "# Preidct outcomes in test data\ny_pred = clf2.predict(X_test)\n\n# Evaluate performance\ncm = confusion_matrix(y_test, y_pred)\n\nprint(\"Confusion matrix: \\n{}\\n\".format(cm))\nprint(\"Accuracy is {}.\".format(accuracy_score(y_test, y_pred)))",
    "persistent_id": "d40bc403-17ab-4487-a022-c722aaa7a9ab"
   },
   "outputs": [
    {
     "name": "stdout",
     "output_type": "stream",
     "text": [
      "Confusion matrix: \n",
      "[[908 108]\n",
      " [268 346]]\n",
      "\n",
      "Accuracy is 0.7693251533742331.\n"
     ]
    }
   ],
   "source": [
    "# Preidct outcomes in test data\n",
    "y_pred = clf2.predict(X_test)\n",
    "\n",
    "# Evaluate performance\n",
    "cm = confusion_matrix(y_test, y_pred)\n",
    "\n",
    "print(\"Confusion matrix: \\n{}\\n\".format(cm))\n",
    "print(\"Accuracy is {}.\".format(accuracy_score(y_test, y_pred)))"
   ]
  },
  {
   "cell_type": "markdown",
   "metadata": {},
   "source": [
    "Subsampling slightly improved model performance by about 2%."
   ]
  },
  {
   "cell_type": "markdown",
   "metadata": {
    "persistent_id": "f5ab1451-3f69-42ce-82c3-657aae85096d"
   },
   "source": [
    "### More estimators\n",
    "Let's increase the number of estimators to 10,000 and see how it changes our model performance."
   ]
  },
  {
   "cell_type": "code",
   "execution_count": 43,
   "metadata": {
    "execution_event_id": "640e02ca-e19f-46f0-af87-028cf72e72f0",
    "last_executed_text": "# Train new classifier\nclf3 = GradientBoostingClassifier(\n    n_estimators=10000, learning_rate=0.1, max_depth=2, loss=\"deviance\", random_state=0,\n).fit(X_train, y_train)",
    "persistent_id": "4603a0c8-9383-4f58-a348-e2f751b0d558"
   },
   "outputs": [],
   "source": [
    "# Train new classifier\n",
    "clf3 = GradientBoostingClassifier(\n",
    "    n_estimators=10000, learning_rate=0.1, max_depth=2, loss=\"deviance\", random_state=0,\n",
    ").fit(X_train, y_train)"
   ]
  },
  {
   "cell_type": "code",
   "execution_count": null,
   "metadata": {
    "execution_event_id": "250822e7-e3c3-4cc9-a489-114e73c3035a",
    "last_executed_text": "# Cross validate on training data\nscores = cross_val_score(clf3, X_train, y_train, cv=10, n_jobs=-1)\n\nprint(\n    \"Accuracy in each of the 10 folds: {}; mean accuracy: {}.\".format(\n        scores, scores.mean()\n    )\n)",
    "persistent_id": "24d45f60-69d7-4aa8-8805-4190c0368511"
   },
   "outputs": [],
   "source": [
    "# Cross validate on training data\n",
    "scores = cross_val_score(clf3, X_train, y_train, cv=10, n_jobs=-1)\n",
    "\n",
    "print(\n",
    "    \"Accuracy in each of the 10 folds: {}; mean accuracy: {}.\".format(\n",
    "        scores, scores.mean()\n",
    "    )\n",
    ")"
   ]
  },
  {
   "cell_type": "code",
   "execution_count": null,
   "metadata": {
    "execution_event_id": "d66a98ec-df7d-47b8-ba68-d315b801a384",
    "last_executed_text": "# Preidct outcomes in test data\ny_pred = clf3.predict(X_test)\n\n# Evaluate performance\ncm = confusion_matrix(y_test, y_pred)\n\nprint(\"Confusion matrix: \\n{}\\n\".format(cm))\nprint(\"Accuracy is {}.\".format(accuracy_score(y_test, y_pred)))",
    "persistent_id": "5e138366-990c-4a20-8d2d-0a5c385ced71"
   },
   "outputs": [],
   "source": [
    "# Preidct outcomes in test data\n",
    "y_pred = clf3.predict(X_test)\n",
    "\n",
    "# Evaluate performance\n",
    "cm = confusion_matrix(y_test, y_pred)\n",
    "\n",
    "print(\"Confusion matrix: \\n{}\\n\".format(cm))\n",
    "print(\"Accuracy is {}.\".format(accuracy_score(y_test, y_pred)))"
   ]
  },
  {
   "cell_type": "markdown",
   "metadata": {
    "persistent_id": "48eefacd-4223-4133-be91-8a589d2ec0b5"
   },
   "source": [
    "Increasing the number of estimators didn't improve model performance, either."
   ]
  },
  {
   "cell_type": "markdown",
   "metadata": {
    "persistent_id": "3e5c7444-2c79-4dc6-85d7-5bb526ddfb37"
   },
   "source": [
    "### More leaves\n",
    "What about adding more leaves to each decision tree by allowing a greater maximum depth (e.g., 5)?"
   ]
  },
  {
   "cell_type": "code",
   "execution_count": 27,
   "metadata": {
    "execution_event_id": "49fd3b7d-0b5b-41f8-90e5-d22c2101a1af",
    "last_executed_text": "# Train new classifier\nclf4 = GradientBoostingClassifier(\n    n_estimators=500, learning_rate=1.0, max_depth=5, loss=\"deviance\", random_state=0,\n).fit(X_train, y_train)",
    "persistent_id": "2aef862c-8acd-48ff-855c-622f3c4922c3"
   },
   "outputs": [],
   "source": [
    "# Train new classifier\n",
    "clf4 = GradientBoostingClassifier(\n",
    "    n_estimators=500, learning_rate=0.1, max_depth=5, loss=\"deviance\", random_state=0,\n",
    ").fit(X_train, y_train)"
   ]
  },
  {
   "cell_type": "code",
   "execution_count": 28,
   "metadata": {
    "execution_event_id": "a2c615a1-a898-4184-b769-4161a03b05a5",
    "last_executed_text": "# Cross validate on training data\nscores = cross_val_score(clf4, X_train, y_train, cv=10, n_jobs=-1)\n\nprint(\n    \"Accuracy in each of the 10 folds: {}; mean accuracy: {}.\".format(\n        scores, scores.mean()\n    )\n)",
    "persistent_id": "c855027b-ae5d-48d9-826f-328f7af498db"
   },
   "outputs": [
    {
     "name": "stdout",
     "output_type": "stream",
     "text": [
      "Accuracy in each of the 10 folds: [0.70245399 0.67791411 0.70245399 0.70398773 0.72392638 0.70245399\n",
      " 0.69325153 0.70046083 0.68970814 0.70046083]; mean accuracy: 0.699707151809863.\n"
     ]
    }
   ],
   "source": [
    "# Cross validate on training data\n",
    "scores = cross_val_score(clf4, X_train, y_train, cv=10, n_jobs=-1)\n",
    "\n",
    "print(\n",
    "    \"Accuracy in each of the 10 folds: {}; mean accuracy: {}.\".format(\n",
    "        scores, scores.mean()\n",
    "    )\n",
    ")"
   ]
  },
  {
   "cell_type": "code",
   "execution_count": 29,
   "metadata": {
    "execution_event_id": "6f7fe3fd-39c4-4886-b8fb-aba7257d8513",
    "last_executed_text": "# Preidct outcomes in test data\ny_pred = clf4.predict(X_test)\n\n# Evaluate performance\ncm = confusion_matrix(y_test, y_pred)\n\nprint(\"Confusion matrix: \\n{}\\n\".format(cm))\nprint(\"Accuracy is {}.\".format(accuracy_score(y_test, y_pred)))",
    "persistent_id": "fabd34fa-2bd0-420b-96c8-2462a53a29e5"
   },
   "outputs": [
    {
     "name": "stdout",
     "output_type": "stream",
     "text": [
      "Confusion matrix: \n",
      "[[767 249]\n",
      " [254 360]]\n",
      "\n",
      "Accuracy is 0.6914110429447853.\n"
     ]
    }
   ],
   "source": [
    "# Preidct outcomes in test data\n",
    "y_pred = clf4.predict(X_test)\n",
    "\n",
    "# Evaluate performance\n",
    "cm = confusion_matrix(y_test, y_pred)\n",
    "\n",
    "print(\"Confusion matrix: \\n{}\\n\".format(cm))\n",
    "print(\"Accuracy is {}.\".format(accuracy_score(y_test, y_pred)))"
   ]
  },
  {
   "cell_type": "markdown",
   "metadata": {
    "persistent_id": "59c0bd17-ca5c-4b27-91fa-cca0fde8a404"
   },
   "source": [
    "Again, it didn't really improve model performance."
   ]
  },
  {
   "cell_type": "markdown",
   "metadata": {
    "persistent_id": "2b8473f4-c89e-488d-8b2a-d2937a10d0e4"
   },
   "source": [
    "### Exponential loss\n",
    "The last thing I want to try is changing the loss function to be optimized. For classification problems, another popular loss function is [the exponential loss function](https://en.wikipedia.org/wiki/Loss_functions_for_classification#Exponential_loss). "
   ]
  },
  {
   "cell_type": "code",
   "execution_count": 34,
   "metadata": {
    "execution_event_id": "6836b1cc-0b27-419f-84c6-e14cfaee0883",
    "last_executed_text": "# Train new classifier\nclf5 = GradientBoostingClassifier(\n    n_estimators=500, learning_rate=1.0, max_depth=2, loss=\"exponential\", random_state=0,\n).fit(X_train, y_train)",
    "persistent_id": "f6d01dab-0afe-4a7a-af5a-5b411358383d"
   },
   "outputs": [],
   "source": [
    "# Train new classifier\n",
    "clf5 = GradientBoostingClassifier(\n",
    "    n_estimators=500, learning_rate=1.0, max_depth=2, loss=\"exponential\", random_state=0,\n",
    ").fit(X_train, y_train)"
   ]
  },
  {
   "cell_type": "code",
   "execution_count": 35,
   "metadata": {
    "execution_event_id": "0732329d-41ee-4555-8e14-baecb9f8fe8f",
    "last_executed_text": "# Cross validate on training data\nscores = cross_val_score(clf5, X_train, y_train, cv=10, n_jobs=-1)\n\nprint(\n    \"Accuracy in each of the 10 folds: {}; mean accuracy: {}.\".format(\n        scores, scores.mean()\n    )\n)",
    "persistent_id": "fdba553b-61a5-48d4-b59e-c6528fe8e2ed"
   },
   "outputs": [
    {
     "name": "stdout",
     "output_type": "stream",
     "text": [
      "Accuracy in each of the 10 folds: [0.70858896 0.69478528 0.7208589  0.70858896 0.75613497 0.72699387\n",
      " 0.7208589  0.73886329 0.72196621 0.73732719]; mean accuracy: 0.723496649797857.\n"
     ]
    }
   ],
   "source": [
    "# Cross validate on training data\n",
    "scores = cross_val_score(clf5, X_train, y_train, cv=10, n_jobs=-1)\n",
    "\n",
    "print(\n",
    "    \"Accuracy in each of the 10 folds: {}; mean accuracy: {}.\".format(\n",
    "        scores, scores.mean()\n",
    "    )\n",
    ")"
   ]
  },
  {
   "cell_type": "code",
   "execution_count": 36,
   "metadata": {
    "execution_event_id": "f6b38c69-ebc9-4201-86f7-fd851012c72d",
    "last_executed_text": "# Preidct outcomes in test data\ny_pred = clf5.predict(X_test)\n\n# Evaluate performance\ncm = confusion_matrix(y_test, y_pred)\n\nprint(\"Confusion matrix: \\n{}\\n\".format(cm))\nprint(\"Accuracy is {}.\".format(accuracy_score(y_test, y_pred)))",
    "persistent_id": "268fe389-9bf5-489c-959a-9920a47e66d6"
   },
   "outputs": [
    {
     "name": "stdout",
     "output_type": "stream",
     "text": [
      "Confusion matrix: \n",
      "[[883 133]\n",
      " [277 337]]\n",
      "\n",
      "Accuracy is 0.7484662576687117.\n"
     ]
    }
   ],
   "source": [
    "# Preidct outcomes in test data\n",
    "y_pred = clf5.predict(X_test)\n",
    "\n",
    "# Evaluate performance\n",
    "cm = confusion_matrix(y_test, y_pred)\n",
    "\n",
    "print(\"Confusion matrix: \\n{}\\n\".format(cm))\n",
    "print(\"Accuracy is {}.\".format(accuracy_score(y_test, y_pred)))"
   ]
  },
  {
   "cell_type": "markdown",
   "metadata": {
    "persistent_id": "d5e45495-12fd-4900-8d7e-8511ed152755"
   },
   "source": [
    "The model performance is rather similar to optimizing deviance."
   ]
  },
  {
   "cell_type": "markdown",
   "metadata": {
    "persistent_id": "238f3d57-6d9a-4ce9-aa7d-e7f5fac4e8ed"
   },
   "source": [
    "## Summary\n",
    "Some of the approaches above improved the model performance and some didn't. More generally, what can we do to build better boosting models? \n",
    "This [article](https://machinelearningmastery.com/gentle-introduction-gradient-boosting-algorithm-machine-learning/) by Jason Brownlee discussed 4 ways to improve gradient boosting, which I summarized below:\n",
    "1. Tree constraints\n",
    "- Number of trees: We can keep adding trees until there are no further improvements. Too many trees make the model slow and prone to overfitting.\n",
    "- Depth of trees: Shorter trees (e.g., 4-8) are generally preferred over more complex trees.\n",
    "2. Shrinkage\n",
    "\n",
    "   In gradient boosting models, trees are added sequentially and the contribution of each new tree can shrink over time. It's common to have a small shrinkage such as 0.1 to 0.3, or even less than 0.1.\n",
    "\n",
    "3. Random sampling\n",
    "   \n",
    "   Using subsamples of the training dataset allows the trees to be more independent from one another. When it comes to preventing overfitting, column subsampling can be more effective than row subsampling.\n",
    "\n",
    "4. Penalized learning\n",
    "   \n",
    "   We can further impose L1 or L2 regularization on the \"leaf weight values\" to prevent overfitting."
   ]
  }
 ],
 "metadata": {
  "history": [
   {
    "cell": {
     "executionCount": 1,
     "executionEventId": "1b76732a-f78e-4fe5-8a58-56db467d836e",
     "hasError": false,
     "id": "df1a6efd-6b36-45f5-a032-58e2f4de53c4",
     "outputs": [],
     "persistentId": "3c3858dd-3341-43ba-a2cf-4bdb1b75bb07",
     "text": "import pandas as pd\nimport numpy as np\nimport scipy\nimport matplotlib.pyplot as plt\n%matplotlib inline\n\nfrom sklearn import ensemble\nfrom sklearn import datasets\nfrom sklearn.utils import shuffle\nfrom sklearn.metrics import mean_squared_error"
    },
    "executionTime": "2020-01-17T22:03:10.566Z"
   },
   {
    "cell": {
     "executionCount": 2,
     "executionEventId": "1a01f251-e169-40ba-bcfd-1a115ac68852",
     "hasError": false,
     "id": "78b85835-5761-4dee-abee-db4b24f1012b",
     "outputs": [],
     "persistentId": "4eb6b472-2938-4780-abc3-5928fa6fc954",
     "text": "raw = pd.read_csv((\n    \"https://raw.githubusercontent.com/Thinkful-Ed/data-201-resources/\"\n    \"master/ESS_practice_data/ESSdata_Thinkful.csv\")).dropna()"
    },
    "executionTime": "2020-01-17T22:04:45.004Z"
   },
   {
    "cell": {
     "executionCount": 3,
     "executionEventId": "2a06afae-c46d-4864-9388-0a4dfa3c95e7",
     "hasError": false,
     "id": "54a3a660-caa2-49c4-b890-37c7da69c6bf",
     "outputs": [
      {
       "data": {
        "text/html": "<div>\n<style scoped>\n    .dataframe tbody tr th:only-of-type {\n        vertical-align: middle;\n    }\n\n    .dataframe tbody tr th {\n        vertical-align: top;\n    }\n\n    .dataframe thead th {\n        text-align: right;\n    }\n</style>\n<table border=\"1\" class=\"dataframe\">\n  <thead>\n    <tr style=\"text-align: right;\">\n      <th></th>\n      <th>cntry</th>\n      <th>idno</th>\n      <th>year</th>\n      <th>tvtot</th>\n      <th>ppltrst</th>\n      <th>pplfair</th>\n      <th>pplhlp</th>\n      <th>happy</th>\n      <th>sclmeet</th>\n      <th>sclact</th>\n      <th>gndr</th>\n      <th>agea</th>\n      <th>partner</th>\n    </tr>\n  </thead>\n  <tbody>\n    <tr>\n      <th>0</th>\n      <td>CH</td>\n      <td>5.0</td>\n      <td>6</td>\n      <td>3.0</td>\n      <td>3.0</td>\n      <td>10.0</td>\n      <td>5.0</td>\n      <td>8.0</td>\n      <td>5.0</td>\n      <td>4.0</td>\n      <td>2.0</td>\n      <td>60.0</td>\n      <td>1.0</td>\n    </tr>\n    <tr>\n      <th>1</th>\n      <td>CH</td>\n      <td>25.0</td>\n      <td>6</td>\n      <td>6.0</td>\n      <td>5.0</td>\n      <td>7.0</td>\n      <td>5.0</td>\n      <td>9.0</td>\n      <td>3.0</td>\n      <td>2.0</td>\n      <td>2.0</td>\n      <td>59.0</td>\n      <td>1.0</td>\n    </tr>\n    <tr>\n      <th>2</th>\n      <td>CH</td>\n      <td>26.0</td>\n      <td>6</td>\n      <td>1.0</td>\n      <td>8.0</td>\n      <td>8.0</td>\n      <td>8.0</td>\n      <td>7.0</td>\n      <td>6.0</td>\n      <td>3.0</td>\n      <td>1.0</td>\n      <td>24.0</td>\n      <td>2.0</td>\n    </tr>\n    <tr>\n      <th>3</th>\n      <td>CH</td>\n      <td>28.0</td>\n      <td>6</td>\n      <td>4.0</td>\n      <td>6.0</td>\n      <td>6.0</td>\n      <td>7.0</td>\n      <td>10.0</td>\n      <td>6.0</td>\n      <td>2.0</td>\n      <td>2.0</td>\n      <td>64.0</td>\n      <td>1.0</td>\n    </tr>\n    <tr>\n      <th>4</th>\n      <td>CH</td>\n      <td>29.0</td>\n      <td>6</td>\n      <td>5.0</td>\n      <td>6.0</td>\n      <td>7.0</td>\n      <td>5.0</td>\n      <td>8.0</td>\n      <td>7.0</td>\n      <td>2.0</td>\n      <td>2.0</td>\n      <td>55.0</td>\n      <td>1.0</td>\n    </tr>\n  </tbody>\n</table>\n</div>",
        "text/plain": "  cntry  idno  year  tvtot  ppltrst  pplfair  pplhlp  happy  sclmeet  sclact  \\\n0    CH   5.0     6    3.0      3.0     10.0     5.0    8.0      5.0     4.0   \n1    CH  25.0     6    6.0      5.0      7.0     5.0    9.0      3.0     2.0   \n2    CH  26.0     6    1.0      8.0      8.0     8.0    7.0      6.0     3.0   \n3    CH  28.0     6    4.0      6.0      6.0     7.0   10.0      6.0     2.0   \n4    CH  29.0     6    5.0      6.0      7.0     5.0    8.0      7.0     2.0   \n\n   gndr  agea  partner  \n0   2.0  60.0      1.0  \n1   2.0  59.0      1.0  \n2   1.0  24.0      2.0  \n3   2.0  64.0      1.0  \n4   2.0  55.0      1.0  "
       },
       "execution_count": 3,
       "metadata": {},
       "output_type": "execute_result"
      }
     ],
     "persistentId": "90a2e875-4e77-4362-b9c7-26cef0ae3b24",
     "text": "raw.head()"
    },
    "executionTime": "2020-01-17T22:04:47.415Z"
   },
   {
    "cell": {
     "executionCount": 4,
     "executionEventId": "a6698197-2d25-4f1b-998c-f91623945dd4",
     "hasError": false,
     "id": "54a3a660-caa2-49c4-b890-37c7da69c6bf",
     "outputs": [
      {
       "data": {
        "text/html": "<div>\n<style scoped>\n    .dataframe tbody tr th:only-of-type {\n        vertical-align: middle;\n    }\n\n    .dataframe tbody tr th {\n        vertical-align: top;\n    }\n\n    .dataframe thead th {\n        text-align: right;\n    }\n</style>\n<table border=\"1\" class=\"dataframe\">\n  <thead>\n    <tr style=\"text-align: right;\">\n      <th></th>\n      <th>cntry</th>\n      <th>idno</th>\n      <th>year</th>\n      <th>tvtot</th>\n      <th>ppltrst</th>\n      <th>pplfair</th>\n      <th>pplhlp</th>\n      <th>happy</th>\n      <th>sclmeet</th>\n      <th>sclact</th>\n      <th>gndr</th>\n      <th>agea</th>\n      <th>partner</th>\n    </tr>\n  </thead>\n  <tbody>\n    <tr>\n      <th>0</th>\n      <td>CH</td>\n      <td>5.0</td>\n      <td>6</td>\n      <td>3.0</td>\n      <td>3.0</td>\n      <td>10.0</td>\n      <td>5.0</td>\n      <td>8.0</td>\n      <td>5.0</td>\n      <td>4.0</td>\n      <td>2.0</td>\n      <td>60.0</td>\n      <td>1.0</td>\n    </tr>\n    <tr>\n      <th>1</th>\n      <td>CH</td>\n      <td>25.0</td>\n      <td>6</td>\n      <td>6.0</td>\n      <td>5.0</td>\n      <td>7.0</td>\n      <td>5.0</td>\n      <td>9.0</td>\n      <td>3.0</td>\n      <td>2.0</td>\n      <td>2.0</td>\n      <td>59.0</td>\n      <td>1.0</td>\n    </tr>\n    <tr>\n      <th>2</th>\n      <td>CH</td>\n      <td>26.0</td>\n      <td>6</td>\n      <td>1.0</td>\n      <td>8.0</td>\n      <td>8.0</td>\n      <td>8.0</td>\n      <td>7.0</td>\n      <td>6.0</td>\n      <td>3.0</td>\n      <td>1.0</td>\n      <td>24.0</td>\n      <td>2.0</td>\n    </tr>\n    <tr>\n      <th>3</th>\n      <td>CH</td>\n      <td>28.0</td>\n      <td>6</td>\n      <td>4.0</td>\n      <td>6.0</td>\n      <td>6.0</td>\n      <td>7.0</td>\n      <td>10.0</td>\n      <td>6.0</td>\n      <td>2.0</td>\n      <td>2.0</td>\n      <td>64.0</td>\n      <td>1.0</td>\n    </tr>\n    <tr>\n      <th>4</th>\n      <td>CH</td>\n      <td>29.0</td>\n      <td>6</td>\n      <td>5.0</td>\n      <td>6.0</td>\n      <td>7.0</td>\n      <td>5.0</td>\n      <td>8.0</td>\n      <td>7.0</td>\n      <td>2.0</td>\n      <td>2.0</td>\n      <td>55.0</td>\n      <td>1.0</td>\n    </tr>\n  </tbody>\n</table>\n</div>",
        "text/plain": "  cntry  idno  year  tvtot  ppltrst  pplfair  pplhlp  happy  sclmeet  sclact  \\\n0    CH   5.0     6    3.0      3.0     10.0     5.0    8.0      5.0     4.0   \n1    CH  25.0     6    6.0      5.0      7.0     5.0    9.0      3.0     2.0   \n2    CH  26.0     6    1.0      8.0      8.0     8.0    7.0      6.0     3.0   \n3    CH  28.0     6    4.0      6.0      6.0     7.0   10.0      6.0     2.0   \n4    CH  29.0     6    5.0      6.0      7.0     5.0    8.0      7.0     2.0   \n\n   gndr  agea  partner  \n0   2.0  60.0      1.0  \n1   2.0  59.0      1.0  \n2   1.0  24.0      2.0  \n3   2.0  64.0      1.0  \n4   2.0  55.0      1.0  "
       },
       "execution_count": 4,
       "metadata": {},
       "output_type": "execute_result"
      }
     ],
     "persistentId": "90a2e875-4e77-4362-b9c7-26cef0ae3b24",
     "text": "# A few rows\nraw.head()"
    },
    "executionTime": "2020-01-17T22:12:48.446Z"
   },
   {
    "cell": {
     "executionCount": 5,
     "executionEventId": "4485a400-bd9a-40ac-99eb-d4f15b5fdb11",
     "hasError": false,
     "id": "54a3a660-caa2-49c4-b890-37c7da69c6bf",
     "outputs": [
      {
       "data": {
        "text/html": "<div>\n<style scoped>\n    .dataframe tbody tr th:only-of-type {\n        vertical-align: middle;\n    }\n\n    .dataframe tbody tr th {\n        vertical-align: top;\n    }\n\n    .dataframe thead th {\n        text-align: right;\n    }\n</style>\n<table border=\"1\" class=\"dataframe\">\n  <thead>\n    <tr style=\"text-align: right;\">\n      <th></th>\n      <th>idno</th>\n      <th>year</th>\n      <th>tvtot</th>\n      <th>ppltrst</th>\n      <th>pplfair</th>\n      <th>pplhlp</th>\n      <th>happy</th>\n      <th>sclmeet</th>\n      <th>sclact</th>\n      <th>gndr</th>\n      <th>agea</th>\n      <th>partner</th>\n    </tr>\n  </thead>\n  <tbody>\n    <tr>\n      <th>count</th>\n      <td>8.147000e+03</td>\n      <td>8147.000000</td>\n      <td>8147.000000</td>\n      <td>8147.000000</td>\n      <td>8147.000000</td>\n      <td>8147.000000</td>\n      <td>8147.000000</td>\n      <td>8147.000000</td>\n      <td>8147.000000</td>\n      <td>8147.000000</td>\n      <td>8147.000000</td>\n      <td>8147.000000</td>\n    </tr>\n    <tr>\n      <th>mean</th>\n      <td>4.022622e+04</td>\n      <td>6.500307</td>\n      <td>3.818584</td>\n      <td>5.574936</td>\n      <td>6.005155</td>\n      <td>5.321468</td>\n      <td>7.708482</td>\n      <td>5.215908</td>\n      <td>2.755984</td>\n      <td>1.496379</td>\n      <td>47.262182</td>\n      <td>1.384681</td>\n    </tr>\n    <tr>\n      <th>std</th>\n      <td>6.320721e+05</td>\n      <td>0.500031</td>\n      <td>2.008937</td>\n      <td>2.215745</td>\n      <td>2.120127</td>\n      <td>2.166217</td>\n      <td>1.720839</td>\n      <td>1.438792</td>\n      <td>0.901406</td>\n      <td>0.500018</td>\n      <td>18.316890</td>\n      <td>0.486550</td>\n    </tr>\n    <tr>\n      <th>min</th>\n      <td>1.000000e+00</td>\n      <td>6.000000</td>\n      <td>0.000000</td>\n      <td>0.000000</td>\n      <td>0.000000</td>\n      <td>0.000000</td>\n      <td>0.000000</td>\n      <td>1.000000</td>\n      <td>1.000000</td>\n      <td>1.000000</td>\n      <td>15.000000</td>\n      <td>1.000000</td>\n    </tr>\n    <tr>\n      <th>25%</th>\n      <td>1.063000e+03</td>\n      <td>6.000000</td>\n      <td>2.000000</td>\n      <td>4.000000</td>\n      <td>5.000000</td>\n      <td>4.000000</td>\n      <td>7.000000</td>\n      <td>4.000000</td>\n      <td>2.000000</td>\n      <td>1.000000</td>\n      <td>33.000000</td>\n      <td>1.000000</td>\n    </tr>\n    <tr>\n      <th>50%</th>\n      <td>1.749000e+03</td>\n      <td>7.000000</td>\n      <td>4.000000</td>\n      <td>6.000000</td>\n      <td>6.000000</td>\n      <td>5.000000</td>\n      <td>8.000000</td>\n      <td>6.000000</td>\n      <td>3.000000</td>\n      <td>1.000000</td>\n      <td>47.000000</td>\n      <td>1.000000</td>\n    </tr>\n    <tr>\n      <th>75%</th>\n      <td>2.778000e+03</td>\n      <td>7.000000</td>\n      <td>5.000000</td>\n      <td>7.000000</td>\n      <td>8.000000</td>\n      <td>7.000000</td>\n      <td>9.000000</td>\n      <td>6.000000</td>\n      <td>3.000000</td>\n      <td>2.000000</td>\n      <td>61.000000</td>\n      <td>2.000000</td>\n    </tr>\n    <tr>\n      <th>max</th>\n      <td>1.100143e+07</td>\n      <td>7.000000</td>\n      <td>7.000000</td>\n      <td>10.000000</td>\n      <td>10.000000</td>\n      <td>10.000000</td>\n      <td>10.000000</td>\n      <td>7.000000</td>\n      <td>5.000000</td>\n      <td>2.000000</td>\n      <td>114.000000</td>\n      <td>2.000000</td>\n    </tr>\n  </tbody>\n</table>\n</div>",
        "text/plain": "               idno         year        tvtot      ppltrst      pplfair  \\\ncount  8.147000e+03  8147.000000  8147.000000  8147.000000  8147.000000   \nmean   4.022622e+04     6.500307     3.818584     5.574936     6.005155   \nstd    6.320721e+05     0.500031     2.008937     2.215745     2.120127   \nmin    1.000000e+00     6.000000     0.000000     0.000000     0.000000   \n25%    1.063000e+03     6.000000     2.000000     4.000000     5.000000   \n50%    1.749000e+03     7.000000     4.000000     6.000000     6.000000   \n75%    2.778000e+03     7.000000     5.000000     7.000000     8.000000   \nmax    1.100143e+07     7.000000     7.000000    10.000000    10.000000   \n\n            pplhlp        happy      sclmeet       sclact         gndr  \\\ncount  8147.000000  8147.000000  8147.000000  8147.000000  8147.000000   \nmean      5.321468     7.708482     5.215908     2.755984     1.496379   \nstd       2.166217     1.720839     1.438792     0.901406     0.500018   \nmin       0.000000     0.000000     1.000000     1.000000     1.000000   \n25%       4.000000     7.000000     4.000000     2.000000     1.000000   \n50%       5.000000     8.000000     6.000000     3.000000     1.000000   \n75%       7.000000     9.000000     6.000000     3.000000     2.000000   \nmax      10.000000    10.000000     7.000000     5.000000     2.000000   \n\n              agea      partner  \ncount  8147.000000  8147.000000  \nmean     47.262182     1.384681  \nstd      18.316890     0.486550  \nmin      15.000000     1.000000  \n25%      33.000000     1.000000  \n50%      47.000000     1.000000  \n75%      61.000000     2.000000  \nmax     114.000000     2.000000  "
       },
       "execution_count": 5,
       "metadata": {},
       "output_type": "execute_result"
      }
     ],
     "persistentId": "90a2e875-4e77-4362-b9c7-26cef0ae3b24",
     "text": "# A few rows\nraw.head()\n\n# \nraw.describe()"
    },
    "executionTime": "2020-01-17T22:15:04.400Z"
   },
   {
    "cell": {
     "executionCount": 6,
     "executionEventId": "5e5d04da-0733-4c59-95ed-9a0097d697f9",
     "hasError": false,
     "id": "54a3a660-caa2-49c4-b890-37c7da69c6bf",
     "outputs": [
      {
       "name": "stdout",
       "output_type": "stream",
       "text": "<class 'pandas.core.frame.DataFrame'>\nInt64Index: 8147 entries, 0 to 8593\nData columns (total 13 columns):\ncntry      8147 non-null object\nidno       8147 non-null float64\nyear       8147 non-null int64\ntvtot      8147 non-null float64\nppltrst    8147 non-null float64\npplfair    8147 non-null float64\npplhlp     8147 non-null float64\nhappy      8147 non-null float64\nsclmeet    8147 non-null float64\nsclact     8147 non-null float64\ngndr       8147 non-null float64\nagea       8147 non-null float64\npartner    8147 non-null float64\ndtypes: float64(11), int64(1), object(1)\nmemory usage: 891.1+ KB\n"
      }
     ],
     "persistentId": "90a2e875-4e77-4362-b9c7-26cef0ae3b24",
     "text": "# A few rows\nraw.head()\n\n# \nraw.info()"
    },
    "executionTime": "2020-01-17T22:15:13.771Z"
   },
   {
    "cell": {
     "executionCount": 7,
     "executionEventId": "5149e234-f13f-4e44-bb32-496c621f8e7f",
     "hasError": false,
     "id": "54a3a660-caa2-49c4-b890-37c7da69c6bf",
     "outputs": [
      {
       "data": {
        "text/html": "<div>\n<style scoped>\n    .dataframe tbody tr th:only-of-type {\n        vertical-align: middle;\n    }\n\n    .dataframe tbody tr th {\n        vertical-align: top;\n    }\n\n    .dataframe thead th {\n        text-align: right;\n    }\n</style>\n<table border=\"1\" class=\"dataframe\">\n  <thead>\n    <tr style=\"text-align: right;\">\n      <th></th>\n      <th>cntry</th>\n      <th>idno</th>\n      <th>year</th>\n      <th>tvtot</th>\n      <th>ppltrst</th>\n      <th>pplfair</th>\n      <th>pplhlp</th>\n      <th>happy</th>\n      <th>sclmeet</th>\n      <th>sclact</th>\n      <th>gndr</th>\n      <th>agea</th>\n      <th>partner</th>\n    </tr>\n  </thead>\n  <tbody>\n    <tr>\n      <th>0</th>\n      <td>CH</td>\n      <td>5.0</td>\n      <td>6</td>\n      <td>3.0</td>\n      <td>3.0</td>\n      <td>10.0</td>\n      <td>5.0</td>\n      <td>8.0</td>\n      <td>5.0</td>\n      <td>4.0</td>\n      <td>2.0</td>\n      <td>60.0</td>\n      <td>1.0</td>\n    </tr>\n    <tr>\n      <th>1</th>\n      <td>CH</td>\n      <td>25.0</td>\n      <td>6</td>\n      <td>6.0</td>\n      <td>5.0</td>\n      <td>7.0</td>\n      <td>5.0</td>\n      <td>9.0</td>\n      <td>3.0</td>\n      <td>2.0</td>\n      <td>2.0</td>\n      <td>59.0</td>\n      <td>1.0</td>\n    </tr>\n    <tr>\n      <th>2</th>\n      <td>CH</td>\n      <td>26.0</td>\n      <td>6</td>\n      <td>1.0</td>\n      <td>8.0</td>\n      <td>8.0</td>\n      <td>8.0</td>\n      <td>7.0</td>\n      <td>6.0</td>\n      <td>3.0</td>\n      <td>1.0</td>\n      <td>24.0</td>\n      <td>2.0</td>\n    </tr>\n    <tr>\n      <th>3</th>\n      <td>CH</td>\n      <td>28.0</td>\n      <td>6</td>\n      <td>4.0</td>\n      <td>6.0</td>\n      <td>6.0</td>\n      <td>7.0</td>\n      <td>10.0</td>\n      <td>6.0</td>\n      <td>2.0</td>\n      <td>2.0</td>\n      <td>64.0</td>\n      <td>1.0</td>\n    </tr>\n    <tr>\n      <th>4</th>\n      <td>CH</td>\n      <td>29.0</td>\n      <td>6</td>\n      <td>5.0</td>\n      <td>6.0</td>\n      <td>7.0</td>\n      <td>5.0</td>\n      <td>8.0</td>\n      <td>7.0</td>\n      <td>2.0</td>\n      <td>2.0</td>\n      <td>55.0</td>\n      <td>1.0</td>\n    </tr>\n  </tbody>\n</table>\n</div>",
        "text/plain": "  cntry  idno  year  tvtot  ppltrst  pplfair  pplhlp  happy  sclmeet  sclact  \\\n0    CH   5.0     6    3.0      3.0     10.0     5.0    8.0      5.0     4.0   \n1    CH  25.0     6    6.0      5.0      7.0     5.0    9.0      3.0     2.0   \n2    CH  26.0     6    1.0      8.0      8.0     8.0    7.0      6.0     3.0   \n3    CH  28.0     6    4.0      6.0      6.0     7.0   10.0      6.0     2.0   \n4    CH  29.0     6    5.0      6.0      7.0     5.0    8.0      7.0     2.0   \n\n   gndr  agea  partner  \n0   2.0  60.0      1.0  \n1   2.0  59.0      1.0  \n2   1.0  24.0      2.0  \n3   2.0  64.0      1.0  \n4   2.0  55.0      1.0  "
       },
       "execution_count": 7,
       "metadata": {},
       "output_type": "execute_result"
      }
     ],
     "persistentId": "90a2e875-4e77-4362-b9c7-26cef0ae3b24",
     "text": "# A few rows\nraw.head()"
    },
    "executionTime": "2020-01-17T22:15:22.562Z"
   },
   {
    "cell": {
     "executionCount": 8,
     "executionEventId": "a5103f3c-3710-4964-8545-e95aef96ecf4",
     "hasError": false,
     "id": "78b85835-5761-4dee-abee-db4b24f1012b",
     "outputs": [
      {
       "data": {
        "text/html": "<div>\n<style scoped>\n    .dataframe tbody tr th:only-of-type {\n        vertical-align: middle;\n    }\n\n    .dataframe tbody tr th {\n        vertical-align: top;\n    }\n\n    .dataframe thead th {\n        text-align: right;\n    }\n</style>\n<table border=\"1\" class=\"dataframe\">\n  <thead>\n    <tr style=\"text-align: right;\">\n      <th></th>\n      <th>cntry</th>\n      <th>idno</th>\n      <th>year</th>\n      <th>tvtot</th>\n      <th>ppltrst</th>\n      <th>pplfair</th>\n      <th>pplhlp</th>\n      <th>happy</th>\n      <th>sclmeet</th>\n      <th>sclact</th>\n      <th>gndr</th>\n      <th>agea</th>\n      <th>partner</th>\n    </tr>\n  </thead>\n  <tbody>\n    <tr>\n      <th>0</th>\n      <td>CH</td>\n      <td>5.0</td>\n      <td>6</td>\n      <td>3.0</td>\n      <td>3.0</td>\n      <td>10.0</td>\n      <td>5.0</td>\n      <td>8.0</td>\n      <td>5.0</td>\n      <td>4.0</td>\n      <td>2.0</td>\n      <td>60.0</td>\n      <td>1.0</td>\n    </tr>\n    <tr>\n      <th>1</th>\n      <td>CH</td>\n      <td>25.0</td>\n      <td>6</td>\n      <td>6.0</td>\n      <td>5.0</td>\n      <td>7.0</td>\n      <td>5.0</td>\n      <td>9.0</td>\n      <td>3.0</td>\n      <td>2.0</td>\n      <td>2.0</td>\n      <td>59.0</td>\n      <td>1.0</td>\n    </tr>\n    <tr>\n      <th>2</th>\n      <td>CH</td>\n      <td>26.0</td>\n      <td>6</td>\n      <td>1.0</td>\n      <td>8.0</td>\n      <td>8.0</td>\n      <td>8.0</td>\n      <td>7.0</td>\n      <td>6.0</td>\n      <td>3.0</td>\n      <td>1.0</td>\n      <td>24.0</td>\n      <td>2.0</td>\n    </tr>\n    <tr>\n      <th>3</th>\n      <td>CH</td>\n      <td>28.0</td>\n      <td>6</td>\n      <td>4.0</td>\n      <td>6.0</td>\n      <td>6.0</td>\n      <td>7.0</td>\n      <td>10.0</td>\n      <td>6.0</td>\n      <td>2.0</td>\n      <td>2.0</td>\n      <td>64.0</td>\n      <td>1.0</td>\n    </tr>\n    <tr>\n      <th>4</th>\n      <td>CH</td>\n      <td>29.0</td>\n      <td>6</td>\n      <td>5.0</td>\n      <td>6.0</td>\n      <td>7.0</td>\n      <td>5.0</td>\n      <td>8.0</td>\n      <td>7.0</td>\n      <td>2.0</td>\n      <td>2.0</td>\n      <td>55.0</td>\n      <td>1.0</td>\n    </tr>\n  </tbody>\n</table>\n</div>",
        "text/plain": "  cntry  idno  year  tvtot  ppltrst  pplfair  pplhlp  happy  sclmeet  sclact  \\\n0    CH   5.0     6    3.0      3.0     10.0     5.0    8.0      5.0     4.0   \n1    CH  25.0     6    6.0      5.0      7.0     5.0    9.0      3.0     2.0   \n2    CH  26.0     6    1.0      8.0      8.0     8.0    7.0      6.0     3.0   \n3    CH  28.0     6    4.0      6.0      6.0     7.0   10.0      6.0     2.0   \n4    CH  29.0     6    5.0      6.0      7.0     5.0    8.0      7.0     2.0   \n\n   gndr  agea  partner  \n0   2.0  60.0      1.0  \n1   2.0  59.0      1.0  \n2   1.0  24.0      2.0  \n3   2.0  64.0      1.0  \n4   2.0  55.0      1.0  "
       },
       "execution_count": 8,
       "metadata": {},
       "output_type": "execute_result"
      }
     ],
     "persistentId": "4eb6b472-2938-4780-abc3-5928fa6fc954",
     "text": "# Read data\nraw = pd.read_csv((\n    \"https://raw.githubusercontent.com/Thinkful-Ed/data-201-resources/\"\n    \"master/ESS_practice_data/ESSdata_Thinkful.csv\")).dropna()\n\n# A few rows\nraw.head()"
    },
    "executionTime": "2020-01-17T22:17:50.005Z"
   },
   {
    "cell": {
     "executionCount": 9,
     "executionEventId": "f9876110-46d4-4d30-8b35-bbca653fb4c9",
     "hasError": false,
     "id": "54a3a660-caa2-49c4-b890-37c7da69c6bf",
     "outputs": [
      {
       "data": {
        "text/plain": "(8147, 13)"
       },
       "execution_count": 9,
       "metadata": {},
       "output_type": "execute_result"
      }
     ],
     "persistentId": "90a2e875-4e77-4362-b9c7-26cef0ae3b24",
     "text": "raw.shape"
    },
    "executionTime": "2020-01-17T22:17:55.735Z"
   },
   {
    "cell": {
     "executionCount": 10,
     "executionEventId": "f618c305-e335-4dd3-956c-5641d67f44f1",
     "hasError": false,
     "id": "54a3a660-caa2-49c4-b890-37c7da69c6bf",
     "outputs": [
      {
       "data": {
        "text/plain": "(8147, 13)"
       },
       "execution_count": 10,
       "metadata": {},
       "output_type": "execute_result"
      }
     ],
     "persistentId": "90a2e875-4e77-4362-b9c7-26cef0ae3b24",
     "text": "# Dimensions\nraw.shape"
    },
    "executionTime": "2020-01-17T22:18:02.948Z"
   },
   {
    "cell": {
     "executionCount": 11,
     "executionEventId": "67df17ab-652b-42e1-b6aa-7e704a43a1d9",
     "hasError": false,
     "id": "78b85835-5761-4dee-abee-db4b24f1012b",
     "outputs": [
      {
       "data": {
        "text/plain": "(8147, 13)"
       },
       "execution_count": 11,
       "metadata": {},
       "output_type": "execute_result"
      }
     ],
     "persistentId": "4eb6b472-2938-4780-abc3-5928fa6fc954",
     "text": "# Read data\nraw = pd.read_csv((\n    \"https://raw.githubusercontent.com/Thinkful-Ed/data-201-resources/\"\n    \"master/ESS_practice_data/ESSdata_Thinkful.csv\")).dropna()\n\n# A few rows\nraw.head()\n\n# Dimensions\nraw.shape"
    },
    "executionTime": "2020-01-17T22:18:07.901Z"
   },
   {
    "cell": {
     "executionCount": 12,
     "executionEventId": "e09bba4a-c623-4d0a-a544-9fa9e07ae72f",
     "hasError": false,
     "id": "78b85835-5761-4dee-abee-db4b24f1012b",
     "outputs": [
      {
       "name": "stdout",
       "output_type": "stream",
       "text": "  cntry  idno  year  tvtot  ppltrst  pplfair  pplhlp  happy  sclmeet  sclact  \\\n0    CH   5.0     6    3.0      3.0     10.0     5.0    8.0      5.0     4.0   \n1    CH  25.0     6    6.0      5.0      7.0     5.0    9.0      3.0     2.0   \n2    CH  26.0     6    1.0      8.0      8.0     8.0    7.0      6.0     3.0   \n3    CH  28.0     6    4.0      6.0      6.0     7.0   10.0      6.0     2.0   \n4    CH  29.0     6    5.0      6.0      7.0     5.0    8.0      7.0     2.0   \n\n   gndr  agea  partner  \n0   2.0  60.0      1.0  \n1   2.0  59.0      1.0  \n2   1.0  24.0      2.0  \n3   2.0  64.0      1.0  \n4   2.0  55.0      1.0  \n"
      },
      {
       "data": {
        "text/plain": "(8147, 13)"
       },
       "execution_count": 12,
       "metadata": {},
       "output_type": "execute_result"
      }
     ],
     "persistentId": "4eb6b472-2938-4780-abc3-5928fa6fc954",
     "text": "# Read data\nraw = pd.read_csv((\n    \"https://raw.githubusercontent.com/Thinkful-Ed/data-201-resources/\"\n    \"master/ESS_practice_data/ESSdata_Thinkful.csv\")).dropna()\n\n# A few rows\nprint(raw.head())\n\n# Dimensions\nraw.shape"
    },
    "executionTime": "2020-01-17T22:18:17.023Z"
   },
   {
    "cell": {
     "executionCount": 13,
     "executionEventId": "574b5d18-b5b4-4a63-92ba-6dea98f4d00b",
     "hasError": false,
     "id": "78b85835-5761-4dee-abee-db4b24f1012b",
     "outputs": [],
     "persistentId": "4eb6b472-2938-4780-abc3-5928fa6fc954",
     "text": "# Read data\nraw = pd.read_csv((\n    \"https://raw.githubusercontent.com/Thinkful-Ed/data-201-resources/\"\n    \"master/ESS_practice_data/ESSdata_Thinkful.csv\")).dropna()"
    },
    "executionTime": "2020-01-17T22:18:31.619Z"
   },
   {
    "cell": {
     "executionCount": 14,
     "executionEventId": "45bd21a6-fc9b-400c-9e61-594dc77bed3b",
     "hasError": true,
     "id": "54a3a660-caa2-49c4-b890-37c7da69c6bf",
     "outputs": [
      {
       "ename": "SyntaxError",
       "evalue": "invalid syntax (<ipython-input-14-3f0f35562468>, line 2)",
       "output_type": "error",
       "traceback": [
        "\u001b[0;36m  File \u001b[0;32m\"<ipython-input-14-3f0f35562468>\"\u001b[0;36m, line \u001b[0;32m2\u001b[0m\n\u001b[0;31m    raw.head())\u001b[0m\n\u001b[0m              ^\u001b[0m\n\u001b[0;31mSyntaxError\u001b[0m\u001b[0;31m:\u001b[0m invalid syntax\n"
       ]
      }
     ],
     "persistentId": "90a2e875-4e77-4362-b9c7-26cef0ae3b24",
     "text": "# A few rows\nraw.head())"
    },
    "executionTime": "2020-01-17T22:18:36.286Z"
   },
   {
    "cell": {
     "executionCount": 15,
     "executionEventId": "be854ea1-3907-402c-8cda-6ba3610fdc4d",
     "hasError": false,
     "id": "54a3a660-caa2-49c4-b890-37c7da69c6bf",
     "outputs": [
      {
       "data": {
        "text/html": "<div>\n<style scoped>\n    .dataframe tbody tr th:only-of-type {\n        vertical-align: middle;\n    }\n\n    .dataframe tbody tr th {\n        vertical-align: top;\n    }\n\n    .dataframe thead th {\n        text-align: right;\n    }\n</style>\n<table border=\"1\" class=\"dataframe\">\n  <thead>\n    <tr style=\"text-align: right;\">\n      <th></th>\n      <th>cntry</th>\n      <th>idno</th>\n      <th>year</th>\n      <th>tvtot</th>\n      <th>ppltrst</th>\n      <th>pplfair</th>\n      <th>pplhlp</th>\n      <th>happy</th>\n      <th>sclmeet</th>\n      <th>sclact</th>\n      <th>gndr</th>\n      <th>agea</th>\n      <th>partner</th>\n    </tr>\n  </thead>\n  <tbody>\n    <tr>\n      <th>0</th>\n      <td>CH</td>\n      <td>5.0</td>\n      <td>6</td>\n      <td>3.0</td>\n      <td>3.0</td>\n      <td>10.0</td>\n      <td>5.0</td>\n      <td>8.0</td>\n      <td>5.0</td>\n      <td>4.0</td>\n      <td>2.0</td>\n      <td>60.0</td>\n      <td>1.0</td>\n    </tr>\n    <tr>\n      <th>1</th>\n      <td>CH</td>\n      <td>25.0</td>\n      <td>6</td>\n      <td>6.0</td>\n      <td>5.0</td>\n      <td>7.0</td>\n      <td>5.0</td>\n      <td>9.0</td>\n      <td>3.0</td>\n      <td>2.0</td>\n      <td>2.0</td>\n      <td>59.0</td>\n      <td>1.0</td>\n    </tr>\n    <tr>\n      <th>2</th>\n      <td>CH</td>\n      <td>26.0</td>\n      <td>6</td>\n      <td>1.0</td>\n      <td>8.0</td>\n      <td>8.0</td>\n      <td>8.0</td>\n      <td>7.0</td>\n      <td>6.0</td>\n      <td>3.0</td>\n      <td>1.0</td>\n      <td>24.0</td>\n      <td>2.0</td>\n    </tr>\n    <tr>\n      <th>3</th>\n      <td>CH</td>\n      <td>28.0</td>\n      <td>6</td>\n      <td>4.0</td>\n      <td>6.0</td>\n      <td>6.0</td>\n      <td>7.0</td>\n      <td>10.0</td>\n      <td>6.0</td>\n      <td>2.0</td>\n      <td>2.0</td>\n      <td>64.0</td>\n      <td>1.0</td>\n    </tr>\n    <tr>\n      <th>4</th>\n      <td>CH</td>\n      <td>29.0</td>\n      <td>6</td>\n      <td>5.0</td>\n      <td>6.0</td>\n      <td>7.0</td>\n      <td>5.0</td>\n      <td>8.0</td>\n      <td>7.0</td>\n      <td>2.0</td>\n      <td>2.0</td>\n      <td>55.0</td>\n      <td>1.0</td>\n    </tr>\n  </tbody>\n</table>\n</div>",
        "text/plain": "  cntry  idno  year  tvtot  ppltrst  pplfair  pplhlp  happy  sclmeet  sclact  \\\n0    CH   5.0     6    3.0      3.0     10.0     5.0    8.0      5.0     4.0   \n1    CH  25.0     6    6.0      5.0      7.0     5.0    9.0      3.0     2.0   \n2    CH  26.0     6    1.0      8.0      8.0     8.0    7.0      6.0     3.0   \n3    CH  28.0     6    4.0      6.0      6.0     7.0   10.0      6.0     2.0   \n4    CH  29.0     6    5.0      6.0      7.0     5.0    8.0      7.0     2.0   \n\n   gndr  agea  partner  \n0   2.0  60.0      1.0  \n1   2.0  59.0      1.0  \n2   1.0  24.0      2.0  \n3   2.0  64.0      1.0  \n4   2.0  55.0      1.0  "
       },
       "execution_count": 15,
       "metadata": {},
       "output_type": "execute_result"
      }
     ],
     "persistentId": "90a2e875-4e77-4362-b9c7-26cef0ae3b24",
     "text": "# A few rows\nraw.head()"
    },
    "executionTime": "2020-01-17T22:18:37.856Z"
   },
   {
    "cell": {
     "executionCount": 16,
     "executionEventId": "70b07695-3c69-4129-b4f3-5a65ce204679",
     "hasError": false,
     "id": "1f1fd045-f31f-4a7d-bdb6-e8809382f689",
     "outputs": [
      {
       "data": {
        "text/plain": "(8147, 13)"
       },
       "execution_count": 16,
       "metadata": {},
       "output_type": "execute_result"
      }
     ],
     "persistentId": "fa80d10a-5f1c-4db6-9f61-2708575e247f",
     "text": "# Dimensions\nraw.shape"
    },
    "executionTime": "2020-01-17T22:18:41.351Z"
   },
   {
    "cell": {
     "executionCount": 17,
     "executionEventId": "40de1961-c150-429d-b5df-8ae245a0fc74",
     "hasError": false,
     "id": "f0d28319-f102-40df-a332-830fe676a87f",
     "outputs": [
      {
       "data": {
        "text/plain": "0       6\n1       6\n2       6\n3       6\n4       6\n6       6\n7       6\n8       6\n9       6\n10      6\n11      6\n12      6\n13      6\n14      6\n15      6\n16      6\n17      6\n18      6\n19      6\n20      6\n21      6\n22      6\n23      6\n24      6\n25      6\n26      6\n27      6\n28      6\n29      6\n30      6\n       ..\n8564    7\n8565    7\n8566    7\n8567    7\n8568    7\n8569    7\n8570    7\n8571    7\n8572    7\n8573    7\n8574    7\n8575    7\n8576    7\n8577    7\n8578    7\n8579    7\n8580    7\n8581    7\n8582    7\n8583    7\n8584    7\n8585    7\n8586    7\n8587    7\n8588    7\n8589    7\n8590    7\n8591    7\n8592    7\n8593    7\nName: year, Length: 8147, dtype: int64"
       },
       "execution_count": 17,
       "metadata": {},
       "output_type": "execute_result"
      }
     ],
     "persistentId": "ed7309ad-9f29-4f62-a6b4-402cefb07b17",
     "text": "raw['year']"
    },
    "executionTime": "2020-01-17T22:36:23.077Z"
   },
   {
    "cell": {
     "executionCount": 18,
     "executionEventId": "c0961242-3b61-4650-b237-96b3cc25cd0e",
     "hasError": false,
     "id": "94ed35ce-2123-4009-9a34-42a211c98188",
     "outputs": [],
     "persistentId": "d0ba38f0-1089-4203-abf8-5095fd0c6a62",
     "text": "### One hot encoding"
    },
    "executionTime": "2020-01-17T22:41:53.764Z"
   },
   {
    "cell": {
     "executionCount": 19,
     "executionEventId": "e1bf98b0-683a-414c-80e9-7b901078d799",
     "hasError": false,
     "id": "62e18404-be39-484c-ba36-f09857583d6d",
     "outputs": [],
     "persistentId": "4a77c131-761f-43a2-940b-2e1d0041b20a",
     "text": "# Create a copy of the original data\ndf = raw.copy()\n\n# Recode 1 and 2 to 0 and 1\ny = df['partner'] - 1"
    },
    "executionTime": "2020-01-17T22:45:42.374Z"
   },
   {
    "cell": {
     "executionCount": 20,
     "executionEventId": "ec901ec5-e017-478a-8184-4bead436f280",
     "hasError": true,
     "id": "7d2a3309-6156-47c4-ab6d-f4c94d4b6d0c",
     "outputs": [
      {
       "ename": "NameError",
       "evalue": "name 'X' is not defined",
       "output_type": "error",
       "traceback": [
        "\u001b[0;31m---------------------------------------------------------------------------\u001b[0m",
        "\u001b[0;31mNameError\u001b[0m                                 Traceback (most recent call last)",
        "\u001b[0;32m<ipython-input-20-47c6762000ca>\u001b[0m in \u001b[0;36m<module>\u001b[0;34m\u001b[0m\n\u001b[1;32m      1\u001b[0m \u001b[0;31m# One hot code \"cntry\"\u001b[0m\u001b[0;34m\u001b[0m\u001b[0;34m\u001b[0m\u001b[0;34m\u001b[0m\u001b[0m\n\u001b[0;32m----> 2\u001b[0;31m \u001b[0mX\u001b[0m \u001b[0;34m=\u001b[0m \u001b[0mpd\u001b[0m\u001b[0;34m.\u001b[0m\u001b[0mconcat\u001b[0m\u001b[0;34m(\u001b[0m\u001b[0;34m[\u001b[0m\u001b[0mX\u001b[0m\u001b[0;34m,\u001b[0m \u001b[0mpd\u001b[0m\u001b[0;34m.\u001b[0m\u001b[0mget_dummies\u001b[0m\u001b[0;34m(\u001b[0m\u001b[0mdf\u001b[0m\u001b[0;34m[\u001b[0m\u001b[0;34m'cntry'\u001b[0m\u001b[0;34m]\u001b[0m\u001b[0;34m)\u001b[0m\u001b[0;34m]\u001b[0m\u001b[0;34m,\u001b[0m \u001b[0maxis\u001b[0m\u001b[0;34m=\u001b[0m\u001b[0;36m1\u001b[0m\u001b[0;34m)\u001b[0m\u001b[0;34m\u001b[0m\u001b[0;34m\u001b[0m\u001b[0m\n\u001b[0m\u001b[1;32m      3\u001b[0m \u001b[0;34m\u001b[0m\u001b[0m\n\u001b[1;32m      4\u001b[0m \u001b[0;31m# Drop unnecessary columns\u001b[0m\u001b[0;34m\u001b[0m\u001b[0;34m\u001b[0m\u001b[0;34m\u001b[0m\u001b[0m\n\u001b[1;32m      5\u001b[0m \u001b[0mX\u001b[0m \u001b[0;34m=\u001b[0m \u001b[0mdf\u001b[0m\u001b[0;34m.\u001b[0m\u001b[0mloc\u001b[0m\u001b[0;34m[\u001b[0m\u001b[0;34m:\u001b[0m\u001b[0;34m,\u001b[0m \u001b[0;34m~\u001b[0m\u001b[0mdf\u001b[0m\u001b[0;34m.\u001b[0m\u001b[0mcolumns\u001b[0m\u001b[0;34m.\u001b[0m\u001b[0misin\u001b[0m\u001b[0;34m(\u001b[0m\u001b[0;34m[\u001b[0m\u001b[0;34m'partner'\u001b[0m\u001b[0;34m,\u001b[0m \u001b[0;34m'cntry'\u001b[0m\u001b[0;34m,\u001b[0m \u001b[0;34m'idno'\u001b[0m\u001b[0;34m]\u001b[0m\u001b[0;34m)\u001b[0m\u001b[0;34m]\u001b[0m\u001b[0;34m\u001b[0m\u001b[0;34m\u001b[0m\u001b[0m\n",
        "\u001b[0;31mNameError\u001b[0m: name 'X' is not defined"
       ]
      }
     ],
     "persistentId": "843700a8-bb69-4827-be43-6cd87a36075c",
     "text": "# One hot code \"cntry\"\nX = pd.concat([X, pd.get_dummies(df['cntry'])], axis=1)\n\n# Drop unnecessary columns\nX = df.loc[:, ~df.columns.isin(['partner', 'cntry', 'idno'])]"
    },
    "executionTime": "2020-01-17T22:49:20.868Z"
   },
   {
    "cell": {
     "executionCount": 21,
     "executionEventId": "a3cddb83-b56a-4ec3-8db4-521b8d666ad4",
     "hasError": false,
     "id": "7d2a3309-6156-47c4-ab6d-f4c94d4b6d0c",
     "outputs": [],
     "persistentId": "843700a8-bb69-4827-be43-6cd87a36075c",
     "text": "# Drop unnecessary columns\nX = df.loc[:, ~df.columns.isin(['partner', 'cntry', 'idno'])]\n\n# One hot encode \"cntry\"\nX = pd.concat([X, pd.get_dummies(df['cntry'])], axis=1)"
    },
    "executionTime": "2020-01-17T22:49:45.064Z"
   },
   {
    "cell": {
     "executionCount": 22,
     "executionEventId": "3d86531e-10ed-4d4c-82d7-752b12edf3a6",
     "hasError": false,
     "id": "159a72ee-2243-4af7-8070-3947fcce9f48",
     "outputs": [
      {
       "data": {
        "text/html": "<div>\n<style scoped>\n    .dataframe tbody tr th:only-of-type {\n        vertical-align: middle;\n    }\n\n    .dataframe tbody tr th {\n        vertical-align: top;\n    }\n\n    .dataframe thead th {\n        text-align: right;\n    }\n</style>\n<table border=\"1\" class=\"dataframe\">\n  <thead>\n    <tr style=\"text-align: right;\">\n      <th></th>\n      <th>year</th>\n      <th>tvtot</th>\n      <th>ppltrst</th>\n      <th>pplfair</th>\n      <th>pplhlp</th>\n      <th>happy</th>\n      <th>sclmeet</th>\n      <th>sclact</th>\n      <th>gndr</th>\n      <th>agea</th>\n      <th>CH</th>\n      <th>CZ</th>\n      <th>DE</th>\n      <th>ES</th>\n      <th>NO</th>\n      <th>SE</th>\n    </tr>\n  </thead>\n  <tbody>\n    <tr>\n      <th>0</th>\n      <td>6</td>\n      <td>3.0</td>\n      <td>3.0</td>\n      <td>10.0</td>\n      <td>5.0</td>\n      <td>8.0</td>\n      <td>5.0</td>\n      <td>4.0</td>\n      <td>2.0</td>\n      <td>60.0</td>\n      <td>1</td>\n      <td>0</td>\n      <td>0</td>\n      <td>0</td>\n      <td>0</td>\n      <td>0</td>\n    </tr>\n    <tr>\n      <th>1</th>\n      <td>6</td>\n      <td>6.0</td>\n      <td>5.0</td>\n      <td>7.0</td>\n      <td>5.0</td>\n      <td>9.0</td>\n      <td>3.0</td>\n      <td>2.0</td>\n      <td>2.0</td>\n      <td>59.0</td>\n      <td>1</td>\n      <td>0</td>\n      <td>0</td>\n      <td>0</td>\n      <td>0</td>\n      <td>0</td>\n    </tr>\n    <tr>\n      <th>2</th>\n      <td>6</td>\n      <td>1.0</td>\n      <td>8.0</td>\n      <td>8.0</td>\n      <td>8.0</td>\n      <td>7.0</td>\n      <td>6.0</td>\n      <td>3.0</td>\n      <td>1.0</td>\n      <td>24.0</td>\n      <td>1</td>\n      <td>0</td>\n      <td>0</td>\n      <td>0</td>\n      <td>0</td>\n      <td>0</td>\n    </tr>\n    <tr>\n      <th>3</th>\n      <td>6</td>\n      <td>4.0</td>\n      <td>6.0</td>\n      <td>6.0</td>\n      <td>7.0</td>\n      <td>10.0</td>\n      <td>6.0</td>\n      <td>2.0</td>\n      <td>2.0</td>\n      <td>64.0</td>\n      <td>1</td>\n      <td>0</td>\n      <td>0</td>\n      <td>0</td>\n      <td>0</td>\n      <td>0</td>\n    </tr>\n    <tr>\n      <th>4</th>\n      <td>6</td>\n      <td>5.0</td>\n      <td>6.0</td>\n      <td>7.0</td>\n      <td>5.0</td>\n      <td>8.0</td>\n      <td>7.0</td>\n      <td>2.0</td>\n      <td>2.0</td>\n      <td>55.0</td>\n      <td>1</td>\n      <td>0</td>\n      <td>0</td>\n      <td>0</td>\n      <td>0</td>\n      <td>0</td>\n    </tr>\n    <tr>\n      <th>6</th>\n      <td>6</td>\n      <td>3.0</td>\n      <td>0.0</td>\n      <td>5.0</td>\n      <td>2.0</td>\n      <td>0.0</td>\n      <td>2.0</td>\n      <td>2.0</td>\n      <td>1.0</td>\n      <td>76.0</td>\n      <td>1</td>\n      <td>0</td>\n      <td>0</td>\n      <td>0</td>\n      <td>0</td>\n      <td>0</td>\n    </tr>\n    <tr>\n      <th>7</th>\n      <td>6</td>\n      <td>2.0</td>\n      <td>4.0</td>\n      <td>5.0</td>\n      <td>3.0</td>\n      <td>10.0</td>\n      <td>5.0</td>\n      <td>2.0</td>\n      <td>2.0</td>\n      <td>30.0</td>\n      <td>1</td>\n      <td>0</td>\n      <td>0</td>\n      <td>0</td>\n      <td>0</td>\n      <td>0</td>\n    </tr>\n    <tr>\n      <th>8</th>\n      <td>6</td>\n      <td>2.0</td>\n      <td>8.0</td>\n      <td>8.0</td>\n      <td>8.0</td>\n      <td>9.0</td>\n      <td>6.0</td>\n      <td>4.0</td>\n      <td>2.0</td>\n      <td>84.0</td>\n      <td>1</td>\n      <td>0</td>\n      <td>0</td>\n      <td>0</td>\n      <td>0</td>\n      <td>0</td>\n    </tr>\n    <tr>\n      <th>9</th>\n      <td>6</td>\n      <td>4.0</td>\n      <td>4.0</td>\n      <td>4.0</td>\n      <td>8.0</td>\n      <td>7.0</td>\n      <td>4.0</td>\n      <td>2.0</td>\n      <td>2.0</td>\n      <td>62.0</td>\n      <td>1</td>\n      <td>0</td>\n      <td>0</td>\n      <td>0</td>\n      <td>0</td>\n      <td>0</td>\n    </tr>\n    <tr>\n      <th>10</th>\n      <td>6</td>\n      <td>1.0</td>\n      <td>6.0</td>\n      <td>7.0</td>\n      <td>7.0</td>\n      <td>9.0</td>\n      <td>5.0</td>\n      <td>2.0</td>\n      <td>2.0</td>\n      <td>33.0</td>\n      <td>1</td>\n      <td>0</td>\n      <td>0</td>\n      <td>0</td>\n      <td>0</td>\n      <td>0</td>\n    </tr>\n    <tr>\n      <th>11</th>\n      <td>6</td>\n      <td>4.0</td>\n      <td>5.0</td>\n      <td>7.0</td>\n      <td>7.0</td>\n      <td>7.0</td>\n      <td>5.0</td>\n      <td>3.0</td>\n      <td>1.0</td>\n      <td>40.0</td>\n      <td>1</td>\n      <td>0</td>\n      <td>0</td>\n      <td>0</td>\n      <td>0</td>\n      <td>0</td>\n    </tr>\n    <tr>\n      <th>12</th>\n      <td>6</td>\n      <td>4.0</td>\n      <td>7.0</td>\n      <td>7.0</td>\n      <td>4.0</td>\n      <td>9.0</td>\n      <td>6.0</td>\n      <td>2.0</td>\n      <td>1.0</td>\n      <td>69.0</td>\n      <td>1</td>\n      <td>0</td>\n      <td>0</td>\n      <td>0</td>\n      <td>0</td>\n      <td>0</td>\n    </tr>\n    <tr>\n      <th>13</th>\n      <td>6</td>\n      <td>2.0</td>\n      <td>1.0</td>\n      <td>9.0</td>\n      <td>7.0</td>\n      <td>8.0</td>\n      <td>4.0</td>\n      <td>3.0</td>\n      <td>1.0</td>\n      <td>59.0</td>\n      <td>1</td>\n      <td>0</td>\n      <td>0</td>\n      <td>0</td>\n      <td>0</td>\n      <td>0</td>\n    </tr>\n    <tr>\n      <th>14</th>\n      <td>6</td>\n      <td>4.0</td>\n      <td>4.0</td>\n      <td>5.0</td>\n      <td>3.0</td>\n      <td>8.0</td>\n      <td>1.0</td>\n      <td>2.0</td>\n      <td>2.0</td>\n      <td>32.0</td>\n      <td>1</td>\n      <td>0</td>\n      <td>0</td>\n      <td>0</td>\n      <td>0</td>\n      <td>0</td>\n    </tr>\n    <tr>\n      <th>15</th>\n      <td>6</td>\n      <td>5.0</td>\n      <td>4.0</td>\n      <td>5.0</td>\n      <td>5.0</td>\n      <td>9.0</td>\n      <td>3.0</td>\n      <td>3.0</td>\n      <td>2.0</td>\n      <td>70.0</td>\n      <td>1</td>\n      <td>0</td>\n      <td>0</td>\n      <td>0</td>\n      <td>0</td>\n      <td>0</td>\n    </tr>\n    <tr>\n      <th>16</th>\n      <td>6</td>\n      <td>4.0</td>\n      <td>5.0</td>\n      <td>7.0</td>\n      <td>7.0</td>\n      <td>8.0</td>\n      <td>3.0</td>\n      <td>3.0</td>\n      <td>1.0</td>\n      <td>61.0</td>\n      <td>1</td>\n      <td>0</td>\n      <td>0</td>\n      <td>0</td>\n      <td>0</td>\n      <td>0</td>\n    </tr>\n    <tr>\n      <th>17</th>\n      <td>6</td>\n      <td>2.0</td>\n      <td>7.0</td>\n      <td>7.0</td>\n      <td>7.0</td>\n      <td>6.0</td>\n      <td>6.0</td>\n      <td>3.0</td>\n      <td>1.0</td>\n      <td>30.0</td>\n      <td>1</td>\n      <td>0</td>\n      <td>0</td>\n      <td>0</td>\n      <td>0</td>\n      <td>0</td>\n    </tr>\n    <tr>\n      <th>18</th>\n      <td>6</td>\n      <td>0.0</td>\n      <td>9.0</td>\n      <td>7.0</td>\n      <td>8.0</td>\n      <td>9.0</td>\n      <td>5.0</td>\n      <td>4.0</td>\n      <td>1.0</td>\n      <td>21.0</td>\n      <td>1</td>\n      <td>0</td>\n      <td>0</td>\n      <td>0</td>\n      <td>0</td>\n      <td>0</td>\n    </tr>\n    <tr>\n      <th>19</th>\n      <td>6</td>\n      <td>2.0</td>\n      <td>6.0</td>\n      <td>6.0</td>\n      <td>6.0</td>\n      <td>8.0</td>\n      <td>4.0</td>\n      <td>3.0</td>\n      <td>2.0</td>\n      <td>36.0</td>\n      <td>1</td>\n      <td>0</td>\n      <td>0</td>\n      <td>0</td>\n      <td>0</td>\n      <td>0</td>\n    </tr>\n    <tr>\n      <th>20</th>\n      <td>6</td>\n      <td>7.0</td>\n      <td>3.0</td>\n      <td>4.0</td>\n      <td>4.0</td>\n      <td>7.0</td>\n      <td>6.0</td>\n      <td>4.0</td>\n      <td>1.0</td>\n      <td>51.0</td>\n      <td>1</td>\n      <td>0</td>\n      <td>0</td>\n      <td>0</td>\n      <td>0</td>\n      <td>0</td>\n    </tr>\n    <tr>\n      <th>21</th>\n      <td>6</td>\n      <td>1.0</td>\n      <td>8.0</td>\n      <td>8.0</td>\n      <td>6.0</td>\n      <td>8.0</td>\n      <td>7.0</td>\n      <td>4.0</td>\n      <td>1.0</td>\n      <td>25.0</td>\n      <td>1</td>\n      <td>0</td>\n      <td>0</td>\n      <td>0</td>\n      <td>0</td>\n      <td>0</td>\n    </tr>\n    <tr>\n      <th>22</th>\n      <td>6</td>\n      <td>2.0</td>\n      <td>7.0</td>\n      <td>7.0</td>\n      <td>8.0</td>\n      <td>9.0</td>\n      <td>6.0</td>\n      <td>3.0</td>\n      <td>1.0</td>\n      <td>62.0</td>\n      <td>1</td>\n      <td>0</td>\n      <td>0</td>\n      <td>0</td>\n      <td>0</td>\n      <td>0</td>\n    </tr>\n    <tr>\n      <th>23</th>\n      <td>6</td>\n      <td>2.0</td>\n      <td>4.0</td>\n      <td>8.0</td>\n      <td>8.0</td>\n      <td>9.0</td>\n      <td>6.0</td>\n      <td>2.0</td>\n      <td>2.0</td>\n      <td>20.0</td>\n      <td>1</td>\n      <td>0</td>\n      <td>0</td>\n      <td>0</td>\n      <td>0</td>\n      <td>0</td>\n    </tr>\n    <tr>\n      <th>24</th>\n      <td>6</td>\n      <td>0.0</td>\n      <td>7.0</td>\n      <td>7.0</td>\n      <td>4.0</td>\n      <td>9.0</td>\n      <td>4.0</td>\n      <td>2.0</td>\n      <td>2.0</td>\n      <td>22.0</td>\n      <td>1</td>\n      <td>0</td>\n      <td>0</td>\n      <td>0</td>\n      <td>0</td>\n      <td>0</td>\n    </tr>\n    <tr>\n      <th>25</th>\n      <td>6</td>\n      <td>0.0</td>\n      <td>6.0</td>\n      <td>7.0</td>\n      <td>5.0</td>\n      <td>7.0</td>\n      <td>6.0</td>\n      <td>2.0</td>\n      <td>2.0</td>\n      <td>32.0</td>\n      <td>1</td>\n      <td>0</td>\n      <td>0</td>\n      <td>0</td>\n      <td>0</td>\n      <td>0</td>\n    </tr>\n    <tr>\n      <th>26</th>\n      <td>6</td>\n      <td>2.0</td>\n      <td>7.0</td>\n      <td>6.0</td>\n      <td>5.0</td>\n      <td>8.0</td>\n      <td>4.0</td>\n      <td>3.0</td>\n      <td>2.0</td>\n      <td>35.0</td>\n      <td>1</td>\n      <td>0</td>\n      <td>0</td>\n      <td>0</td>\n      <td>0</td>\n      <td>0</td>\n    </tr>\n    <tr>\n      <th>27</th>\n      <td>6</td>\n      <td>0.0</td>\n      <td>5.0</td>\n      <td>8.0</td>\n      <td>6.0</td>\n      <td>9.0</td>\n      <td>4.0</td>\n      <td>2.0</td>\n      <td>2.0</td>\n      <td>26.0</td>\n      <td>1</td>\n      <td>0</td>\n      <td>0</td>\n      <td>0</td>\n      <td>0</td>\n      <td>0</td>\n    </tr>\n    <tr>\n      <th>28</th>\n      <td>6</td>\n      <td>2.0</td>\n      <td>8.0</td>\n      <td>8.0</td>\n      <td>8.0</td>\n      <td>10.0</td>\n      <td>6.0</td>\n      <td>3.0</td>\n      <td>2.0</td>\n      <td>35.0</td>\n      <td>1</td>\n      <td>0</td>\n      <td>0</td>\n      <td>0</td>\n      <td>0</td>\n      <td>0</td>\n    </tr>\n    <tr>\n      <th>29</th>\n      <td>6</td>\n      <td>7.0</td>\n      <td>8.0</td>\n      <td>5.0</td>\n      <td>5.0</td>\n      <td>8.0</td>\n      <td>5.0</td>\n      <td>3.0</td>\n      <td>2.0</td>\n      <td>54.0</td>\n      <td>1</td>\n      <td>0</td>\n      <td>0</td>\n      <td>0</td>\n      <td>0</td>\n      <td>0</td>\n    </tr>\n    <tr>\n      <th>30</th>\n      <td>6</td>\n      <td>6.0</td>\n      <td>8.0</td>\n      <td>8.0</td>\n      <td>3.0</td>\n      <td>5.0</td>\n      <td>6.0</td>\n      <td>1.0</td>\n      <td>2.0</td>\n      <td>38.0</td>\n      <td>1</td>\n      <td>0</td>\n      <td>0</td>\n      <td>0</td>\n      <td>0</td>\n      <td>0</td>\n    </tr>\n    <tr>\n      <th>...</th>\n      <td>...</td>\n      <td>...</td>\n      <td>...</td>\n      <td>...</td>\n      <td>...</td>\n      <td>...</td>\n      <td>...</td>\n      <td>...</td>\n      <td>...</td>\n      <td>...</td>\n      <td>...</td>\n      <td>...</td>\n      <td>...</td>\n      <td>...</td>\n      <td>...</td>\n      <td>...</td>\n    </tr>\n    <tr>\n      <th>8564</th>\n      <td>7</td>\n      <td>2.0</td>\n      <td>1.0</td>\n      <td>5.0</td>\n      <td>4.0</td>\n      <td>10.0</td>\n      <td>7.0</td>\n      <td>4.0</td>\n      <td>1.0</td>\n      <td>17.0</td>\n      <td>0</td>\n      <td>0</td>\n      <td>0</td>\n      <td>0</td>\n      <td>0</td>\n      <td>1</td>\n    </tr>\n    <tr>\n      <th>8565</th>\n      <td>7</td>\n      <td>5.0</td>\n      <td>5.0</td>\n      <td>3.0</td>\n      <td>4.0</td>\n      <td>5.0</td>\n      <td>6.0</td>\n      <td>1.0</td>\n      <td>2.0</td>\n      <td>17.0</td>\n      <td>0</td>\n      <td>0</td>\n      <td>0</td>\n      <td>0</td>\n      <td>0</td>\n      <td>1</td>\n    </tr>\n    <tr>\n      <th>8566</th>\n      <td>7</td>\n      <td>2.0</td>\n      <td>7.0</td>\n      <td>8.0</td>\n      <td>6.0</td>\n      <td>8.0</td>\n      <td>7.0</td>\n      <td>3.0</td>\n      <td>2.0</td>\n      <td>17.0</td>\n      <td>0</td>\n      <td>0</td>\n      <td>0</td>\n      <td>0</td>\n      <td>0</td>\n      <td>1</td>\n    </tr>\n    <tr>\n      <th>8567</th>\n      <td>7</td>\n      <td>2.0</td>\n      <td>4.0</td>\n      <td>8.0</td>\n      <td>7.0</td>\n      <td>9.0</td>\n      <td>7.0</td>\n      <td>4.0</td>\n      <td>2.0</td>\n      <td>17.0</td>\n      <td>0</td>\n      <td>0</td>\n      <td>0</td>\n      <td>0</td>\n      <td>0</td>\n      <td>1</td>\n    </tr>\n    <tr>\n      <th>8568</th>\n      <td>7</td>\n      <td>1.0</td>\n      <td>2.0</td>\n      <td>8.0</td>\n      <td>6.0</td>\n      <td>9.0</td>\n      <td>7.0</td>\n      <td>3.0</td>\n      <td>2.0</td>\n      <td>17.0</td>\n      <td>0</td>\n      <td>0</td>\n      <td>0</td>\n      <td>0</td>\n      <td>0</td>\n      <td>1</td>\n    </tr>\n    <tr>\n      <th>8569</th>\n      <td>7</td>\n      <td>6.0</td>\n      <td>5.0</td>\n      <td>3.0</td>\n      <td>4.0</td>\n      <td>9.0</td>\n      <td>6.0</td>\n      <td>4.0</td>\n      <td>1.0</td>\n      <td>17.0</td>\n      <td>0</td>\n      <td>0</td>\n      <td>0</td>\n      <td>0</td>\n      <td>0</td>\n      <td>1</td>\n    </tr>\n    <tr>\n      <th>8570</th>\n      <td>7</td>\n      <td>1.0</td>\n      <td>5.0</td>\n      <td>7.0</td>\n      <td>7.0</td>\n      <td>8.0</td>\n      <td>7.0</td>\n      <td>4.0</td>\n      <td>1.0</td>\n      <td>16.0</td>\n      <td>0</td>\n      <td>0</td>\n      <td>0</td>\n      <td>0</td>\n      <td>0</td>\n      <td>1</td>\n    </tr>\n    <tr>\n      <th>8571</th>\n      <td>7</td>\n      <td>3.0</td>\n      <td>4.0</td>\n      <td>9.0</td>\n      <td>7.0</td>\n      <td>8.0</td>\n      <td>6.0</td>\n      <td>3.0</td>\n      <td>1.0</td>\n      <td>16.0</td>\n      <td>0</td>\n      <td>0</td>\n      <td>0</td>\n      <td>0</td>\n      <td>0</td>\n      <td>1</td>\n    </tr>\n    <tr>\n      <th>8572</th>\n      <td>7</td>\n      <td>5.0</td>\n      <td>7.0</td>\n      <td>8.0</td>\n      <td>5.0</td>\n      <td>8.0</td>\n      <td>3.0</td>\n      <td>1.0</td>\n      <td>1.0</td>\n      <td>16.0</td>\n      <td>0</td>\n      <td>0</td>\n      <td>0</td>\n      <td>0</td>\n      <td>0</td>\n      <td>1</td>\n    </tr>\n    <tr>\n      <th>8573</th>\n      <td>7</td>\n      <td>1.0</td>\n      <td>8.0</td>\n      <td>8.0</td>\n      <td>6.0</td>\n      <td>9.0</td>\n      <td>7.0</td>\n      <td>3.0</td>\n      <td>2.0</td>\n      <td>16.0</td>\n      <td>0</td>\n      <td>0</td>\n      <td>0</td>\n      <td>0</td>\n      <td>0</td>\n      <td>1</td>\n    </tr>\n    <tr>\n      <th>8574</th>\n      <td>7</td>\n      <td>1.0</td>\n      <td>4.0</td>\n      <td>5.0</td>\n      <td>6.0</td>\n      <td>7.0</td>\n      <td>7.0</td>\n      <td>3.0</td>\n      <td>2.0</td>\n      <td>16.0</td>\n      <td>0</td>\n      <td>0</td>\n      <td>0</td>\n      <td>0</td>\n      <td>0</td>\n      <td>1</td>\n    </tr>\n    <tr>\n      <th>8575</th>\n      <td>7</td>\n      <td>3.0</td>\n      <td>8.0</td>\n      <td>7.0</td>\n      <td>7.0</td>\n      <td>8.0</td>\n      <td>7.0</td>\n      <td>3.0</td>\n      <td>1.0</td>\n      <td>16.0</td>\n      <td>0</td>\n      <td>0</td>\n      <td>0</td>\n      <td>0</td>\n      <td>0</td>\n      <td>1</td>\n    </tr>\n    <tr>\n      <th>8576</th>\n      <td>7</td>\n      <td>4.0</td>\n      <td>5.0</td>\n      <td>4.0</td>\n      <td>4.0</td>\n      <td>7.0</td>\n      <td>6.0</td>\n      <td>3.0</td>\n      <td>1.0</td>\n      <td>16.0</td>\n      <td>0</td>\n      <td>0</td>\n      <td>0</td>\n      <td>0</td>\n      <td>0</td>\n      <td>1</td>\n    </tr>\n    <tr>\n      <th>8577</th>\n      <td>7</td>\n      <td>6.0</td>\n      <td>6.0</td>\n      <td>9.0</td>\n      <td>7.0</td>\n      <td>5.0</td>\n      <td>4.0</td>\n      <td>2.0</td>\n      <td>2.0</td>\n      <td>16.0</td>\n      <td>0</td>\n      <td>0</td>\n      <td>0</td>\n      <td>0</td>\n      <td>0</td>\n      <td>1</td>\n    </tr>\n    <tr>\n      <th>8578</th>\n      <td>7</td>\n      <td>1.0</td>\n      <td>5.0</td>\n      <td>5.0</td>\n      <td>5.0</td>\n      <td>7.0</td>\n      <td>5.0</td>\n      <td>4.0</td>\n      <td>2.0</td>\n      <td>16.0</td>\n      <td>0</td>\n      <td>0</td>\n      <td>0</td>\n      <td>0</td>\n      <td>0</td>\n      <td>1</td>\n    </tr>\n    <tr>\n      <th>8579</th>\n      <td>7</td>\n      <td>2.0</td>\n      <td>8.0</td>\n      <td>9.0</td>\n      <td>7.0</td>\n      <td>9.0</td>\n      <td>7.0</td>\n      <td>3.0</td>\n      <td>2.0</td>\n      <td>16.0</td>\n      <td>0</td>\n      <td>0</td>\n      <td>0</td>\n      <td>0</td>\n      <td>0</td>\n      <td>1</td>\n    </tr>\n    <tr>\n      <th>8580</th>\n      <td>7</td>\n      <td>4.0</td>\n      <td>7.0</td>\n      <td>8.0</td>\n      <td>5.0</td>\n      <td>10.0</td>\n      <td>4.0</td>\n      <td>1.0</td>\n      <td>1.0</td>\n      <td>16.0</td>\n      <td>0</td>\n      <td>0</td>\n      <td>0</td>\n      <td>0</td>\n      <td>0</td>\n      <td>1</td>\n    </tr>\n    <tr>\n      <th>8581</th>\n      <td>7</td>\n      <td>1.0</td>\n      <td>6.0</td>\n      <td>7.0</td>\n      <td>6.0</td>\n      <td>8.0</td>\n      <td>6.0</td>\n      <td>3.0</td>\n      <td>1.0</td>\n      <td>16.0</td>\n      <td>0</td>\n      <td>0</td>\n      <td>0</td>\n      <td>0</td>\n      <td>0</td>\n      <td>1</td>\n    </tr>\n    <tr>\n      <th>8582</th>\n      <td>7</td>\n      <td>6.0</td>\n      <td>7.0</td>\n      <td>7.0</td>\n      <td>6.0</td>\n      <td>8.0</td>\n      <td>7.0</td>\n      <td>3.0</td>\n      <td>1.0</td>\n      <td>16.0</td>\n      <td>0</td>\n      <td>0</td>\n      <td>0</td>\n      <td>0</td>\n      <td>0</td>\n      <td>1</td>\n    </tr>\n    <tr>\n      <th>8583</th>\n      <td>7</td>\n      <td>2.0</td>\n      <td>6.0</td>\n      <td>8.0</td>\n      <td>5.0</td>\n      <td>10.0</td>\n      <td>6.0</td>\n      <td>5.0</td>\n      <td>1.0</td>\n      <td>16.0</td>\n      <td>0</td>\n      <td>0</td>\n      <td>0</td>\n      <td>0</td>\n      <td>0</td>\n      <td>1</td>\n    </tr>\n    <tr>\n      <th>8584</th>\n      <td>7</td>\n      <td>2.0</td>\n      <td>8.0</td>\n      <td>10.0</td>\n      <td>6.0</td>\n      <td>9.0</td>\n      <td>6.0</td>\n      <td>2.0</td>\n      <td>1.0</td>\n      <td>16.0</td>\n      <td>0</td>\n      <td>0</td>\n      <td>0</td>\n      <td>0</td>\n      <td>0</td>\n      <td>1</td>\n    </tr>\n    <tr>\n      <th>8585</th>\n      <td>7</td>\n      <td>1.0</td>\n      <td>3.0</td>\n      <td>6.0</td>\n      <td>4.0</td>\n      <td>9.0</td>\n      <td>7.0</td>\n      <td>3.0</td>\n      <td>1.0</td>\n      <td>16.0</td>\n      <td>0</td>\n      <td>0</td>\n      <td>0</td>\n      <td>0</td>\n      <td>0</td>\n      <td>1</td>\n    </tr>\n    <tr>\n      <th>8586</th>\n      <td>7</td>\n      <td>2.0</td>\n      <td>4.0</td>\n      <td>6.0</td>\n      <td>3.0</td>\n      <td>7.0</td>\n      <td>7.0</td>\n      <td>3.0</td>\n      <td>2.0</td>\n      <td>15.0</td>\n      <td>0</td>\n      <td>0</td>\n      <td>0</td>\n      <td>0</td>\n      <td>0</td>\n      <td>1</td>\n    </tr>\n    <tr>\n      <th>8587</th>\n      <td>7</td>\n      <td>4.0</td>\n      <td>4.0</td>\n      <td>6.0</td>\n      <td>7.0</td>\n      <td>9.0</td>\n      <td>7.0</td>\n      <td>3.0</td>\n      <td>1.0</td>\n      <td>15.0</td>\n      <td>0</td>\n      <td>0</td>\n      <td>0</td>\n      <td>0</td>\n      <td>0</td>\n      <td>1</td>\n    </tr>\n    <tr>\n      <th>8588</th>\n      <td>7</td>\n      <td>1.0</td>\n      <td>6.0</td>\n      <td>5.0</td>\n      <td>5.0</td>\n      <td>10.0</td>\n      <td>7.0</td>\n      <td>2.0</td>\n      <td>1.0</td>\n      <td>15.0</td>\n      <td>0</td>\n      <td>0</td>\n      <td>0</td>\n      <td>0</td>\n      <td>0</td>\n      <td>1</td>\n    </tr>\n    <tr>\n      <th>8589</th>\n      <td>7</td>\n      <td>3.0</td>\n      <td>4.0</td>\n      <td>5.0</td>\n      <td>3.0</td>\n      <td>6.0</td>\n      <td>6.0</td>\n      <td>2.0</td>\n      <td>1.0</td>\n      <td>18.0</td>\n      <td>0</td>\n      <td>0</td>\n      <td>0</td>\n      <td>0</td>\n      <td>0</td>\n      <td>1</td>\n    </tr>\n    <tr>\n      <th>8590</th>\n      <td>7</td>\n      <td>5.0</td>\n      <td>6.0</td>\n      <td>4.0</td>\n      <td>4.0</td>\n      <td>10.0</td>\n      <td>6.0</td>\n      <td>3.0</td>\n      <td>1.0</td>\n      <td>15.0</td>\n      <td>0</td>\n      <td>0</td>\n      <td>0</td>\n      <td>0</td>\n      <td>0</td>\n      <td>1</td>\n    </tr>\n    <tr>\n      <th>8591</th>\n      <td>7</td>\n      <td>4.0</td>\n      <td>5.0</td>\n      <td>7.0</td>\n      <td>6.0</td>\n      <td>8.0</td>\n      <td>6.0</td>\n      <td>3.0</td>\n      <td>1.0</td>\n      <td>44.0</td>\n      <td>0</td>\n      <td>0</td>\n      <td>0</td>\n      <td>0</td>\n      <td>0</td>\n      <td>1</td>\n    </tr>\n    <tr>\n      <th>8592</th>\n      <td>7</td>\n      <td>5.0</td>\n      <td>8.0</td>\n      <td>8.0</td>\n      <td>6.0</td>\n      <td>9.0</td>\n      <td>7.0</td>\n      <td>3.0</td>\n      <td>1.0</td>\n      <td>15.0</td>\n      <td>0</td>\n      <td>0</td>\n      <td>0</td>\n      <td>0</td>\n      <td>0</td>\n      <td>1</td>\n    </tr>\n    <tr>\n      <th>8593</th>\n      <td>7</td>\n      <td>2.0</td>\n      <td>6.0</td>\n      <td>7.0</td>\n      <td>5.0</td>\n      <td>7.0</td>\n      <td>7.0</td>\n      <td>4.0</td>\n      <td>2.0</td>\n      <td>15.0</td>\n      <td>0</td>\n      <td>0</td>\n      <td>0</td>\n      <td>0</td>\n      <td>0</td>\n      <td>1</td>\n    </tr>\n  </tbody>\n</table>\n<p>8147 rows × 16 columns</p>\n</div>",
        "text/plain": "      year  tvtot  ppltrst  pplfair  pplhlp  happy  sclmeet  sclact  gndr  \\\n0        6    3.0      3.0     10.0     5.0    8.0      5.0     4.0   2.0   \n1        6    6.0      5.0      7.0     5.0    9.0      3.0     2.0   2.0   \n2        6    1.0      8.0      8.0     8.0    7.0      6.0     3.0   1.0   \n3        6    4.0      6.0      6.0     7.0   10.0      6.0     2.0   2.0   \n4        6    5.0      6.0      7.0     5.0    8.0      7.0     2.0   2.0   \n6        6    3.0      0.0      5.0     2.0    0.0      2.0     2.0   1.0   \n7        6    2.0      4.0      5.0     3.0   10.0      5.0     2.0   2.0   \n8        6    2.0      8.0      8.0     8.0    9.0      6.0     4.0   2.0   \n9        6    4.0      4.0      4.0     8.0    7.0      4.0     2.0   2.0   \n10       6    1.0      6.0      7.0     7.0    9.0      5.0     2.0   2.0   \n11       6    4.0      5.0      7.0     7.0    7.0      5.0     3.0   1.0   \n12       6    4.0      7.0      7.0     4.0    9.0      6.0     2.0   1.0   \n13       6    2.0      1.0      9.0     7.0    8.0      4.0     3.0   1.0   \n14       6    4.0      4.0      5.0     3.0    8.0      1.0     2.0   2.0   \n15       6    5.0      4.0      5.0     5.0    9.0      3.0     3.0   2.0   \n16       6    4.0      5.0      7.0     7.0    8.0      3.0     3.0   1.0   \n17       6    2.0      7.0      7.0     7.0    6.0      6.0     3.0   1.0   \n18       6    0.0      9.0      7.0     8.0    9.0      5.0     4.0   1.0   \n19       6    2.0      6.0      6.0     6.0    8.0      4.0     3.0   2.0   \n20       6    7.0      3.0      4.0     4.0    7.0      6.0     4.0   1.0   \n21       6    1.0      8.0      8.0     6.0    8.0      7.0     4.0   1.0   \n22       6    2.0      7.0      7.0     8.0    9.0      6.0     3.0   1.0   \n23       6    2.0      4.0      8.0     8.0    9.0      6.0     2.0   2.0   \n24       6    0.0      7.0      7.0     4.0    9.0      4.0     2.0   2.0   \n25       6    0.0      6.0      7.0     5.0    7.0      6.0     2.0   2.0   \n26       6    2.0      7.0      6.0     5.0    8.0      4.0     3.0   2.0   \n27       6    0.0      5.0      8.0     6.0    9.0      4.0     2.0   2.0   \n28       6    2.0      8.0      8.0     8.0   10.0      6.0     3.0   2.0   \n29       6    7.0      8.0      5.0     5.0    8.0      5.0     3.0   2.0   \n30       6    6.0      8.0      8.0     3.0    5.0      6.0     1.0   2.0   \n...    ...    ...      ...      ...     ...    ...      ...     ...   ...   \n8564     7    2.0      1.0      5.0     4.0   10.0      7.0     4.0   1.0   \n8565     7    5.0      5.0      3.0     4.0    5.0      6.0     1.0   2.0   \n8566     7    2.0      7.0      8.0     6.0    8.0      7.0     3.0   2.0   \n8567     7    2.0      4.0      8.0     7.0    9.0      7.0     4.0   2.0   \n8568     7    1.0      2.0      8.0     6.0    9.0      7.0     3.0   2.0   \n8569     7    6.0      5.0      3.0     4.0    9.0      6.0     4.0   1.0   \n8570     7    1.0      5.0      7.0     7.0    8.0      7.0     4.0   1.0   \n8571     7    3.0      4.0      9.0     7.0    8.0      6.0     3.0   1.0   \n8572     7    5.0      7.0      8.0     5.0    8.0      3.0     1.0   1.0   \n8573     7    1.0      8.0      8.0     6.0    9.0      7.0     3.0   2.0   \n8574     7    1.0      4.0      5.0     6.0    7.0      7.0     3.0   2.0   \n8575     7    3.0      8.0      7.0     7.0    8.0      7.0     3.0   1.0   \n8576     7    4.0      5.0      4.0     4.0    7.0      6.0     3.0   1.0   \n8577     7    6.0      6.0      9.0     7.0    5.0      4.0     2.0   2.0   \n8578     7    1.0      5.0      5.0     5.0    7.0      5.0     4.0   2.0   \n8579     7    2.0      8.0      9.0     7.0    9.0      7.0     3.0   2.0   \n8580     7    4.0      7.0      8.0     5.0   10.0      4.0     1.0   1.0   \n8581     7    1.0      6.0      7.0     6.0    8.0      6.0     3.0   1.0   \n8582     7    6.0      7.0      7.0     6.0    8.0      7.0     3.0   1.0   \n8583     7    2.0      6.0      8.0     5.0   10.0      6.0     5.0   1.0   \n8584     7    2.0      8.0     10.0     6.0    9.0      6.0     2.0   1.0   \n8585     7    1.0      3.0      6.0     4.0    9.0      7.0     3.0   1.0   \n8586     7    2.0      4.0      6.0     3.0    7.0      7.0     3.0   2.0   \n8587     7    4.0      4.0      6.0     7.0    9.0      7.0     3.0   1.0   \n8588     7    1.0      6.0      5.0     5.0   10.0      7.0     2.0   1.0   \n8589     7    3.0      4.0      5.0     3.0    6.0      6.0     2.0   1.0   \n8590     7    5.0      6.0      4.0     4.0   10.0      6.0     3.0   1.0   \n8591     7    4.0      5.0      7.0     6.0    8.0      6.0     3.0   1.0   \n8592     7    5.0      8.0      8.0     6.0    9.0      7.0     3.0   1.0   \n8593     7    2.0      6.0      7.0     5.0    7.0      7.0     4.0   2.0   \n\n      agea  CH  CZ  DE  ES  NO  SE  \n0     60.0   1   0   0   0   0   0  \n1     59.0   1   0   0   0   0   0  \n2     24.0   1   0   0   0   0   0  \n3     64.0   1   0   0   0   0   0  \n4     55.0   1   0   0   0   0   0  \n6     76.0   1   0   0   0   0   0  \n7     30.0   1   0   0   0   0   0  \n8     84.0   1   0   0   0   0   0  \n9     62.0   1   0   0   0   0   0  \n10    33.0   1   0   0   0   0   0  \n11    40.0   1   0   0   0   0   0  \n12    69.0   1   0   0   0   0   0  \n13    59.0   1   0   0   0   0   0  \n14    32.0   1   0   0   0   0   0  \n15    70.0   1   0   0   0   0   0  \n16    61.0   1   0   0   0   0   0  \n17    30.0   1   0   0   0   0   0  \n18    21.0   1   0   0   0   0   0  \n19    36.0   1   0   0   0   0   0  \n20    51.0   1   0   0   0   0   0  \n21    25.0   1   0   0   0   0   0  \n22    62.0   1   0   0   0   0   0  \n23    20.0   1   0   0   0   0   0  \n24    22.0   1   0   0   0   0   0  \n25    32.0   1   0   0   0   0   0  \n26    35.0   1   0   0   0   0   0  \n27    26.0   1   0   0   0   0   0  \n28    35.0   1   0   0   0   0   0  \n29    54.0   1   0   0   0   0   0  \n30    38.0   1   0   0   0   0   0  \n...    ...  ..  ..  ..  ..  ..  ..  \n8564  17.0   0   0   0   0   0   1  \n8565  17.0   0   0   0   0   0   1  \n8566  17.0   0   0   0   0   0   1  \n8567  17.0   0   0   0   0   0   1  \n8568  17.0   0   0   0   0   0   1  \n8569  17.0   0   0   0   0   0   1  \n8570  16.0   0   0   0   0   0   1  \n8571  16.0   0   0   0   0   0   1  \n8572  16.0   0   0   0   0   0   1  \n8573  16.0   0   0   0   0   0   1  \n8574  16.0   0   0   0   0   0   1  \n8575  16.0   0   0   0   0   0   1  \n8576  16.0   0   0   0   0   0   1  \n8577  16.0   0   0   0   0   0   1  \n8578  16.0   0   0   0   0   0   1  \n8579  16.0   0   0   0   0   0   1  \n8580  16.0   0   0   0   0   0   1  \n8581  16.0   0   0   0   0   0   1  \n8582  16.0   0   0   0   0   0   1  \n8583  16.0   0   0   0   0   0   1  \n8584  16.0   0   0   0   0   0   1  \n8585  16.0   0   0   0   0   0   1  \n8586  15.0   0   0   0   0   0   1  \n8587  15.0   0   0   0   0   0   1  \n8588  15.0   0   0   0   0   0   1  \n8589  18.0   0   0   0   0   0   1  \n8590  15.0   0   0   0   0   0   1  \n8591  44.0   0   0   0   0   0   1  \n8592  15.0   0   0   0   0   0   1  \n8593  15.0   0   0   0   0   0   1  \n\n[8147 rows x 16 columns]"
       },
       "execution_count": 22,
       "metadata": {},
       "output_type": "execute_result"
      }
     ],
     "persistentId": "d43a56d3-70b2-43d2-b000-b8e99012542a",
     "text": "X"
    },
    "executionTime": "2020-01-17T22:52:03.891Z"
   },
   {
    "cell": {
     "executionCount": 23,
     "executionEventId": "c770bf77-db4e-40df-a8e8-95dca8069cda",
     "hasError": false,
     "id": "159a72ee-2243-4af7-8070-3947fcce9f48",
     "outputs": [
      {
       "data": {
        "text/plain": "0       0.0\n1       0.0\n2       1.0\n3       0.0\n4       0.0\n6       0.0\n7       0.0\n8       1.0\n9       0.0\n10      0.0\n11      0.0\n12      0.0\n13      1.0\n14      0.0\n15      0.0\n16      0.0\n17      0.0\n18      1.0\n19      0.0\n20      0.0\n21      1.0\n22      0.0\n23      1.0\n24      0.0\n25      0.0\n26      0.0\n27      0.0\n28      0.0\n29      0.0\n30      1.0\n       ... \n8564    1.0\n8565    1.0\n8566    1.0\n8567    1.0\n8568    1.0\n8569    1.0\n8570    1.0\n8571    1.0\n8572    1.0\n8573    1.0\n8574    1.0\n8575    1.0\n8576    1.0\n8577    1.0\n8578    1.0\n8579    1.0\n8580    1.0\n8581    1.0\n8582    1.0\n8583    1.0\n8584    1.0\n8585    1.0\n8586    1.0\n8587    1.0\n8588    1.0\n8589    1.0\n8590    1.0\n8591    1.0\n8592    1.0\n8593    1.0\nName: partner, Length: 8147, dtype: float64"
       },
       "execution_count": 23,
       "metadata": {},
       "output_type": "execute_result"
      }
     ],
     "persistentId": "d43a56d3-70b2-43d2-b000-b8e99012542a",
     "text": "y"
    },
    "executionTime": "2020-01-17T22:52:26.849Z"
   },
   {
    "cell": {
     "executionCount": 24,
     "executionEventId": "4b00b63d-4502-437a-a242-be79652300d8",
     "hasError": false,
     "id": "47bd2775-f20b-4124-96f5-5950165ee8d9",
     "outputs": [
      {
       "data": {
        "text/html": "<div>\n<style scoped>\n    .dataframe tbody tr th:only-of-type {\n        vertical-align: middle;\n    }\n\n    .dataframe tbody tr th {\n        vertical-align: top;\n    }\n\n    .dataframe thead th {\n        text-align: right;\n    }\n</style>\n<table border=\"1\" class=\"dataframe\">\n  <thead>\n    <tr style=\"text-align: right;\">\n      <th></th>\n      <th>total</th>\n      <th>percent</th>\n    </tr>\n  </thead>\n  <tbody>\n  </tbody>\n</table>\n</div>",
        "text/plain": "Empty DataFrame\nColumns: [total, percent]\nIndex: []"
       },
       "execution_count": 24,
       "metadata": {},
       "output_type": "execute_result"
      }
     ],
     "persistentId": "0c346781-b832-4257-b97c-71f1adbaeb36",
     "text": "# Count missing values\ntotal = raw.isnull().sum().sort_values(ascending=False)\npercent = (raw.isnull().sum() / raw.isnull().count()).sort_values(ascending=False)\nmissing = pd.concat([total, percent], axis=1, keys=[\"total\", \"percent\"])\nmissing = missing.loc[missing[\"total\"] > 0, :]\n\nmissing"
    },
    "executionTime": "2020-01-17T22:53:25.481Z"
   },
   {
    "cell": {
     "executionCount": 25,
     "executionEventId": "e1b95cdf-a133-417a-a791-26f662ab0556",
     "hasError": false,
     "id": "fc6e7aa4-57c2-475e-81da-18d2ca5d85e2",
     "outputs": [
      {
       "data": {
        "text/html": "<div>\n<style scoped>\n    .dataframe tbody tr th:only-of-type {\n        vertical-align: middle;\n    }\n\n    .dataframe tbody tr th {\n        vertical-align: top;\n    }\n\n    .dataframe thead th {\n        text-align: right;\n    }\n</style>\n<table border=\"1\" class=\"dataframe\">\n  <thead>\n    <tr style=\"text-align: right;\">\n      <th></th>\n      <th>total</th>\n      <th>percent</th>\n    </tr>\n  </thead>\n  <tbody>\n  </tbody>\n</table>\n</div>",
        "text/plain": "Empty DataFrame\nColumns: [total, percent]\nIndex: []"
       },
       "execution_count": 25,
       "metadata": {},
       "output_type": "execute_result"
      }
     ],
     "persistentId": "bcdd4773-a5fd-4758-98c7-f284fbff9964",
     "text": "# Count missing values\ntotal = raw.isnull().sum().sort_values(ascending=False)\npercent = (raw.isnull().sum() / raw.isnull().count()).sort_values(ascending=False)\nmissing = pd.concat([total, percent], axis=1, keys=[\"total\", \"percent\"])\nmissing = missing.loc[missing[\"total\"] > 0, :]\n\nmissing"
    },
    "executionTime": "2020-01-17T22:54:11.261Z"
   },
   {
    "cell": {
     "executionCount": 26,
     "executionEventId": "b4a695d3-10db-4754-ac1a-7ac834204827",
     "hasError": false,
     "id": "dfeb6603-a4c1-43f1-889a-ca42d5851820",
     "outputs": [],
     "persistentId": "a966a020-ead8-4d12-9bad-d6bff86cf6e4",
     "text": "### Variable descriptions"
    },
    "executionTime": "2020-01-17T22:54:59.019Z"
   },
   {
    "cell": {
     "executionCount": 27,
     "executionEventId": "051cb296-2c24-46e3-85ca-809f9c00e159",
     "hasError": false,
     "id": "486dd32d-a6ca-46cf-adfe-6bb528db9a23",
     "outputs": [
      {
       "data": {
        "text/html": "<div>\n<style scoped>\n    .dataframe tbody tr th:only-of-type {\n        vertical-align: middle;\n    }\n\n    .dataframe tbody tr th {\n        vertical-align: top;\n    }\n\n    .dataframe thead th {\n        text-align: right;\n    }\n</style>\n<table border=\"1\" class=\"dataframe\">\n  <thead>\n    <tr style=\"text-align: right;\">\n      <th></th>\n      <th>total</th>\n      <th>percent</th>\n    </tr>\n  </thead>\n  <tbody>\n  </tbody>\n</table>\n</div>",
        "text/plain": "Empty DataFrame\nColumns: [total, percent]\nIndex: []"
       },
       "execution_count": 27,
       "metadata": {},
       "output_type": "execute_result"
      }
     ],
     "persistentId": "b49586a8-61ac-4a68-b9c4-18a3202dae1e",
     "text": "# Count missing values\ntotal = raw.isnull().sum().sort_values(ascending=False)\npercent = (raw.isnull().sum() / raw.isnull().count()).sort_values(ascending=False)\nmissing = pd.concat([total, percent], axis=1, keys=[\"total\", \"percent\"])\nmissing = missing.loc[missing[\"total\"] > 0, :]\n\nmissing"
    },
    "executionTime": "2020-01-17T23:01:36.066Z"
   },
   {
    "cell": {
     "executionCount": 28,
     "executionEventId": "9f8f5c4b-3013-41dc-accc-a2656f473a12",
     "hasError": false,
     "id": "75748e5f-23ea-4f6c-a0f5-d76ca1998fc5",
     "outputs": [],
     "persistentId": "18e042dd-9e2b-4bfe-8e5c-018ba4226a2e",
     "text": "from sklearn.model_selection import train_test_split\n\nX_train, X_test, y_train, y_test = train_test_split(\n    X, y, test_size=0.2, random_state=465\n)"
    },
    "executionTime": "2020-01-17T23:04:30.775Z"
   },
   {
    "cell": {
     "executionCount": 29,
     "executionEventId": "4acfd86f-52f9-4c0c-9f74-cdbc6e60edd0",
     "hasError": false,
     "id": "0b70ec04-cb46-49f5-9ac4-e6fd1426e28f",
     "outputs": [
      {
       "data": {
        "text/plain": "(6517, 16)"
       },
       "execution_count": 29,
       "metadata": {},
       "output_type": "execute_result"
      }
     ],
     "persistentId": "8f300786-0f5a-478c-a4ed-6b7c8486a688",
     "text": "X_train.shape"
    },
    "executionTime": "2020-01-17T23:04:36.038Z"
   },
   {
    "cell": {
     "executionCount": 30,
     "executionEventId": "be5d4562-7b13-4767-a51d-fbf90a793605",
     "hasError": false,
     "id": "014f7c0c-2afe-4edb-90c4-5af6a23acc41",
     "outputs": [
      {
       "data": {
        "text/plain": "(1630, 16)"
       },
       "execution_count": 30,
       "metadata": {},
       "output_type": "execute_result"
      }
     ],
     "persistentId": "61b3f1b7-2098-4701-a314-5fc180843be4",
     "text": "X_test.shape"
    },
    "executionTime": "2020-01-17T23:04:40.232Z"
   },
   {
    "cell": {
     "executionCount": 31,
     "executionEventId": "f18f9fa6-bad0-45b9-aa07-1f35befc5eda",
     "hasError": true,
     "id": "7746fba2-e96f-472b-b712-7c13e281e285",
     "outputs": [
      {
       "ename": "NameError",
       "evalue": "name 'GradientBoostingClassifier' is not defined",
       "output_type": "error",
       "traceback": [
        "\u001b[0;31m---------------------------------------------------------------------------\u001b[0m",
        "\u001b[0;31mNameError\u001b[0m                                 Traceback (most recent call last)",
        "\u001b[0;32m<ipython-input-31-93c7db518e11>\u001b[0m in \u001b[0;36m<module>\u001b[0;34m\u001b[0m\n\u001b[0;32m----> 1\u001b[0;31m classifier = GradientBoostingClassifier(\n\u001b[0m\u001b[1;32m      2\u001b[0m     \u001b[0mn_estimators\u001b[0m\u001b[0;34m=\u001b[0m\u001b[0;36m500\u001b[0m\u001b[0;34m,\u001b[0m \u001b[0mlearning_rate\u001b[0m\u001b[0;34m=\u001b[0m\u001b[0;36m1.0\u001b[0m\u001b[0;34m,\u001b[0m \u001b[0mmax_depth\u001b[0m\u001b[0;34m=\u001b[0m\u001b[0;36m2\u001b[0m\u001b[0;34m,\u001b[0m \u001b[0mrandom_state\u001b[0m\u001b[0;34m=\u001b[0m\u001b[0;36m0\u001b[0m\u001b[0;34m\u001b[0m\u001b[0;34m\u001b[0m\u001b[0m\n\u001b[1;32m      3\u001b[0m ).fit(X_train, y_train)\n",
        "\u001b[0;31mNameError\u001b[0m: name 'GradientBoostingClassifier' is not defined"
       ]
      }
     ],
     "persistentId": "5ee9e2e6-8137-4871-8052-c05ac6ca624e",
     "text": "classifier = GradientBoostingClassifier(\n    n_estimators=500, learning_rate=1.0, max_depth=2, random_state=0\n).fit(X_train, y_train)"
    },
    "executionTime": "2020-01-17T23:08:19.508Z"
   },
   {
    "cell": {
     "executionCount": 32,
     "executionEventId": "f474081d-d0fc-4bf6-a12e-b3d38e65c953",
     "hasError": false,
     "id": "7746fba2-e96f-472b-b712-7c13e281e285",
     "outputs": [],
     "persistentId": "5ee9e2e6-8137-4871-8052-c05ac6ca624e",
     "text": "from sklearn.ensemble import GradientBoostingClassifier\n\nclassifier = GradientBoostingClassifier(\n    n_estimators=500, learning_rate=1.0, max_depth=2, random_state=0\n).fit(X_train, y_train)"
    },
    "executionTime": "2020-01-17T23:08:31.954Z"
   },
   {
    "cell": {
     "executionCount": 33,
     "executionEventId": "1187f52a-04f0-41b1-8884-8ba8e12cee98",
     "hasError": false,
     "id": "dd6a30b7-a806-4c10-a77e-26e0383ad71e",
     "outputs": [
      {
       "data": {
        "text/plain": "0.7515337423312883"
       },
       "execution_count": 33,
       "metadata": {},
       "output_type": "execute_result"
      }
     ],
     "persistentId": "f79b5132-424a-4cb7-bf2a-b985a78cda6f",
     "text": "classifier.score(X_test, y_test)"
    },
    "executionTime": "2020-01-17T23:08:54.226Z"
   },
   {
    "cell": {
     "executionCount": 34,
     "executionEventId": "71aa3688-c8e1-4063-86f2-d9da1e6afe6f",
     "hasError": false,
     "id": "7746fba2-e96f-472b-b712-7c13e281e285",
     "outputs": [],
     "persistentId": "5ee9e2e6-8137-4871-8052-c05ac6ca624e",
     "text": "from sklearn.ensemble import GradientBoostingClassifier\n\nclassifier = GradientBoostingClassifier(\n    n_estimators=500, learning_rate=1.0, max_depth=2, random_state=0\n).fit(X_train, y_train)"
    },
    "executionTime": "2020-01-17T23:14:26.646Z"
   },
   {
    "cell": {
     "executionCount": 35,
     "executionEventId": "bc358e21-4639-4f73-b9e5-f85a66aa2b2c",
     "hasError": false,
     "id": "95f6c673-43fb-480d-bbd4-230d9eb3da06",
     "outputs": [
      {
       "data": {
        "text/plain": "array([0.71932515, 0.69631902, 0.72852761, 0.72699387, 0.75613497,\n       0.73159509, 0.72852761, 0.74961598, 0.70506912, 0.74654378])"
       },
       "execution_count": 35,
       "metadata": {},
       "output_type": "execute_result"
      }
     ],
     "persistentId": "675da059-eb63-48c2-8e59-7f8174031a8d",
     "text": "from sklearn.model_selection import cross_val_score\n\ncross_val_score(classifier, X_train, y_train, cv=10, n_jobs=-1)"
    },
    "executionTime": "2020-01-17T23:15:03.965Z"
   },
   {
    "cell": {
     "executionCount": 36,
     "executionEventId": "2b4bd697-0e51-4530-a888-fd2c6f8ebf84",
     "hasError": false,
     "id": "7746fba2-e96f-472b-b712-7c13e281e285",
     "outputs": [],
     "persistentId": "5ee9e2e6-8137-4871-8052-c05ac6ca624e",
     "text": "from sklearn.ensemble import GradientBoostingClassifier\n\nclassifier = GradientBoostingClassifier(\n    n_estimators=500, learning_rate=1.0, max_depth=2, loss=\"deviance\", random_state=0\n).fit(X_train, y_train)"
    },
    "executionTime": "2020-01-17T23:18:19.313Z"
   },
   {
    "cell": {
     "executionCount": 37,
     "executionEventId": "42a6875a-e3b0-4e70-8801-2e87f0e3006b",
     "hasError": false,
     "id": "95f6c673-43fb-480d-bbd4-230d9eb3da06",
     "outputs": [
      {
       "data": {
        "text/plain": "array([0.71932515, 0.69631902, 0.72852761, 0.72699387, 0.75613497,\n       0.73159509, 0.72852761, 0.74961598, 0.70506912, 0.74654378])"
       },
       "execution_count": 37,
       "metadata": {},
       "output_type": "execute_result"
      }
     ],
     "persistentId": "675da059-eb63-48c2-8e59-7f8174031a8d",
     "text": "from sklearn.model_selection import cross_val_score\n\ncross_val_score(classifier, X_train, y_train, cv=10, n_jobs=-1)"
    },
    "executionTime": "2020-01-17T23:19:19.242Z"
   },
   {
    "cell": {
     "executionCount": 38,
     "executionEventId": "53857132-de1d-4b9e-b3aa-5f5c83c56b72",
     "hasError": false,
     "id": "22c4e062-e695-4c03-b689-42bb2324f051",
     "outputs": [
      {
       "data": {
        "text/plain": "<function sklearn.model_selection._validation.cross_val_score(estimator, X, y=None, groups=None, scoring=None, cv='warn', n_jobs=None, verbose=0, fit_params=None, pre_dispatch='2*n_jobs', error_score='raise-deprecating')>"
       },
       "execution_count": 38,
       "metadata": {},
       "output_type": "execute_result"
      }
     ],
     "persistentId": "3c66268a-34af-4e2a-8eb7-cc94b97769ff",
     "text": "cross_val_score"
    },
    "executionTime": "2020-01-17T23:20:51.047Z"
   },
   {
    "cell": {
     "executionCount": 39,
     "executionEventId": "862a29dc-205e-476f-b94d-f55830a8de9c",
     "hasError": true,
     "id": "22c4e062-e695-4c03-b689-42bb2324f051",
     "outputs": [
      {
       "ename": "AttributeError",
       "evalue": "'function' object has no attribute 'mean'",
       "output_type": "error",
       "traceback": [
        "\u001b[0;31m---------------------------------------------------------------------------\u001b[0m",
        "\u001b[0;31mAttributeError\u001b[0m                            Traceback (most recent call last)",
        "\u001b[0;32m<ipython-input-39-c777ca6085fa>\u001b[0m in \u001b[0;36m<module>\u001b[0;34m\u001b[0m\n\u001b[0;32m----> 1\u001b[0;31m \u001b[0mcross_val_score\u001b[0m\u001b[0;34m.\u001b[0m\u001b[0mmean\u001b[0m\u001b[0;34m(\u001b[0m\u001b[0;34m)\u001b[0m\u001b[0;34m\u001b[0m\u001b[0;34m\u001b[0m\u001b[0m\n\u001b[0m",
        "\u001b[0;31mAttributeError\u001b[0m: 'function' object has no attribute 'mean'"
       ]
      }
     ],
     "persistentId": "3c66268a-34af-4e2a-8eb7-cc94b97769ff",
     "text": "cross_val_score.mean()"
    },
    "executionTime": "2020-01-17T23:20:53.531Z"
   },
   {
    "cell": {
     "executionCount": 40,
     "executionEventId": "5bf39f34-ae89-45fd-93ae-15f3a64a9c4a",
     "hasError": false,
     "id": "22c4e062-e695-4c03-b689-42bb2324f051",
     "outputs": [
      {
       "data": {
        "text/plain": "<function sklearn.model_selection._validation.cross_val_score(estimator, X, y=None, groups=None, scoring=None, cv='warn', n_jobs=None, verbose=0, fit_params=None, pre_dispatch='2*n_jobs', error_score='raise-deprecating')>"
       },
       "execution_count": 40,
       "metadata": {},
       "output_type": "execute_result"
      }
     ],
     "persistentId": "3c66268a-34af-4e2a-8eb7-cc94b97769ff",
     "text": "cross_val_score"
    },
    "executionTime": "2020-01-17T23:20:57.736Z"
   },
   {
    "cell": {
     "executionCount": 41,
     "executionEventId": "f95406f6-49e0-4be0-87bf-b92502ab9192",
     "hasError": true,
     "id": "22c4e062-e695-4c03-b689-42bb2324f051",
     "outputs": [
      {
       "ename": "AttributeError",
       "evalue": "'function' object has no attribute 'tolist'",
       "output_type": "error",
       "traceback": [
        "\u001b[0;31m---------------------------------------------------------------------------\u001b[0m",
        "\u001b[0;31mAttributeError\u001b[0m                            Traceback (most recent call last)",
        "\u001b[0;32m<ipython-input-41-f60487b34b6c>\u001b[0m in \u001b[0;36m<module>\u001b[0;34m\u001b[0m\n\u001b[0;32m----> 1\u001b[0;31m \u001b[0mcross_val_score\u001b[0m\u001b[0;34m.\u001b[0m\u001b[0mtolist\u001b[0m\u001b[0;34m(\u001b[0m\u001b[0;34m)\u001b[0m\u001b[0;34m\u001b[0m\u001b[0;34m\u001b[0m\u001b[0m\n\u001b[0m",
        "\u001b[0;31mAttributeError\u001b[0m: 'function' object has no attribute 'tolist'"
       ]
      }
     ],
     "persistentId": "3c66268a-34af-4e2a-8eb7-cc94b97769ff",
     "text": "cross_val_score.tolist()"
    },
    "executionTime": "2020-01-17T23:21:07.962Z"
   },
   {
    "cell": {
     "executionCount": 42,
     "executionEventId": "c1fe4754-2c6e-417f-9c8b-4da624bbc6f4",
     "hasError": false,
     "id": "95f6c673-43fb-480d-bbd4-230d9eb3da06",
     "outputs": [
      {
       "name": "stdout",
       "output_type": "stream",
       "text": "\n"
      }
     ],
     "persistentId": "675da059-eb63-48c2-8e59-7f8174031a8d",
     "text": "from sklearn.model_selection import cross_val_score\n\nscores = cross_val_score(classifier, X_train, y_train, cv=10, n_jobs=-1)\n\nprint()"
    },
    "executionTime": "2020-01-17T23:21:21.482Z"
   },
   {
    "cell": {
     "executionCount": 43,
     "executionEventId": "dc2b41eb-4c24-4d0f-8672-92ab10f23b71",
     "hasError": false,
     "id": "95f6c673-43fb-480d-bbd4-230d9eb3da06",
     "outputs": [
      {
       "name": "stdout",
       "output_type": "stream",
       "text": "Accuracy over 10 folds: [0.71932515 0.69631902 0.72852761 0.72699387 0.75613497 0.73159509\n 0.72852761 0.74961598 0.70506912 0.74654378]; \n Mean accuracy: [0.71932515 0.69631902 0.72852761 0.72699387 0.75613497 0.73159509\n 0.72852761 0.74961598 0.70506912 0.74654378].\n"
      }
     ],
     "persistentId": "675da059-eb63-48c2-8e59-7f8174031a8d",
     "text": "from sklearn.model_selection import cross_val_score\n\nscores = cross_val_score(classifier, X_train, y_train, cv=10, n_jobs=-1)\n\nprint(\"Accuracy over 10 folds: {}; \\n Mean accuracy: {}.\".format(scores, scores))"
    },
    "executionTime": "2020-01-17T23:22:03.368Z"
   },
   {
    "cell": {
     "executionCount": 44,
     "executionEventId": "835790f4-30a3-49a0-bbf5-075426198ebe",
     "hasError": false,
     "id": "6dd74973-6a72-44cf-a5ac-3df8f43ad894",
     "outputs": [
      {
       "data": {
        "text/plain": "0.7288652191531669"
       },
       "execution_count": 44,
       "metadata": {},
       "output_type": "execute_result"
      }
     ],
     "persistentId": "4a5eb0cc-9788-4177-bf08-baa7470856d0",
     "text": "scores.mean()"
    },
    "executionTime": "2020-01-17T23:22:09.370Z"
   },
   {
    "cell": {
     "executionCount": 45,
     "executionEventId": "992cc686-12d3-4b47-a075-2f88e264b1e4",
     "hasError": false,
     "id": "95f6c673-43fb-480d-bbd4-230d9eb3da06",
     "outputs": [
      {
       "name": "stdout",
       "output_type": "stream",
       "text": "Accuracy over 10 folds: [0.71932515 0.69631902 0.72852761 0.72699387 0.75613497 0.73159509\n 0.72852761 0.74961598 0.70506912 0.74654378]; \n Mean accuracy: 0.7288652191531669.\n"
      }
     ],
     "persistentId": "675da059-eb63-48c2-8e59-7f8174031a8d",
     "text": "from sklearn.model_selection import cross_val_score\n\nscores = cross_val_score(classifier, X_train, y_train, cv=10, n_jobs=-1)\n\nprint(\"Accuracy over 10 folds: {}; \\n Mean accuracy: {}.\".format(scores, scores.mean()))"
    },
    "executionTime": "2020-01-17T23:22:17.101Z"
   },
   {
    "cell": {
     "executionCount": 46,
     "executionEventId": "6ccf7414-c3c1-4783-87e7-03c6087eec41",
     "hasError": false,
     "id": "95f6c673-43fb-480d-bbd4-230d9eb3da06",
     "outputs": [
      {
       "name": "stdout",
       "output_type": "stream",
       "text": "Accuracy over 10 folds: [0.71932515 0.69631902 0.72852761 0.72699387 0.75613497 0.73159509\n 0.72852761 0.74961598 0.70506912 0.74654378]; mean accuracy: 0.7288652191531669.\n"
      }
     ],
     "persistentId": "675da059-eb63-48c2-8e59-7f8174031a8d",
     "text": "from sklearn.model_selection import cross_val_score\n\nscores = cross_val_score(classifier, X_train, y_train, cv=10, n_jobs=-1)\n\nprint(\"Accuracy over 10 folds: {}; mean accuracy: {}.\".format(scores, scores.mean()))"
    },
    "executionTime": "2020-01-17T23:22:43.274Z"
   },
   {
    "cell": {
     "executionCount": 47,
     "executionEventId": "9ba0c851-48cd-476a-ba29-82be2be501a3",
     "hasError": false,
     "id": "95f6c673-43fb-480d-bbd4-230d9eb3da06",
     "outputs": [
      {
       "name": "stdout",
       "output_type": "stream",
       "text": "Accuracy in each of the 10 folds: [0.71932515 0.69631902 0.72852761 0.72699387 0.75613497 0.73159509\n 0.72852761 0.74961598 0.70506912 0.74654378]; mean accuracy: 0.7288652191531669.\n"
      }
     ],
     "persistentId": "675da059-eb63-48c2-8e59-7f8174031a8d",
     "text": "from sklearn.model_selection import cross_val_score\n\nscores = cross_val_score(classifier, X_train, y_train, cv=10, n_jobs=-1)\n\nprint(\"Accuracy in each of the 10 folds: {}; mean accuracy: {}.\".format(scores, scores.mean()))"
    },
    "executionTime": "2020-01-17T23:22:54.183Z"
   },
   {
    "cell": {
     "executionCount": 48,
     "executionEventId": "9e16359b-cc2b-4da6-be85-df346a9ca791",
     "hasError": true,
     "id": "cea6abe8-46d2-46e8-9aea-7b1b81bc9e72",
     "outputs": [
      {
       "ename": "NameError",
       "evalue": "name 'confusion_matrix' is not defined",
       "output_type": "error",
       "traceback": [
        "\u001b[0;31m---------------------------------------------------------------------------\u001b[0m",
        "\u001b[0;31mNameError\u001b[0m                                 Traceback (most recent call last)",
        "\u001b[0;32m<ipython-input-48-a0476ab4a470>\u001b[0m in \u001b[0;36m<module>\u001b[0;34m\u001b[0m\n\u001b[1;32m      3\u001b[0m \u001b[0;34m\u001b[0m\u001b[0m\n\u001b[1;32m      4\u001b[0m \u001b[0;31m# Evaluate predictions against actual ratings\u001b[0m\u001b[0;34m\u001b[0m\u001b[0;34m\u001b[0m\u001b[0;34m\u001b[0m\u001b[0m\n\u001b[0;32m----> 5\u001b[0;31m \u001b[0mcm\u001b[0m \u001b[0;34m=\u001b[0m \u001b[0mconfusion_matrix\u001b[0m\u001b[0;34m(\u001b[0m\u001b[0my_test\u001b[0m\u001b[0;34m,\u001b[0m \u001b[0my_pred\u001b[0m\u001b[0;34m)\u001b[0m\u001b[0;34m\u001b[0m\u001b[0;34m\u001b[0m\u001b[0m\n\u001b[0m\u001b[1;32m      6\u001b[0m \u001b[0;34m\u001b[0m\u001b[0m\n\u001b[1;32m      7\u001b[0m \u001b[0mprint\u001b[0m\u001b[0;34m(\u001b[0m\u001b[0;34m\"Confusion matrix: \\n{}\\n\"\u001b[0m\u001b[0;34m.\u001b[0m\u001b[0mformat\u001b[0m\u001b[0;34m(\u001b[0m\u001b[0mcm\u001b[0m\u001b[0;34m)\u001b[0m\u001b[0;34m)\u001b[0m\u001b[0;34m\u001b[0m\u001b[0;34m\u001b[0m\u001b[0m\n",
        "\u001b[0;31mNameError\u001b[0m: name 'confusion_matrix' is not defined"
       ]
      }
     ],
     "persistentId": "45cab3c9-c1c0-4738-9852-857ffec92670",
     "text": "# Predict recipe ratings for the testing data\ny_pred = classifier.predict(X_test)\n\n# Evaluate predictions against actual ratings\ncm = confusion_matrix(y_test, y_pred)\n\nprint(\"Confusion matrix: \\n{}\\n\".format(cm))\nprint(\n    \"Accuracy is {} with {} components.\".format(\n        accuracy_score(y_test, y_pred), n_components\n    )\n)"
    },
    "executionTime": "2020-01-17T23:23:40.496Z"
   },
   {
    "cell": {
     "executionCount": 49,
     "executionEventId": "cc2ad4cb-6b14-42e9-ba52-134dd0a8d069",
     "hasError": false,
     "id": "262d9c79-405c-4000-8edc-84d37b1c52c3",
     "outputs": [],
     "persistentId": "32d37337-d65c-4e4b-993d-609414c9071f",
     "text": "y_pred = classifier.predict(X_test)"
    },
    "executionTime": "2020-01-17T23:23:59.229Z"
   },
   {
    "cell": {
     "executionCount": 50,
     "executionEventId": "9d91c93d-2dbe-4237-8f79-b2c88f74cb6a",
     "hasError": false,
     "id": "265493bf-b843-45d2-85c5-7140eb67a9b7",
     "outputs": [
      {
       "data": {
        "text/plain": "array([1., 1., 0., ..., 1., 0., 0.])"
       },
       "execution_count": 50,
       "metadata": {},
       "output_type": "execute_result"
      }
     ],
     "persistentId": "03eb051a-2c6b-41da-96c3-fe1d9ba16ef6",
     "text": "y_pred"
    },
    "executionTime": "2020-01-17T23:24:05.195Z"
   },
   {
    "cell": {
     "executionCount": 51,
     "executionEventId": "71b82f34-97a7-4369-a120-468ad8ff7f7f",
     "hasError": true,
     "id": "cea6abe8-46d2-46e8-9aea-7b1b81bc9e72",
     "outputs": [
      {
       "name": "stdout",
       "output_type": "stream",
       "text": "Confusion matrix: \n[[881 135]\n [270 344]]\n\n"
      },
      {
       "ename": "NameError",
       "evalue": "name 'accuracy_score' is not defined",
       "output_type": "error",
       "traceback": [
        "\u001b[0;31m---------------------------------------------------------------------------\u001b[0m",
        "\u001b[0;31mNameError\u001b[0m                                 Traceback (most recent call last)",
        "\u001b[0;32m<ipython-input-51-014bb2ebf844>\u001b[0m in \u001b[0;36m<module>\u001b[0;34m\u001b[0m\n\u001b[1;32m     10\u001b[0m print(\n\u001b[1;32m     11\u001b[0m     \"Accuracy is {} with {} components.\".format(\n\u001b[0;32m---> 12\u001b[0;31m         \u001b[0maccuracy_score\u001b[0m\u001b[0;34m(\u001b[0m\u001b[0my_test\u001b[0m\u001b[0;34m,\u001b[0m \u001b[0my_pred\u001b[0m\u001b[0;34m)\u001b[0m\u001b[0;34m,\u001b[0m \u001b[0mn_components\u001b[0m\u001b[0;34m\u001b[0m\u001b[0;34m\u001b[0m\u001b[0m\n\u001b[0m\u001b[1;32m     13\u001b[0m     )\n\u001b[1;32m     14\u001b[0m )\n",
        "\u001b[0;31mNameError\u001b[0m: name 'accuracy_score' is not defined"
       ]
      }
     ],
     "persistentId": "45cab3c9-c1c0-4738-9852-857ffec92670",
     "text": "from sklearn.metrics import confusion_matrix\n\n# Predict partner status for the testing data\ny_pred = classifier.predict(X_test)\n\n# Evaluate predictions against actual outcomes\ncm = confusion_matrix(y_test, y_pred)\n\nprint(\"Confusion matrix: \\n{}\\n\".format(cm))\nprint(\n    \"Accuracy is {} with {} components.\".format(\n        accuracy_score(y_test, y_pred), n_components\n    )\n)"
    },
    "executionTime": "2020-01-17T23:26:06.051Z"
   },
   {
    "cell": {
     "executionCount": 52,
     "executionEventId": "ffdda0f2-c3b4-4268-aa9a-b8f178d6cdfe",
     "hasError": true,
     "id": "cea6abe8-46d2-46e8-9aea-7b1b81bc9e72",
     "outputs": [
      {
       "name": "stdout",
       "output_type": "stream",
       "text": "Confusion matrix: \n[[881 135]\n [270 344]]\n\n"
      },
      {
       "ename": "NameError",
       "evalue": "name 'n_components' is not defined",
       "output_type": "error",
       "traceback": [
        "\u001b[0;31m---------------------------------------------------------------------------\u001b[0m",
        "\u001b[0;31mNameError\u001b[0m                                 Traceback (most recent call last)",
        "\u001b[0;32m<ipython-input-52-ebedc0a6aac7>\u001b[0m in \u001b[0;36m<module>\u001b[0;34m\u001b[0m\n\u001b[1;32m     10\u001b[0m print(\n\u001b[1;32m     11\u001b[0m     \"Accuracy is {} with {} components.\".format(\n\u001b[0;32m---> 12\u001b[0;31m         \u001b[0maccuracy_score\u001b[0m\u001b[0;34m(\u001b[0m\u001b[0my_test\u001b[0m\u001b[0;34m,\u001b[0m \u001b[0my_pred\u001b[0m\u001b[0;34m)\u001b[0m\u001b[0;34m,\u001b[0m \u001b[0mn_components\u001b[0m\u001b[0;34m\u001b[0m\u001b[0;34m\u001b[0m\u001b[0m\n\u001b[0m\u001b[1;32m     13\u001b[0m     )\n\u001b[1;32m     14\u001b[0m )\n",
        "\u001b[0;31mNameError\u001b[0m: name 'n_components' is not defined"
       ]
      }
     ],
     "persistentId": "45cab3c9-c1c0-4738-9852-857ffec92670",
     "text": "from sklearn.metrics import confusion_matrix, accuracy_score\n\n# Predict partner status for the testing data\ny_pred = classifier.predict(X_test)\n\n# Evaluate predictions against actual outcomes\ncm = confusion_matrix(y_test, y_pred)\n\nprint(\"Confusion matrix: \\n{}\\n\".format(cm))\nprint(\n    \"Accuracy is {} with {} components.\".format(\n        accuracy_score(y_test, y_pred), n_components\n    )\n)"
    },
    "executionTime": "2020-01-17T23:26:20.186Z"
   },
   {
    "cell": {
     "executionCount": 53,
     "executionEventId": "ab2b3728-6374-4f02-bc0a-3d80c6aeffa3",
     "hasError": false,
     "id": "cea6abe8-46d2-46e8-9aea-7b1b81bc9e72",
     "outputs": [
      {
       "name": "stdout",
       "output_type": "stream",
       "text": "Confusion matrix: \n[[881 135]\n [270 344]]\n\nAccuracy is 0.7515337423312883.\n"
      }
     ],
     "persistentId": "45cab3c9-c1c0-4738-9852-857ffec92670",
     "text": "from sklearn.metrics import confusion_matrix, accuracy_score\n\n# Predict partner status for the testing data\ny_pred = classifier.predict(X_test)\n\n# Evaluate predictions against actual outcomes\ncm = confusion_matrix(y_test, y_pred)\n\nprint(\"Confusion matrix: \\n{}\\n\".format(cm))\nprint(\"Accuracy is {}.\".format(accuracy_score(y_test, y_pred)))"
    },
    "executionTime": "2020-01-17T23:26:45.994Z"
   },
   {
    "cell": {
     "executionCount": 1,
     "executionEventId": "69ac23fc-fb9a-4539-942a-2c3aa61b63a7",
     "hasError": false,
     "id": "df1a6efd-6b36-45f5-a032-58e2f4de53c4",
     "outputs": [],
     "persistentId": "3c3858dd-3341-43ba-a2cf-4bdb1b75bb07",
     "text": "# Import libraries\nimport pandas as pd\nimport numpy as np\nimport scipy\nimport matplotlib.pyplot as plt\n\n%matplotlib inline\n\nfrom sklearn import ensemble\nfrom sklearn.model_selection import train_test_split\nfrom sklearn.ensemble import GradientBoostingClassifier\nfrom sklearn.metrics import confusion_matrix, accuracy_score"
    },
    "executionTime": "2020-01-17T23:30:12.756Z"
   },
   {
    "cell": {
     "executionCount": 2,
     "executionEventId": "5fce9ad3-aed0-491a-a2d3-8517f4feef52",
     "hasError": false,
     "id": "78b85835-5761-4dee-abee-db4b24f1012b",
     "outputs": [],
     "persistentId": "4eb6b472-2938-4780-abc3-5928fa6fc954",
     "text": "# Read data\nraw = pd.read_csv(\n    (\n        \"https://raw.githubusercontent.com/Thinkful-Ed/data-201-resources/\"\n        \"master/ESS_practice_data/ESSdata_Thinkful.csv\"\n    )\n).dropna()"
    },
    "executionTime": "2020-01-17T23:30:13.362Z"
   },
   {
    "cell": {
     "executionCount": 3,
     "executionEventId": "c700c5bf-8515-4979-ac73-c486af968c2e",
     "hasError": false,
     "id": "54a3a660-caa2-49c4-b890-37c7da69c6bf",
     "outputs": [
      {
       "data": {
        "text/html": "<div>\n<style scoped>\n    .dataframe tbody tr th:only-of-type {\n        vertical-align: middle;\n    }\n\n    .dataframe tbody tr th {\n        vertical-align: top;\n    }\n\n    .dataframe thead th {\n        text-align: right;\n    }\n</style>\n<table border=\"1\" class=\"dataframe\">\n  <thead>\n    <tr style=\"text-align: right;\">\n      <th></th>\n      <th>cntry</th>\n      <th>idno</th>\n      <th>year</th>\n      <th>tvtot</th>\n      <th>ppltrst</th>\n      <th>pplfair</th>\n      <th>pplhlp</th>\n      <th>happy</th>\n      <th>sclmeet</th>\n      <th>sclact</th>\n      <th>gndr</th>\n      <th>agea</th>\n      <th>partner</th>\n    </tr>\n  </thead>\n  <tbody>\n    <tr>\n      <th>0</th>\n      <td>CH</td>\n      <td>5.0</td>\n      <td>6</td>\n      <td>3.0</td>\n      <td>3.0</td>\n      <td>10.0</td>\n      <td>5.0</td>\n      <td>8.0</td>\n      <td>5.0</td>\n      <td>4.0</td>\n      <td>2.0</td>\n      <td>60.0</td>\n      <td>1.0</td>\n    </tr>\n    <tr>\n      <th>1</th>\n      <td>CH</td>\n      <td>25.0</td>\n      <td>6</td>\n      <td>6.0</td>\n      <td>5.0</td>\n      <td>7.0</td>\n      <td>5.0</td>\n      <td>9.0</td>\n      <td>3.0</td>\n      <td>2.0</td>\n      <td>2.0</td>\n      <td>59.0</td>\n      <td>1.0</td>\n    </tr>\n    <tr>\n      <th>2</th>\n      <td>CH</td>\n      <td>26.0</td>\n      <td>6</td>\n      <td>1.0</td>\n      <td>8.0</td>\n      <td>8.0</td>\n      <td>8.0</td>\n      <td>7.0</td>\n      <td>6.0</td>\n      <td>3.0</td>\n      <td>1.0</td>\n      <td>24.0</td>\n      <td>2.0</td>\n    </tr>\n    <tr>\n      <th>3</th>\n      <td>CH</td>\n      <td>28.0</td>\n      <td>6</td>\n      <td>4.0</td>\n      <td>6.0</td>\n      <td>6.0</td>\n      <td>7.0</td>\n      <td>10.0</td>\n      <td>6.0</td>\n      <td>2.0</td>\n      <td>2.0</td>\n      <td>64.0</td>\n      <td>1.0</td>\n    </tr>\n    <tr>\n      <th>4</th>\n      <td>CH</td>\n      <td>29.0</td>\n      <td>6</td>\n      <td>5.0</td>\n      <td>6.0</td>\n      <td>7.0</td>\n      <td>5.0</td>\n      <td>8.0</td>\n      <td>7.0</td>\n      <td>2.0</td>\n      <td>2.0</td>\n      <td>55.0</td>\n      <td>1.0</td>\n    </tr>\n  </tbody>\n</table>\n</div>",
        "text/plain": "  cntry  idno  year  tvtot  ppltrst  pplfair  pplhlp  happy  sclmeet  sclact  \\\n0    CH   5.0     6    3.0      3.0     10.0     5.0    8.0      5.0     4.0   \n1    CH  25.0     6    6.0      5.0      7.0     5.0    9.0      3.0     2.0   \n2    CH  26.0     6    1.0      8.0      8.0     8.0    7.0      6.0     3.0   \n3    CH  28.0     6    4.0      6.0      6.0     7.0   10.0      6.0     2.0   \n4    CH  29.0     6    5.0      6.0      7.0     5.0    8.0      7.0     2.0   \n\n   gndr  agea  partner  \n0   2.0  60.0      1.0  \n1   2.0  59.0      1.0  \n2   1.0  24.0      2.0  \n3   2.0  64.0      1.0  \n4   2.0  55.0      1.0  "
       },
       "execution_count": 3,
       "metadata": {},
       "output_type": "execute_result"
      }
     ],
     "persistentId": "90a2e875-4e77-4362-b9c7-26cef0ae3b24",
     "text": "# A few rows\nraw.head()"
    },
    "executionTime": "2020-01-17T23:30:13.389Z"
   },
   {
    "cell": {
     "executionCount": 4,
     "executionEventId": "eff0e7ed-5876-46e2-979c-2728e511cec2",
     "hasError": false,
     "id": "1f1fd045-f31f-4a7d-bdb6-e8809382f689",
     "outputs": [
      {
       "data": {
        "text/plain": "(8147, 13)"
       },
       "execution_count": 4,
       "metadata": {},
       "output_type": "execute_result"
      }
     ],
     "persistentId": "fa80d10a-5f1c-4db6-9f61-2708575e247f",
     "text": "# Dimensions\nraw.shape"
    },
    "executionTime": "2020-01-17T23:30:13.437Z"
   },
   {
    "cell": {
     "executionCount": 5,
     "executionEventId": "e606cac3-5078-4265-9ec4-7d18c999dffc",
     "hasError": false,
     "id": "486dd32d-a6ca-46cf-adfe-6bb528db9a23",
     "outputs": [
      {
       "data": {
        "text/html": "<div>\n<style scoped>\n    .dataframe tbody tr th:only-of-type {\n        vertical-align: middle;\n    }\n\n    .dataframe tbody tr th {\n        vertical-align: top;\n    }\n\n    .dataframe thead th {\n        text-align: right;\n    }\n</style>\n<table border=\"1\" class=\"dataframe\">\n  <thead>\n    <tr style=\"text-align: right;\">\n      <th></th>\n      <th>total</th>\n      <th>percent</th>\n    </tr>\n  </thead>\n  <tbody>\n  </tbody>\n</table>\n</div>",
        "text/plain": "Empty DataFrame\nColumns: [total, percent]\nIndex: []"
       },
       "execution_count": 5,
       "metadata": {},
       "output_type": "execute_result"
      }
     ],
     "persistentId": "b49586a8-61ac-4a68-b9c4-18a3202dae1e",
     "text": "# Count missing values\ntotal = raw.isnull().sum().sort_values(ascending=False)\npercent = (raw.isnull().sum() / raw.isnull().count()).sort_values(ascending=False)\nmissing = pd.concat([total, percent], axis=1, keys=[\"total\", \"percent\"])\nmissing = missing.loc[missing[\"total\"] > 0, :]\n\nmissing"
    },
    "executionTime": "2020-01-17T23:30:13.444Z"
   },
   {
    "cell": {
     "executionCount": 6,
     "executionEventId": "3cc32b14-5bf6-495e-b3d2-b78a5bfe10c8",
     "hasError": false,
     "id": "62e18404-be39-484c-ba36-f09857583d6d",
     "outputs": [],
     "persistentId": "4a77c131-761f-43a2-940b-2e1d0041b20a",
     "text": "# Create a copy of the original data\ndf = raw.copy()\n\n# Recode 1 and 2 to 0 and 1\ny = df[\"partner\"] - 1"
    },
    "executionTime": "2020-01-17T23:30:13.486Z"
   },
   {
    "cell": {
     "executionCount": 7,
     "executionEventId": "20b33987-aa3a-450f-90a7-43a9fea175a8",
     "hasError": false,
     "id": "7d2a3309-6156-47c4-ab6d-f4c94d4b6d0c",
     "outputs": [],
     "persistentId": "843700a8-bb69-4827-be43-6cd87a36075c",
     "text": "# Drop unnecessary columns\nX = df.loc[:, ~df.columns.isin([\"partner\", \"cntry\", \"idno\"])]\n\n# One hot encode \"cntry\"\nX = pd.concat([X, pd.get_dummies(df[\"cntry\"])], axis=1)"
    },
    "executionTime": "2020-01-17T23:30:13.507Z"
   },
   {
    "cell": {
     "executionCount": 8,
     "executionEventId": "d86b3f1e-d828-461a-9cea-7f54a3a5e389",
     "hasError": false,
     "id": "75748e5f-23ea-4f6c-a0f5-d76ca1998fc5",
     "outputs": [],
     "persistentId": "18e042dd-9e2b-4bfe-8e5c-018ba4226a2e",
     "text": "X_train, X_test, y_train, y_test = train_test_split(\n    X, y, test_size=0.2, random_state=465\n)"
    },
    "executionTime": "2020-01-17T23:30:13.519Z"
   },
   {
    "cell": {
     "executionCount": 9,
     "executionEventId": "700f6522-8371-4d7b-8eb3-ca708c04f6a7",
     "hasError": false,
     "id": "05556968-48f1-490c-8259-823bd4935660",
     "outputs": [],
     "persistentId": "a415aed2-529c-4a64-883b-f85a747baffb",
     "text": "from sklearn.preprocessing import StandardScaler\n\nscaler = StandardScaler()\nX_train = scaler.fit_transform(X_train)\nX_test = scaler.fit_transform(X_test)"
    },
    "executionTime": "2020-01-17T23:30:13.534Z"
   },
   {
    "cell": {
     "executionCount": 10,
     "executionEventId": "433ab6d7-001a-4eca-bd0a-7d8be12bef80",
     "hasError": false,
     "id": "7746fba2-e96f-472b-b712-7c13e281e285",
     "outputs": [],
     "persistentId": "5ee9e2e6-8137-4871-8052-c05ac6ca624e",
     "text": "classifier = GradientBoostingClassifier(\n    n_estimators=500, learning_rate=1.0, max_depth=2, loss=\"deviance\", random_state=0\n).fit(X_train, y_train)"
    },
    "executionTime": "2020-01-17T23:30:14.546Z"
   },
   {
    "cell": {
     "executionCount": 12,
     "executionEventId": "7bef1d0d-05d6-4558-9db2-885a08030f16",
     "hasError": false,
     "id": "cea6abe8-46d2-46e8-9aea-7b1b81bc9e72",
     "outputs": [
      {
       "name": "stdout",
       "output_type": "stream",
       "text": "Confusion matrix: \n[[877 139]\n [260 354]]\n\nAccuracy is 0.7552147239263803.\n"
      }
     ],
     "persistentId": "45cab3c9-c1c0-4738-9852-857ffec92670",
     "text": "# Predict partner status for the testing data\ny_pred = classifier.predict(X_test)\n\n# Evaluate predictions against actual outcomes\ncm = confusion_matrix(y_test, y_pred)\n\nprint(\"Confusion matrix: \\n{}\\n\".format(cm))\nprint(\"Accuracy is {}.\".format(accuracy_score(y_test, y_pred)))"
    },
    "executionTime": "2020-01-17T23:30:19.820Z"
   },
   {
    "cell": {
     "executionCount": 13,
     "executionEventId": "ed0243cc-91c4-455c-8041-edcb5ccff91f",
     "hasError": false,
     "id": "691b4353-91ea-4f1f-a65e-946e958f327e",
     "outputs": [
      {
       "name": "stderr",
       "output_type": "stream",
       "text": "/Users/apple/anaconda3/lib/python3.7/site-packages/IPython/core/interactiveshell.py:3057: DtypeWarning: Columns (164) have mixed types. Specify dtype option on import or set low_memory=False.\n  interactivity=interactivity, compiler=compiler, result=result)\n"
      }
     ],
     "persistentId": "f174974c-d215-49fa-89c0-dba77251c1cd",
     "text": "raw2 = pd.read_csv(\"ESS8e02.1_F1.csv\")"
    },
    "executionTime": "2020-01-17T23:34:58.363Z"
   },
   {
    "cell": {
     "executionCount": 14,
     "executionEventId": "7eec4297-e9f4-42b1-b7d3-697b92d1ab4a",
     "hasError": false,
     "id": "9c91b01f-7148-4a92-b4ec-1a04a66ab3c8",
     "outputs": [
      {
       "data": {
        "text/html": "<div>\n<style scoped>\n    .dataframe tbody tr th:only-of-type {\n        vertical-align: middle;\n    }\n\n    .dataframe tbody tr th {\n        vertical-align: top;\n    }\n\n    .dataframe thead th {\n        text-align: right;\n    }\n</style>\n<table border=\"1\" class=\"dataframe\">\n  <thead>\n    <tr style=\"text-align: right;\">\n      <th></th>\n      <th>name</th>\n      <th>essround</th>\n      <th>edition</th>\n      <th>proddate</th>\n      <th>idno</th>\n      <th>cntry</th>\n      <th>nwspol</th>\n      <th>netusoft</th>\n      <th>netustm</th>\n      <th>ppltrst</th>\n      <th>...</th>\n      <th>inwsmm</th>\n      <th>inwdde</th>\n      <th>inwmme</th>\n      <th>inwyye</th>\n      <th>inwehh</th>\n      <th>inwemm</th>\n      <th>inwtm</th>\n      <th>dweight</th>\n      <th>pspwght</th>\n      <th>pweight</th>\n    </tr>\n  </thead>\n  <tbody>\n    <tr>\n      <th>0</th>\n      <td>ESS8e02_1</td>\n      <td>8</td>\n      <td>2.1</td>\n      <td>01.12.2018</td>\n      <td>1</td>\n      <td>AT</td>\n      <td>120</td>\n      <td>4</td>\n      <td>180</td>\n      <td>8</td>\n      <td>...</td>\n      <td>37</td>\n      <td>5</td>\n      <td>12</td>\n      <td>2016</td>\n      <td>8</td>\n      <td>33</td>\n      <td>50.0</td>\n      <td>0.611677</td>\n      <td>1.178496</td>\n      <td>0.370393</td>\n    </tr>\n    <tr>\n      <th>1</th>\n      <td>ESS8e02_1</td>\n      <td>8</td>\n      <td>2.1</td>\n      <td>01.12.2018</td>\n      <td>2</td>\n      <td>AT</td>\n      <td>120</td>\n      <td>5</td>\n      <td>120</td>\n      <td>6</td>\n      <td>...</td>\n      <td>39</td>\n      <td>25</td>\n      <td>11</td>\n      <td>2016</td>\n      <td>11</td>\n      <td>10</td>\n      <td>86.0</td>\n      <td>1.223354</td>\n      <td>0.899472</td>\n      <td>0.370393</td>\n    </tr>\n    <tr>\n      <th>2</th>\n      <td>ESS8e02_1</td>\n      <td>8</td>\n      <td>2.1</td>\n      <td>01.12.2018</td>\n      <td>4</td>\n      <td>AT</td>\n      <td>30</td>\n      <td>2</td>\n      <td>6666</td>\n      <td>5</td>\n      <td>...</td>\n      <td>17</td>\n      <td>22</td>\n      <td>11</td>\n      <td>2016</td>\n      <td>18</td>\n      <td>0</td>\n      <td>38.0</td>\n      <td>0.389058</td>\n      <td>0.315753</td>\n      <td>0.370393</td>\n    </tr>\n    <tr>\n      <th>3</th>\n      <td>ESS8e02_1</td>\n      <td>8</td>\n      <td>2.1</td>\n      <td>01.12.2018</td>\n      <td>6</td>\n      <td>AT</td>\n      <td>30</td>\n      <td>5</td>\n      <td>120</td>\n      <td>6</td>\n      <td>...</td>\n      <td>9</td>\n      <td>11</td>\n      <td>10</td>\n      <td>2016</td>\n      <td>19</td>\n      <td>59</td>\n      <td>46.0</td>\n      <td>0.642594</td>\n      <td>0.472467</td>\n      <td>0.370393</td>\n    </tr>\n    <tr>\n      <th>4</th>\n      <td>ESS8e02_1</td>\n      <td>8</td>\n      <td>2.1</td>\n      <td>01.12.2018</td>\n      <td>10</td>\n      <td>AT</td>\n      <td>30</td>\n      <td>5</td>\n      <td>180</td>\n      <td>5</td>\n      <td>...</td>\n      <td>31</td>\n      <td>1</td>\n      <td>12</td>\n      <td>2016</td>\n      <td>11</td>\n      <td>49</td>\n      <td>70.0</td>\n      <td>3.432402</td>\n      <td>2.246706</td>\n      <td>0.370393</td>\n    </tr>\n  </tbody>\n</table>\n<p>5 rows × 534 columns</p>\n</div>",
        "text/plain": "        name  essround  edition    proddate  idno cntry  nwspol  netusoft  \\\n0  ESS8e02_1         8      2.1  01.12.2018     1    AT     120         4   \n1  ESS8e02_1         8      2.1  01.12.2018     2    AT     120         5   \n2  ESS8e02_1         8      2.1  01.12.2018     4    AT      30         2   \n3  ESS8e02_1         8      2.1  01.12.2018     6    AT      30         5   \n4  ESS8e02_1         8      2.1  01.12.2018    10    AT      30         5   \n\n   netustm  ppltrst  ...  inwsmm  inwdde  inwmme  inwyye  inwehh  inwemm  \\\n0      180        8  ...      37       5      12    2016       8      33   \n1      120        6  ...      39      25      11    2016      11      10   \n2     6666        5  ...      17      22      11    2016      18       0   \n3      120        6  ...       9      11      10    2016      19      59   \n4      180        5  ...      31       1      12    2016      11      49   \n\n   inwtm   dweight   pspwght   pweight  \n0   50.0  0.611677  1.178496  0.370393  \n1   86.0  1.223354  0.899472  0.370393  \n2   38.0  0.389058  0.315753  0.370393  \n3   46.0  0.642594  0.472467  0.370393  \n4   70.0  3.432402  2.246706  0.370393  \n\n[5 rows x 534 columns]"
       },
       "execution_count": 14,
       "metadata": {},
       "output_type": "execute_result"
      }
     ],
     "persistentId": "d135813a-0260-4ab3-9087-a4461b78e14c",
     "text": "raw2.head()"
    },
    "executionTime": "2020-01-17T23:35:04.337Z"
   },
   {
    "cell": {
     "executionCount": 15,
     "executionEventId": "28f2aa26-d0e9-4439-adeb-6bcbe476127a",
     "hasError": true,
     "id": "9c91b01f-7148-4a92-b4ec-1a04a66ab3c8",
     "outputs": [
      {
       "ename": "KeyError",
       "evalue": "'year'",
       "output_type": "error",
       "traceback": [
        "\u001b[0;31m---------------------------------------------------------------------------\u001b[0m",
        "\u001b[0;31mKeyError\u001b[0m                                  Traceback (most recent call last)",
        "\u001b[0;32m~/anaconda3/lib/python3.7/site-packages/pandas/core/indexes/base.py\u001b[0m in \u001b[0;36mget_loc\u001b[0;34m(self, key, method, tolerance)\u001b[0m\n\u001b[1;32m   2656\u001b[0m             \u001b[0;32mtry\u001b[0m\u001b[0;34m:\u001b[0m\u001b[0;34m\u001b[0m\u001b[0;34m\u001b[0m\u001b[0m\n\u001b[0;32m-> 2657\u001b[0;31m                 \u001b[0;32mreturn\u001b[0m \u001b[0mself\u001b[0m\u001b[0;34m.\u001b[0m\u001b[0m_engine\u001b[0m\u001b[0;34m.\u001b[0m\u001b[0mget_loc\u001b[0m\u001b[0;34m(\u001b[0m\u001b[0mkey\u001b[0m\u001b[0;34m)\u001b[0m\u001b[0;34m\u001b[0m\u001b[0;34m\u001b[0m\u001b[0m\n\u001b[0m\u001b[1;32m   2658\u001b[0m             \u001b[0;32mexcept\u001b[0m \u001b[0mKeyError\u001b[0m\u001b[0;34m:\u001b[0m\u001b[0;34m\u001b[0m\u001b[0;34m\u001b[0m\u001b[0m\n",
        "\u001b[0;32mpandas/_libs/index.pyx\u001b[0m in \u001b[0;36mpandas._libs.index.IndexEngine.get_loc\u001b[0;34m()\u001b[0m\n",
        "\u001b[0;32mpandas/_libs/index.pyx\u001b[0m in \u001b[0;36mpandas._libs.index.IndexEngine.get_loc\u001b[0;34m()\u001b[0m\n",
        "\u001b[0;32mpandas/_libs/hashtable_class_helper.pxi\u001b[0m in \u001b[0;36mpandas._libs.hashtable.PyObjectHashTable.get_item\u001b[0;34m()\u001b[0m\n",
        "\u001b[0;32mpandas/_libs/hashtable_class_helper.pxi\u001b[0m in \u001b[0;36mpandas._libs.hashtable.PyObjectHashTable.get_item\u001b[0;34m()\u001b[0m\n",
        "\u001b[0;31mKeyError\u001b[0m: 'year'",
        "\nDuring handling of the above exception, another exception occurred:\n",
        "\u001b[0;31mKeyError\u001b[0m                                  Traceback (most recent call last)",
        "\u001b[0;32m<ipython-input-15-99eb9ba0191d>\u001b[0m in \u001b[0;36m<module>\u001b[0;34m\u001b[0m\n\u001b[0;32m----> 1\u001b[0;31m \u001b[0mraw2\u001b[0m\u001b[0;34m[\u001b[0m\u001b[0;34m'year'\u001b[0m\u001b[0;34m]\u001b[0m\u001b[0;34m\u001b[0m\u001b[0;34m\u001b[0m\u001b[0m\n\u001b[0m",
        "\u001b[0;32m~/anaconda3/lib/python3.7/site-packages/pandas/core/frame.py\u001b[0m in \u001b[0;36m__getitem__\u001b[0;34m(self, key)\u001b[0m\n\u001b[1;32m   2925\u001b[0m             \u001b[0;32mif\u001b[0m \u001b[0mself\u001b[0m\u001b[0;34m.\u001b[0m\u001b[0mcolumns\u001b[0m\u001b[0;34m.\u001b[0m\u001b[0mnlevels\u001b[0m \u001b[0;34m>\u001b[0m \u001b[0;36m1\u001b[0m\u001b[0;34m:\u001b[0m\u001b[0;34m\u001b[0m\u001b[0;34m\u001b[0m\u001b[0m\n\u001b[1;32m   2926\u001b[0m                 \u001b[0;32mreturn\u001b[0m \u001b[0mself\u001b[0m\u001b[0;34m.\u001b[0m\u001b[0m_getitem_multilevel\u001b[0m\u001b[0;34m(\u001b[0m\u001b[0mkey\u001b[0m\u001b[0;34m)\u001b[0m\u001b[0;34m\u001b[0m\u001b[0;34m\u001b[0m\u001b[0m\n\u001b[0;32m-> 2927\u001b[0;31m             \u001b[0mindexer\u001b[0m \u001b[0;34m=\u001b[0m \u001b[0mself\u001b[0m\u001b[0;34m.\u001b[0m\u001b[0mcolumns\u001b[0m\u001b[0;34m.\u001b[0m\u001b[0mget_loc\u001b[0m\u001b[0;34m(\u001b[0m\u001b[0mkey\u001b[0m\u001b[0;34m)\u001b[0m\u001b[0;34m\u001b[0m\u001b[0;34m\u001b[0m\u001b[0m\n\u001b[0m\u001b[1;32m   2928\u001b[0m             \u001b[0;32mif\u001b[0m \u001b[0mis_integer\u001b[0m\u001b[0;34m(\u001b[0m\u001b[0mindexer\u001b[0m\u001b[0;34m)\u001b[0m\u001b[0;34m:\u001b[0m\u001b[0;34m\u001b[0m\u001b[0;34m\u001b[0m\u001b[0m\n\u001b[1;32m   2929\u001b[0m                 \u001b[0mindexer\u001b[0m \u001b[0;34m=\u001b[0m \u001b[0;34m[\u001b[0m\u001b[0mindexer\u001b[0m\u001b[0;34m]\u001b[0m\u001b[0;34m\u001b[0m\u001b[0;34m\u001b[0m\u001b[0m\n",
        "\u001b[0;32m~/anaconda3/lib/python3.7/site-packages/pandas/core/indexes/base.py\u001b[0m in \u001b[0;36mget_loc\u001b[0;34m(self, key, method, tolerance)\u001b[0m\n\u001b[1;32m   2657\u001b[0m                 \u001b[0;32mreturn\u001b[0m \u001b[0mself\u001b[0m\u001b[0;34m.\u001b[0m\u001b[0m_engine\u001b[0m\u001b[0;34m.\u001b[0m\u001b[0mget_loc\u001b[0m\u001b[0;34m(\u001b[0m\u001b[0mkey\u001b[0m\u001b[0;34m)\u001b[0m\u001b[0;34m\u001b[0m\u001b[0;34m\u001b[0m\u001b[0m\n\u001b[1;32m   2658\u001b[0m             \u001b[0;32mexcept\u001b[0m \u001b[0mKeyError\u001b[0m\u001b[0;34m:\u001b[0m\u001b[0;34m\u001b[0m\u001b[0;34m\u001b[0m\u001b[0m\n\u001b[0;32m-> 2659\u001b[0;31m                 \u001b[0;32mreturn\u001b[0m \u001b[0mself\u001b[0m\u001b[0;34m.\u001b[0m\u001b[0m_engine\u001b[0m\u001b[0;34m.\u001b[0m\u001b[0mget_loc\u001b[0m\u001b[0;34m(\u001b[0m\u001b[0mself\u001b[0m\u001b[0;34m.\u001b[0m\u001b[0m_maybe_cast_indexer\u001b[0m\u001b[0;34m(\u001b[0m\u001b[0mkey\u001b[0m\u001b[0;34m)\u001b[0m\u001b[0;34m)\u001b[0m\u001b[0;34m\u001b[0m\u001b[0;34m\u001b[0m\u001b[0m\n\u001b[0m\u001b[1;32m   2660\u001b[0m         \u001b[0mindexer\u001b[0m \u001b[0;34m=\u001b[0m \u001b[0mself\u001b[0m\u001b[0;34m.\u001b[0m\u001b[0mget_indexer\u001b[0m\u001b[0;34m(\u001b[0m\u001b[0;34m[\u001b[0m\u001b[0mkey\u001b[0m\u001b[0;34m]\u001b[0m\u001b[0;34m,\u001b[0m \u001b[0mmethod\u001b[0m\u001b[0;34m=\u001b[0m\u001b[0mmethod\u001b[0m\u001b[0;34m,\u001b[0m \u001b[0mtolerance\u001b[0m\u001b[0;34m=\u001b[0m\u001b[0mtolerance\u001b[0m\u001b[0;34m)\u001b[0m\u001b[0;34m\u001b[0m\u001b[0;34m\u001b[0m\u001b[0m\n\u001b[1;32m   2661\u001b[0m         \u001b[0;32mif\u001b[0m \u001b[0mindexer\u001b[0m\u001b[0;34m.\u001b[0m\u001b[0mndim\u001b[0m \u001b[0;34m>\u001b[0m \u001b[0;36m1\u001b[0m \u001b[0;32mor\u001b[0m \u001b[0mindexer\u001b[0m\u001b[0;34m.\u001b[0m\u001b[0msize\u001b[0m \u001b[0;34m>\u001b[0m \u001b[0;36m1\u001b[0m\u001b[0;34m:\u001b[0m\u001b[0;34m\u001b[0m\u001b[0;34m\u001b[0m\u001b[0m\n",
        "\u001b[0;32mpandas/_libs/index.pyx\u001b[0m in \u001b[0;36mpandas._libs.index.IndexEngine.get_loc\u001b[0;34m()\u001b[0m\n",
        "\u001b[0;32mpandas/_libs/index.pyx\u001b[0m in \u001b[0;36mpandas._libs.index.IndexEngine.get_loc\u001b[0;34m()\u001b[0m\n",
        "\u001b[0;32mpandas/_libs/hashtable_class_helper.pxi\u001b[0m in \u001b[0;36mpandas._libs.hashtable.PyObjectHashTable.get_item\u001b[0;34m()\u001b[0m\n",
        "\u001b[0;32mpandas/_libs/hashtable_class_helper.pxi\u001b[0m in \u001b[0;36mpandas._libs.hashtable.PyObjectHashTable.get_item\u001b[0;34m()\u001b[0m\n",
        "\u001b[0;31mKeyError\u001b[0m: 'year'"
       ]
      }
     ],
     "persistentId": "d135813a-0260-4ab3-9087-a4461b78e14c",
     "text": "raw2['year']"
    },
    "executionTime": "2020-01-17T23:35:34.187Z"
   },
   {
    "cell": {
     "executionCount": 16,
     "executionEventId": "2e84c793-401b-4efd-b707-8fc4f11ede6a",
     "hasError": false,
     "id": "9c91b01f-7148-4a92-b4ec-1a04a66ab3c8",
     "outputs": [
      {
       "data": {
        "text/html": "<div>\n<style scoped>\n    .dataframe tbody tr th:only-of-type {\n        vertical-align: middle;\n    }\n\n    .dataframe tbody tr th {\n        vertical-align: top;\n    }\n\n    .dataframe thead th {\n        text-align: right;\n    }\n</style>\n<table border=\"1\" class=\"dataframe\">\n  <thead>\n    <tr style=\"text-align: right;\">\n      <th></th>\n      <th>name</th>\n      <th>essround</th>\n      <th>edition</th>\n      <th>proddate</th>\n      <th>idno</th>\n      <th>cntry</th>\n      <th>nwspol</th>\n      <th>netusoft</th>\n      <th>netustm</th>\n      <th>ppltrst</th>\n      <th>...</th>\n      <th>inwsmm</th>\n      <th>inwdde</th>\n      <th>inwmme</th>\n      <th>inwyye</th>\n      <th>inwehh</th>\n      <th>inwemm</th>\n      <th>inwtm</th>\n      <th>dweight</th>\n      <th>pspwght</th>\n      <th>pweight</th>\n    </tr>\n  </thead>\n  <tbody>\n    <tr>\n      <th>0</th>\n      <td>ESS8e02_1</td>\n      <td>8</td>\n      <td>2.1</td>\n      <td>01.12.2018</td>\n      <td>1</td>\n      <td>AT</td>\n      <td>120</td>\n      <td>4</td>\n      <td>180</td>\n      <td>8</td>\n      <td>...</td>\n      <td>37</td>\n      <td>5</td>\n      <td>12</td>\n      <td>2016</td>\n      <td>8</td>\n      <td>33</td>\n      <td>50.0</td>\n      <td>0.611677</td>\n      <td>1.178496</td>\n      <td>0.370393</td>\n    </tr>\n    <tr>\n      <th>1</th>\n      <td>ESS8e02_1</td>\n      <td>8</td>\n      <td>2.1</td>\n      <td>01.12.2018</td>\n      <td>2</td>\n      <td>AT</td>\n      <td>120</td>\n      <td>5</td>\n      <td>120</td>\n      <td>6</td>\n      <td>...</td>\n      <td>39</td>\n      <td>25</td>\n      <td>11</td>\n      <td>2016</td>\n      <td>11</td>\n      <td>10</td>\n      <td>86.0</td>\n      <td>1.223354</td>\n      <td>0.899472</td>\n      <td>0.370393</td>\n    </tr>\n    <tr>\n      <th>2</th>\n      <td>ESS8e02_1</td>\n      <td>8</td>\n      <td>2.1</td>\n      <td>01.12.2018</td>\n      <td>4</td>\n      <td>AT</td>\n      <td>30</td>\n      <td>2</td>\n      <td>6666</td>\n      <td>5</td>\n      <td>...</td>\n      <td>17</td>\n      <td>22</td>\n      <td>11</td>\n      <td>2016</td>\n      <td>18</td>\n      <td>0</td>\n      <td>38.0</td>\n      <td>0.389058</td>\n      <td>0.315753</td>\n      <td>0.370393</td>\n    </tr>\n    <tr>\n      <th>3</th>\n      <td>ESS8e02_1</td>\n      <td>8</td>\n      <td>2.1</td>\n      <td>01.12.2018</td>\n      <td>6</td>\n      <td>AT</td>\n      <td>30</td>\n      <td>5</td>\n      <td>120</td>\n      <td>6</td>\n      <td>...</td>\n      <td>9</td>\n      <td>11</td>\n      <td>10</td>\n      <td>2016</td>\n      <td>19</td>\n      <td>59</td>\n      <td>46.0</td>\n      <td>0.642594</td>\n      <td>0.472467</td>\n      <td>0.370393</td>\n    </tr>\n    <tr>\n      <th>4</th>\n      <td>ESS8e02_1</td>\n      <td>8</td>\n      <td>2.1</td>\n      <td>01.12.2018</td>\n      <td>10</td>\n      <td>AT</td>\n      <td>30</td>\n      <td>5</td>\n      <td>180</td>\n      <td>5</td>\n      <td>...</td>\n      <td>31</td>\n      <td>1</td>\n      <td>12</td>\n      <td>2016</td>\n      <td>11</td>\n      <td>49</td>\n      <td>70.0</td>\n      <td>3.432402</td>\n      <td>2.246706</td>\n      <td>0.370393</td>\n    </tr>\n  </tbody>\n</table>\n<p>5 rows × 534 columns</p>\n</div>",
        "text/plain": "        name  essround  edition    proddate  idno cntry  nwspol  netusoft  \\\n0  ESS8e02_1         8      2.1  01.12.2018     1    AT     120         4   \n1  ESS8e02_1         8      2.1  01.12.2018     2    AT     120         5   \n2  ESS8e02_1         8      2.1  01.12.2018     4    AT      30         2   \n3  ESS8e02_1         8      2.1  01.12.2018     6    AT      30         5   \n4  ESS8e02_1         8      2.1  01.12.2018    10    AT      30         5   \n\n   netustm  ppltrst  ...  inwsmm  inwdde  inwmme  inwyye  inwehh  inwemm  \\\n0      180        8  ...      37       5      12    2016       8      33   \n1      120        6  ...      39      25      11    2016      11      10   \n2     6666        5  ...      17      22      11    2016      18       0   \n3      120        6  ...       9      11      10    2016      19      59   \n4      180        5  ...      31       1      12    2016      11      49   \n\n   inwtm   dweight   pspwght   pweight  \n0   50.0  0.611677  1.178496  0.370393  \n1   86.0  1.223354  0.899472  0.370393  \n2   38.0  0.389058  0.315753  0.370393  \n3   46.0  0.642594  0.472467  0.370393  \n4   70.0  3.432402  2.246706  0.370393  \n\n[5 rows x 534 columns]"
       },
       "execution_count": 16,
       "metadata": {},
       "output_type": "execute_result"
      }
     ],
     "persistentId": "d135813a-0260-4ab3-9087-a4461b78e14c",
     "text": "raw2.head()"
    },
    "executionTime": "2020-01-17T23:35:44.911Z"
   },
   {
    "cell": {
     "executionCount": 17,
     "executionEventId": "0e69633b-3107-4298-ad62-813998c5b36d",
     "hasError": false,
     "id": "39883c2e-68e0-45a1-9fa3-a2ef76e82fa8",
     "outputs": [
      {
       "data": {
        "text/html": "<div>\n<style scoped>\n    .dataframe tbody tr th:only-of-type {\n        vertical-align: middle;\n    }\n\n    .dataframe tbody tr th {\n        vertical-align: top;\n    }\n\n    .dataframe thead th {\n        text-align: right;\n    }\n</style>\n<table border=\"1\" class=\"dataframe\">\n  <thead>\n    <tr style=\"text-align: right;\">\n      <th></th>\n      <th>cntry</th>\n      <th>idno</th>\n      <th>year</th>\n      <th>tvtot</th>\n      <th>ppltrst</th>\n      <th>pplfair</th>\n      <th>pplhlp</th>\n      <th>happy</th>\n      <th>sclmeet</th>\n      <th>sclact</th>\n      <th>gndr</th>\n      <th>agea</th>\n      <th>partner</th>\n    </tr>\n  </thead>\n  <tbody>\n    <tr>\n      <th>0</th>\n      <td>CH</td>\n      <td>5.0</td>\n      <td>6</td>\n      <td>3.0</td>\n      <td>3.0</td>\n      <td>10.0</td>\n      <td>5.0</td>\n      <td>8.0</td>\n      <td>5.0</td>\n      <td>4.0</td>\n      <td>2.0</td>\n      <td>60.0</td>\n      <td>1.0</td>\n    </tr>\n    <tr>\n      <th>1</th>\n      <td>CH</td>\n      <td>25.0</td>\n      <td>6</td>\n      <td>6.0</td>\n      <td>5.0</td>\n      <td>7.0</td>\n      <td>5.0</td>\n      <td>9.0</td>\n      <td>3.0</td>\n      <td>2.0</td>\n      <td>2.0</td>\n      <td>59.0</td>\n      <td>1.0</td>\n    </tr>\n    <tr>\n      <th>2</th>\n      <td>CH</td>\n      <td>26.0</td>\n      <td>6</td>\n      <td>1.0</td>\n      <td>8.0</td>\n      <td>8.0</td>\n      <td>8.0</td>\n      <td>7.0</td>\n      <td>6.0</td>\n      <td>3.0</td>\n      <td>1.0</td>\n      <td>24.0</td>\n      <td>2.0</td>\n    </tr>\n    <tr>\n      <th>3</th>\n      <td>CH</td>\n      <td>28.0</td>\n      <td>6</td>\n      <td>4.0</td>\n      <td>6.0</td>\n      <td>6.0</td>\n      <td>7.0</td>\n      <td>10.0</td>\n      <td>6.0</td>\n      <td>2.0</td>\n      <td>2.0</td>\n      <td>64.0</td>\n      <td>1.0</td>\n    </tr>\n    <tr>\n      <th>4</th>\n      <td>CH</td>\n      <td>29.0</td>\n      <td>6</td>\n      <td>5.0</td>\n      <td>6.0</td>\n      <td>7.0</td>\n      <td>5.0</td>\n      <td>8.0</td>\n      <td>7.0</td>\n      <td>2.0</td>\n      <td>2.0</td>\n      <td>55.0</td>\n      <td>1.0</td>\n    </tr>\n  </tbody>\n</table>\n</div>",
        "text/plain": "  cntry  idno  year  tvtot  ppltrst  pplfair  pplhlp  happy  sclmeet  sclact  \\\n0    CH   5.0     6    3.0      3.0     10.0     5.0    8.0      5.0     4.0   \n1    CH  25.0     6    6.0      5.0      7.0     5.0    9.0      3.0     2.0   \n2    CH  26.0     6    1.0      8.0      8.0     8.0    7.0      6.0     3.0   \n3    CH  28.0     6    4.0      6.0      6.0     7.0   10.0      6.0     2.0   \n4    CH  29.0     6    5.0      6.0      7.0     5.0    8.0      7.0     2.0   \n\n   gndr  agea  partner  \n0   2.0  60.0      1.0  \n1   2.0  59.0      1.0  \n2   1.0  24.0      2.0  \n3   2.0  64.0      1.0  \n4   2.0  55.0      1.0  "
       },
       "execution_count": 17,
       "metadata": {},
       "output_type": "execute_result"
      }
     ],
     "persistentId": "5ded5a49-097a-4c92-8ca3-dc9e7ad17039",
     "text": "raw.head()"
    },
    "executionTime": "2020-01-17T23:36:09.051Z"
   },
   {
    "cell": {
     "executionCount": 18,
     "executionEventId": "53c99c89-26d5-4b57-bac9-44ebb54324b0",
     "hasError": false,
     "id": "39883c2e-68e0-45a1-9fa3-a2ef76e82fa8",
     "outputs": [
      {
       "data": {
        "text/plain": "7    4076\n6    4071\nName: year, dtype: int64"
       },
       "execution_count": 18,
       "metadata": {},
       "output_type": "execute_result"
      }
     ],
     "persistentId": "5ded5a49-097a-4c92-8ca3-dc9e7ad17039",
     "text": "raw['year'].value_counts()"
    },
    "executionTime": "2020-01-17T23:36:44.810Z"
   },
   {
    "cell": {
     "executionCount": 19,
     "executionEventId": "02adb345-ad0a-4a04-9b50-eb3ab6b2979e",
     "hasError": false,
     "id": "0abb8b5e-f01a-4927-9b06-e400e11baab8",
     "outputs": [],
     "persistentId": "b378d6d2-7c53-416b-8861-c41e7c1c0138",
     "text": "clf2 = GradientBoostingClassifier(\n    n_estimators=500, subsample=0.2, learning_rate=1.0, max_depth=2, loss=\"deviance\", random_state=0\n).fit(X_train, y_train)"
    },
    "executionTime": "2020-01-17T23:48:08.087Z"
   },
   {
    "cell": {
     "executionCount": 20,
     "executionEventId": "a219e4ac-0ee8-4a2d-9e5a-5457b597be71",
     "hasError": false,
     "id": "e91d92db-a97c-405d-abc2-2b8387e97168",
     "outputs": [
      {
       "name": "stdout",
       "output_type": "stream",
       "text": "Accuracy in each of the 10 folds: [0.66871166 0.67944785 0.62883436 0.70705521 0.66871166 0.65644172\n 0.71625767 0.7250384  0.67741935 0.66052227]; mean accuracy: 0.6788440153421353.\n"
      }
     ],
     "persistentId": "ae1cc5cb-6517-4030-8ea6-dcf6681f6ea2",
     "text": "from sklearn.model_selection import cross_val_score\n\nscores = cross_val_score(clf2, X_train, y_train, cv=10, n_jobs=-1)\n\nprint(\n    \"Accuracy in each of the 10 folds: {}; mean accuracy: {}.\".format(\n        scores, scores.mean()\n    )\n)"
    },
    "executionTime": "2020-01-17T23:48:23.444Z"
   },
   {
    "cell": {
     "executionCount": 21,
     "executionEventId": "7f350f40-697d-428f-bee9-150d8cebec2c",
     "hasError": false,
     "id": "e91d92db-a97c-405d-abc2-2b8387e97168",
     "outputs": [
      {
       "name": "stdout",
       "output_type": "stream",
       "text": "Accuracy in each of the 10 folds: [0.66871166 0.67944785 0.62883436 0.70705521 0.66871166 0.65644172\n 0.71625767 0.7250384  0.67741935 0.66052227]; mean accuracy: 0.6788440153421353.\n"
      }
     ],
     "persistentId": "ae1cc5cb-6517-4030-8ea6-dcf6681f6ea2",
     "text": "scores = cross_val_score(clf2, X_train, y_train, cv=10, n_jobs=-1)\n\nprint(\n    \"Accuracy in each of the 10 folds: {}; mean accuracy: {}.\".format(\n        scores, scores.mean()\n    )\n)"
    },
    "executionTime": "2020-01-17T23:48:30.309Z"
   },
   {
    "cell": {
     "executionCount": 1,
     "executionEventId": "5c719d95-99fa-417f-b318-a97f1a4337c2",
     "hasError": false,
     "id": "df1a6efd-6b36-45f5-a032-58e2f4de53c4",
     "outputs": [],
     "persistentId": "3c3858dd-3341-43ba-a2cf-4bdb1b75bb07",
     "text": "# Import libraries\nimport pandas as pd\nimport numpy as np\nimport scipy\nimport matplotlib.pyplot as plt\n\n%matplotlib inline\n\nfrom sklearn.ensemble import GradientBoostingClassifier\nfrom sklearn.model_selection import train_test_split, cross_val_score\nfrom sklearn.metrics import confusion_matrix, accuracy_score"
    },
    "executionTime": "2020-01-17T23:49:08.938Z"
   },
   {
    "cell": {
     "executionCount": 2,
     "executionEventId": "f1b79a72-de75-4a16-8273-48f4807bee17",
     "hasError": false,
     "id": "78b85835-5761-4dee-abee-db4b24f1012b",
     "outputs": [],
     "persistentId": "4eb6b472-2938-4780-abc3-5928fa6fc954",
     "text": "# Read data\nraw = pd.read_csv(\n    (\n        \"https://raw.githubusercontent.com/Thinkful-Ed/data-201-resources/\"\n        \"master/ESS_practice_data/ESSdata_Thinkful.csv\"\n    )\n).dropna()"
    },
    "executionTime": "2020-01-17T23:49:09.456Z"
   },
   {
    "cell": {
     "executionCount": 3,
     "executionEventId": "310ec61f-059d-4fa3-b790-54908750db18",
     "hasError": false,
     "id": "54a3a660-caa2-49c4-b890-37c7da69c6bf",
     "outputs": [
      {
       "data": {
        "text/html": "<div>\n<style scoped>\n    .dataframe tbody tr th:only-of-type {\n        vertical-align: middle;\n    }\n\n    .dataframe tbody tr th {\n        vertical-align: top;\n    }\n\n    .dataframe thead th {\n        text-align: right;\n    }\n</style>\n<table border=\"1\" class=\"dataframe\">\n  <thead>\n    <tr style=\"text-align: right;\">\n      <th></th>\n      <th>cntry</th>\n      <th>idno</th>\n      <th>year</th>\n      <th>tvtot</th>\n      <th>ppltrst</th>\n      <th>pplfair</th>\n      <th>pplhlp</th>\n      <th>happy</th>\n      <th>sclmeet</th>\n      <th>sclact</th>\n      <th>gndr</th>\n      <th>agea</th>\n      <th>partner</th>\n    </tr>\n  </thead>\n  <tbody>\n    <tr>\n      <th>0</th>\n      <td>CH</td>\n      <td>5.0</td>\n      <td>6</td>\n      <td>3.0</td>\n      <td>3.0</td>\n      <td>10.0</td>\n      <td>5.0</td>\n      <td>8.0</td>\n      <td>5.0</td>\n      <td>4.0</td>\n      <td>2.0</td>\n      <td>60.0</td>\n      <td>1.0</td>\n    </tr>\n    <tr>\n      <th>1</th>\n      <td>CH</td>\n      <td>25.0</td>\n      <td>6</td>\n      <td>6.0</td>\n      <td>5.0</td>\n      <td>7.0</td>\n      <td>5.0</td>\n      <td>9.0</td>\n      <td>3.0</td>\n      <td>2.0</td>\n      <td>2.0</td>\n      <td>59.0</td>\n      <td>1.0</td>\n    </tr>\n    <tr>\n      <th>2</th>\n      <td>CH</td>\n      <td>26.0</td>\n      <td>6</td>\n      <td>1.0</td>\n      <td>8.0</td>\n      <td>8.0</td>\n      <td>8.0</td>\n      <td>7.0</td>\n      <td>6.0</td>\n      <td>3.0</td>\n      <td>1.0</td>\n      <td>24.0</td>\n      <td>2.0</td>\n    </tr>\n    <tr>\n      <th>3</th>\n      <td>CH</td>\n      <td>28.0</td>\n      <td>6</td>\n      <td>4.0</td>\n      <td>6.0</td>\n      <td>6.0</td>\n      <td>7.0</td>\n      <td>10.0</td>\n      <td>6.0</td>\n      <td>2.0</td>\n      <td>2.0</td>\n      <td>64.0</td>\n      <td>1.0</td>\n    </tr>\n    <tr>\n      <th>4</th>\n      <td>CH</td>\n      <td>29.0</td>\n      <td>6</td>\n      <td>5.0</td>\n      <td>6.0</td>\n      <td>7.0</td>\n      <td>5.0</td>\n      <td>8.0</td>\n      <td>7.0</td>\n      <td>2.0</td>\n      <td>2.0</td>\n      <td>55.0</td>\n      <td>1.0</td>\n    </tr>\n  </tbody>\n</table>\n</div>",
        "text/plain": "  cntry  idno  year  tvtot  ppltrst  pplfair  pplhlp  happy  sclmeet  sclact  \\\n0    CH   5.0     6    3.0      3.0     10.0     5.0    8.0      5.0     4.0   \n1    CH  25.0     6    6.0      5.0      7.0     5.0    9.0      3.0     2.0   \n2    CH  26.0     6    1.0      8.0      8.0     8.0    7.0      6.0     3.0   \n3    CH  28.0     6    4.0      6.0      6.0     7.0   10.0      6.0     2.0   \n4    CH  29.0     6    5.0      6.0      7.0     5.0    8.0      7.0     2.0   \n\n   gndr  agea  partner  \n0   2.0  60.0      1.0  \n1   2.0  59.0      1.0  \n2   1.0  24.0      2.0  \n3   2.0  64.0      1.0  \n4   2.0  55.0      1.0  "
       },
       "execution_count": 3,
       "metadata": {},
       "output_type": "execute_result"
      }
     ],
     "persistentId": "90a2e875-4e77-4362-b9c7-26cef0ae3b24",
     "text": "# A few rows\nraw.head()"
    },
    "executionTime": "2020-01-17T23:49:09.477Z"
   },
   {
    "cell": {
     "executionCount": 4,
     "executionEventId": "349e3801-333a-4b17-b367-424bc73c606b",
     "hasError": false,
     "id": "1f1fd045-f31f-4a7d-bdb6-e8809382f689",
     "outputs": [
      {
       "data": {
        "text/plain": "(8147, 13)"
       },
       "execution_count": 4,
       "metadata": {},
       "output_type": "execute_result"
      }
     ],
     "persistentId": "fa80d10a-5f1c-4db6-9f61-2708575e247f",
     "text": "# Dimensions\nraw.shape"
    },
    "executionTime": "2020-01-17T23:49:09.505Z"
   },
   {
    "cell": {
     "executionCount": 5,
     "executionEventId": "db6cecad-ccce-47dd-9f61-dcb7a6919725",
     "hasError": false,
     "id": "486dd32d-a6ca-46cf-adfe-6bb528db9a23",
     "outputs": [
      {
       "data": {
        "text/html": "<div>\n<style scoped>\n    .dataframe tbody tr th:only-of-type {\n        vertical-align: middle;\n    }\n\n    .dataframe tbody tr th {\n        vertical-align: top;\n    }\n\n    .dataframe thead th {\n        text-align: right;\n    }\n</style>\n<table border=\"1\" class=\"dataframe\">\n  <thead>\n    <tr style=\"text-align: right;\">\n      <th></th>\n      <th>total</th>\n      <th>percent</th>\n    </tr>\n  </thead>\n  <tbody>\n  </tbody>\n</table>\n</div>",
        "text/plain": "Empty DataFrame\nColumns: [total, percent]\nIndex: []"
       },
       "execution_count": 5,
       "metadata": {},
       "output_type": "execute_result"
      }
     ],
     "persistentId": "b49586a8-61ac-4a68-b9c4-18a3202dae1e",
     "text": "# Count missing values\ntotal = raw.isnull().sum().sort_values(ascending=False)\npercent = (raw.isnull().sum() / raw.isnull().count()).sort_values(ascending=False)\nmissing = pd.concat([total, percent], axis=1, keys=[\"total\", \"percent\"])\nmissing = missing.loc[missing[\"total\"] > 0, :]\n\nmissing"
    },
    "executionTime": "2020-01-17T23:49:09.517Z"
   },
   {
    "cell": {
     "executionCount": 6,
     "executionEventId": "3e1b46da-60fb-4785-ad8f-3124084da816",
     "hasError": false,
     "id": "62e18404-be39-484c-ba36-f09857583d6d",
     "outputs": [],
     "persistentId": "4a77c131-761f-43a2-940b-2e1d0041b20a",
     "text": "# Create a copy of the original data\ndf = raw.copy()\n\n# Recode 1 and 2 to 0 and 1\ny = df[\"partner\"] - 1"
    },
    "executionTime": "2020-01-17T23:49:09.563Z"
   },
   {
    "cell": {
     "executionCount": 7,
     "executionEventId": "9240307f-f66f-44e7-841f-9fad3409f64f",
     "hasError": false,
     "id": "7d2a3309-6156-47c4-ab6d-f4c94d4b6d0c",
     "outputs": [],
     "persistentId": "843700a8-bb69-4827-be43-6cd87a36075c",
     "text": "# Drop unnecessary columns\nX = df.loc[:, ~df.columns.isin([\"partner\", \"cntry\", \"idno\"])]\n\n# One hot encode \"cntry\"\nX = pd.concat([X, pd.get_dummies(df[\"cntry\"])], axis=1)"
    },
    "executionTime": "2020-01-17T23:49:09.575Z"
   },
   {
    "cell": {
     "executionCount": 8,
     "executionEventId": "941df4ac-bdfb-4418-afe4-bb5dde2b7c31",
     "hasError": false,
     "id": "75748e5f-23ea-4f6c-a0f5-d76ca1998fc5",
     "outputs": [],
     "persistentId": "18e042dd-9e2b-4bfe-8e5c-018ba4226a2e",
     "text": "X_train, X_test, y_train, y_test = train_test_split(\n    X, y, test_size=0.2, random_state=465\n)"
    },
    "executionTime": "2020-01-17T23:49:09.602Z"
   },
   {
    "cell": {
     "executionCount": 9,
     "executionEventId": "059c2d61-c2fb-4ea4-b8d9-73acb4a43259",
     "hasError": false,
     "id": "05556968-48f1-490c-8259-823bd4935660",
     "outputs": [],
     "persistentId": "a415aed2-529c-4a64-883b-f85a747baffb",
     "text": "from sklearn.preprocessing import StandardScaler\n\nscaler = StandardScaler()\nX_train = scaler.fit_transform(X_train)\nX_test = scaler.fit_transform(X_test)"
    },
    "executionTime": "2020-01-17T23:49:09.626Z"
   },
   {
    "cell": {
     "executionCount": 10,
     "executionEventId": "005b13a3-9d30-4b3a-a8e9-7e986a4fc8cc",
     "hasError": false,
     "id": "7746fba2-e96f-472b-b712-7c13e281e285",
     "outputs": [],
     "persistentId": "5ee9e2e6-8137-4871-8052-c05ac6ca624e",
     "text": "clf = GradientBoostingClassifier(\n    n_estimators=500, learning_rate=1.0, max_depth=2, loss=\"deviance\", random_state=0\n).fit(X_train, y_train)"
    },
    "executionTime": "2020-01-17T23:49:10.643Z"
   },
   {
    "cell": {
     "executionCount": 12,
     "executionEventId": "a6084f54-1727-4bd3-b115-e187acfe9cb7",
     "hasError": false,
     "id": "cea6abe8-46d2-46e8-9aea-7b1b81bc9e72",
     "outputs": [
      {
       "name": "stdout",
       "output_type": "stream",
       "text": "Confusion matrix: \n[[877 139]\n [260 354]]\n\nAccuracy is 0.7552147239263803.\n"
      }
     ],
     "persistentId": "45cab3c9-c1c0-4738-9852-857ffec92670",
     "text": "# Predict partner status for the testing data\ny_pred = clf.predict(X_test)\n\n# Evaluate predictions against actual outcomes\ncm = confusion_matrix(y_test, y_pred)\n\nprint(\"Confusion matrix: \\n{}\\n\".format(cm))\nprint(\"Accuracy is {}.\".format(accuracy_score(y_test, y_pred)))"
    },
    "executionTime": "2020-01-17T23:49:16.983Z"
   },
   {
    "cell": {
     "executionCount": 13,
     "executionEventId": "5623954b-878d-49c3-9da1-28280f275a8a",
     "hasError": false,
     "id": "0abb8b5e-f01a-4927-9b06-e400e11baab8",
     "outputs": [],
     "persistentId": "b378d6d2-7c53-416b-8861-c41e7c1c0138",
     "text": "clf2 = GradientBoostingClassifier(\n    n_estimators=500, subsample=0.2, learning_rate=1.0, max_depth=2, loss=\"deviance\", random_state=0\n).fit(X_train, y_train)"
    },
    "executionTime": "2020-01-17T23:49:18.179Z"
   },
   {
    "cell": {
     "executionCount": 14,
     "executionEventId": "7ac2ad30-40f2-4e94-bac9-fd3673ae269e",
     "hasError": false,
     "id": "e91d92db-a97c-405d-abc2-2b8387e97168",
     "outputs": [
      {
       "name": "stdout",
       "output_type": "stream",
       "text": "Accuracy in each of the 10 folds: [0.66871166 0.67944785 0.62883436 0.70705521 0.66871166 0.65644172\n 0.71625767 0.7250384  0.67741935 0.66052227]; mean accuracy: 0.6788440153421353.\n"
      }
     ],
     "persistentId": "ae1cc5cb-6517-4030-8ea6-dcf6681f6ea2",
     "text": "scores = cross_val_score(clf2, X_train, y_train, cv=10, n_jobs=-1)\n\nprint(\n    \"Accuracy in each of the 10 folds: {}; mean accuracy: {}.\".format(\n        scores, scores.mean()\n    )\n)"
    },
    "executionTime": "2020-01-17T23:49:22.834Z"
   },
   {
    "cell": {
     "executionCount": 15,
     "executionEventId": "10ed6db2-fc9c-416c-a938-1fb07382d2c7",
     "hasError": false,
     "id": "4130c0b0-a15c-4f3f-aa2d-23c30b2fd44b",
     "outputs": [
      {
       "data": {
        "text/plain": "3.4641016151377544"
       },
       "execution_count": 15,
       "metadata": {},
       "output_type": "execute_result"
      }
     ],
     "persistentId": "59330c8b-b9d5-4bb5-9c4b-c2873daef489",
     "text": "np.sqrt(12)"
    },
    "executionTime": "2020-01-17T23:49:49.108Z"
   },
   {
    "cell": {
     "executionCount": 16,
     "executionEventId": "2f8dd71e-455c-4e1d-bdcd-17993a963722",
     "hasError": false,
     "id": "8cd2b52e-170e-411c-8ada-85985853de09",
     "outputs": [
      {
       "data": {
        "text/plain": "(6517, 16)"
       },
       "execution_count": 16,
       "metadata": {},
       "output_type": "execute_result"
      }
     ],
     "persistentId": "4a13a3c5-61b4-4ff1-a4ca-586c7ad1be8a",
     "text": "X_train.shape"
    },
    "executionTime": "2020-01-17T23:50:08.617Z"
   },
   {
    "cell": {
     "executionCount": 17,
     "executionEventId": "a58ed1c5-eb82-4717-b348-b215150f1954",
     "hasError": false,
     "id": "8cd2b52e-170e-411c-8ada-85985853de09",
     "outputs": [
      {
       "data": {
        "text/plain": "16"
       },
       "execution_count": 17,
       "metadata": {},
       "output_type": "execute_result"
      }
     ],
     "persistentId": "4a13a3c5-61b4-4ff1-a4ca-586c7ad1be8a",
     "text": "X_train.shape[1]"
    },
    "executionTime": "2020-01-17T23:50:10.841Z"
   },
   {
    "cell": {
     "executionCount": 18,
     "executionEventId": "3c698bef-f83f-4833-add3-c29638ca91f9",
     "hasError": false,
     "id": "8cd2b52e-170e-411c-8ada-85985853de09",
     "outputs": [
      {
       "data": {
        "text/plain": "4.0"
       },
       "execution_count": 18,
       "metadata": {},
       "output_type": "execute_result"
      }
     ],
     "persistentId": "4a13a3c5-61b4-4ff1-a4ca-586c7ad1be8a",
     "text": "np.sqrt(X_train.shape[1])"
    },
    "executionTime": "2020-01-17T23:50:18.769Z"
   },
   {
    "cell": {
     "executionCount": 19,
     "executionEventId": "03703492-1bff-4ff3-a399-81dbdc9e900b",
     "hasError": false,
     "id": "8cd2b52e-170e-411c-8ada-85985853de09",
     "outputs": [
      {
       "data": {
        "text/plain": "0.25"
       },
       "execution_count": 19,
       "metadata": {},
       "output_type": "execute_result"
      }
     ],
     "persistentId": "4a13a3c5-61b4-4ff1-a4ca-586c7ad1be8a",
     "text": "np.sqrt(X_train.shape[1])/X_train.shape[1]"
    },
    "executionTime": "2020-01-17T23:50:25.691Z"
   },
   {
    "cell": {
     "executionCount": 20,
     "executionEventId": "1bb16c04-a341-4e7e-be9f-3e569632aad0",
     "hasError": false,
     "id": "0abb8b5e-f01a-4927-9b06-e400e11baab8",
     "outputs": [],
     "persistentId": "b378d6d2-7c53-416b-8861-c41e7c1c0138",
     "text": "clf2 = GradientBoostingClassifier(\n    n_estimators=500,\n    subsample=np.sqrt(X_train.shape[1]) / X_train.shape[1],\n    learning_rate=1.0,\n    max_depth=2,\n    loss=\"deviance\",\n    random_state=0,\n).fit(X_train, y_train)"
    },
    "executionTime": "2020-01-17T23:50:38.098Z"
   },
   {
    "cell": {
     "executionCount": 21,
     "executionEventId": "20d35f14-1809-48dd-b4d5-ac28e6f2c260",
     "hasError": false,
     "id": "e91d92db-a97c-405d-abc2-2b8387e97168",
     "outputs": [
      {
       "name": "stdout",
       "output_type": "stream",
       "text": "Accuracy in each of the 10 folds: [0.67944785 0.6809816  0.70245399 0.70245399 0.73773006 0.73312883\n 0.70858896 0.68817204 0.69278034 0.70353303]; mean accuracy: 0.7029270683139672.\n"
      }
     ],
     "persistentId": "ae1cc5cb-6517-4030-8ea6-dcf6681f6ea2",
     "text": "# Cross validate on training data\nscores = cross_val_score(clf2, X_train, y_train, cv=10, n_jobs=-1)\n\nprint(\n    \"Accuracy in each of the 10 folds: {}; mean accuracy: {}.\".format(\n        scores, scores.mean()\n    )\n)"
    },
    "executionTime": "2020-01-17T23:52:02.334Z"
   },
   {
    "cell": {
     "executionCount": 22,
     "executionEventId": "19249ef9-1497-4e04-9a39-d8490f162603",
     "hasError": false,
     "id": "8f720833-c1d4-4bd3-a85e-27829721e6b1",
     "outputs": [
      {
       "name": "stdout",
       "output_type": "stream",
       "text": "Confusion matrix: \n[[877 139]\n [260 354]]\n\nAccuracy is 0.7552147239263803.\n"
      }
     ],
     "persistentId": "d40bc403-17ab-4487-a022-c722aaa7a9ab",
     "text": "# Preidct outcomes in test data\ny_pred = clf.predict(X_test)\n\n# Evaluate performance\ncm = confusion_matrix(y_test, y_pred)\n\nprint(\"Confusion matrix: \\n{}\\n\".format(cm))\nprint(\"Accuracy is {}.\".format(accuracy_score(y_test, y_pred)))"
    },
    "executionTime": "2020-01-17T23:52:09.010Z"
   },
   {
    "cell": {
     "executionCount": 23,
     "executionEventId": "75e074da-035c-46d1-ba23-053bd42eb2a0",
     "hasError": false,
     "id": "8f720833-c1d4-4bd3-a85e-27829721e6b1",
     "outputs": [
      {
       "name": "stdout",
       "output_type": "stream",
       "text": "Confusion matrix: \n[[816 200]\n [299 315]]\n\nAccuracy is 0.6938650306748466.\n"
      }
     ],
     "persistentId": "d40bc403-17ab-4487-a022-c722aaa7a9ab",
     "text": "# Preidct outcomes in test data\ny_pred = clf2.predict(X_test)\n\n# Evaluate performance\ncm = confusion_matrix(y_test, y_pred)\n\nprint(\"Confusion matrix: \\n{}\\n\".format(cm))\nprint(\"Accuracy is {}.\".format(accuracy_score(y_test, y_pred)))"
    },
    "executionTime": "2020-01-18T00:00:58.784Z"
   },
   {
    "cell": {
     "executionCount": 24,
     "executionEventId": "b715de54-9870-4962-b541-c107d305a1a7",
     "hasError": false,
     "id": "c95b49be-2ce9-4b5c-a7d1-6c200ef54edd",
     "outputs": [],
     "persistentId": "4603a0c8-9383-4f58-a348-e2f751b0d558",
     "text": "# Train new classifier\nclf3 = GradientBoostingClassifier(\n    n_estimators=10000, learning_rate=1.0, max_depth=2, loss=\"deviance\", random_state=0,\n).fit(X_train, y_train)"
    },
    "executionTime": "2020-01-18T00:02:16.727Z"
   },
   {
    "cell": {
     "executionCount": 25,
     "executionEventId": "250822e7-e3c3-4cc9-a489-114e73c3035a",
     "hasError": false,
     "id": "e9ea73dc-0103-4d0a-971b-f2bdaa7f02a7",
     "outputs": [
      {
       "name": "stdout",
       "output_type": "stream",
       "text": "Accuracy in each of the 10 folds: [0.69631902 0.66257669 0.69325153 0.68558282 0.69785276 0.68711656\n 0.70858896 0.69278034 0.66052227 0.69892473]; mean accuracy: 0.6883515686108206.\n"
      }
     ],
     "persistentId": "24d45f60-69d7-4aa8-8805-4190c0368511",
     "text": "# Cross validate on training data\nscores = cross_val_score(clf3, X_train, y_train, cv=10, n_jobs=-1)\n\nprint(\n    \"Accuracy in each of the 10 folds: {}; mean accuracy: {}.\".format(\n        scores, scores.mean()\n    )\n)"
    },
    "executionTime": "2020-01-18T00:04:55.063Z"
   },
   {
    "cell": {
     "executionCount": 26,
     "executionEventId": "d66a98ec-df7d-47b8-ba68-d315b801a384",
     "hasError": false,
     "id": "fce239f0-d054-40cf-8241-78c103da6e68",
     "outputs": [
      {
       "name": "stdout",
       "output_type": "stream",
       "text": "Confusion matrix: \n[[792 224]\n [248 366]]\n\nAccuracy is 0.7104294478527607.\n"
      }
     ],
     "persistentId": "5e138366-990c-4a20-8d2d-0a5c385ced71",
     "text": "# Preidct outcomes in test data\ny_pred = clf3.predict(X_test)\n\n# Evaluate performance\ncm = confusion_matrix(y_test, y_pred)\n\nprint(\"Confusion matrix: \\n{}\\n\".format(cm))\nprint(\"Accuracy is {}.\".format(accuracy_score(y_test, y_pred)))"
    },
    "executionTime": "2020-01-18T00:05:03.274Z"
   },
   {
    "cell": {
     "executionCount": 27,
     "executionEventId": "49fd3b7d-0b5b-41f8-90e5-d22c2101a1af",
     "hasError": false,
     "id": "fbdaedb9-ea96-4b78-ac40-b67f0a193989",
     "outputs": [],
     "persistentId": "2aef862c-8acd-48ff-855c-622f3c4922c3",
     "text": "# Train new classifier\nclf4 = GradientBoostingClassifier(\n    n_estimators=500, learning_rate=1.0, max_depth=5, loss=\"deviance\", random_state=0,\n).fit(X_train, y_train)"
    },
    "executionTime": "2020-01-18T00:06:46.697Z"
   },
   {
    "cell": {
     "executionCount": 28,
     "executionEventId": "a2c615a1-a898-4184-b769-4161a03b05a5",
     "hasError": false,
     "id": "9e54fa38-6e88-4250-8844-317725ce2050",
     "outputs": [
      {
       "name": "stdout",
       "output_type": "stream",
       "text": "Accuracy in each of the 10 folds: [0.70245399 0.67791411 0.70245399 0.70398773 0.72392638 0.70245399\n 0.69325153 0.70046083 0.68970814 0.70046083]; mean accuracy: 0.699707151809863.\n"
      }
     ],
     "persistentId": "c855027b-ae5d-48d9-826f-328f7af498db",
     "text": "# Cross validate on training data\nscores = cross_val_score(clf4, X_train, y_train, cv=10, n_jobs=-1)\n\nprint(\n    \"Accuracy in each of the 10 folds: {}; mean accuracy: {}.\".format(\n        scores, scores.mean()\n    )\n)"
    },
    "executionTime": "2020-01-18T00:08:11.976Z"
   },
   {
    "cell": {
     "executionCount": 29,
     "executionEventId": "6f7fe3fd-39c4-4886-b8fb-aba7257d8513",
     "hasError": false,
     "id": "9d32c4db-1ccd-4d45-9d1c-63d9456a29ec",
     "outputs": [
      {
       "name": "stdout",
       "output_type": "stream",
       "text": "Confusion matrix: \n[[767 249]\n [254 360]]\n\nAccuracy is 0.6914110429447853.\n"
      }
     ],
     "persistentId": "fabd34fa-2bd0-420b-96c8-2462a53a29e5",
     "text": "# Preidct outcomes in test data\ny_pred = clf4.predict(X_test)\n\n# Evaluate performance\ncm = confusion_matrix(y_test, y_pred)\n\nprint(\"Confusion matrix: \\n{}\\n\".format(cm))\nprint(\"Accuracy is {}.\".format(accuracy_score(y_test, y_pred)))"
    },
    "executionTime": "2020-01-18T00:08:18.927Z"
   },
   {
    "cell": {
     "executionCount": 30,
     "executionEventId": "7e05a38a-808f-495c-bae0-515326fcf4c0",
     "hasError": true,
     "id": "9f44be9c-ccad-4c3e-bf69-74a74668602e",
     "outputs": [
      {
       "ename": "TypeError",
       "evalue": "__init__() got an unexpected keyword argument 'max_depth'",
       "output_type": "error",
       "traceback": [
        "\u001b[0;31m---------------------------------------------------------------------------\u001b[0m",
        "\u001b[0;31mTypeError\u001b[0m                                 Traceback (most recent call last)",
        "\u001b[0;32m<ipython-input-30-88ebacad8a44>\u001b[0m in \u001b[0;36m<module>\u001b[0;34m\u001b[0m\n\u001b[1;32m      3\u001b[0m \u001b[0;31m# Train new classifier\u001b[0m\u001b[0;34m\u001b[0m\u001b[0;34m\u001b[0m\u001b[0;34m\u001b[0m\u001b[0m\n\u001b[1;32m      4\u001b[0m clf5 = AdaBoostClassifier(\n\u001b[0;32m----> 5\u001b[0;31m     \u001b[0mn_estimators\u001b[0m\u001b[0;34m=\u001b[0m\u001b[0;36m500\u001b[0m\u001b[0;34m,\u001b[0m \u001b[0mlearning_rate\u001b[0m\u001b[0;34m=\u001b[0m\u001b[0;36m1.0\u001b[0m\u001b[0;34m,\u001b[0m \u001b[0mmax_depth\u001b[0m\u001b[0;34m=\u001b[0m\u001b[0;36m2\u001b[0m\u001b[0;34m,\u001b[0m \u001b[0mrandom_state\u001b[0m\u001b[0;34m=\u001b[0m\u001b[0;36m0\u001b[0m\u001b[0;34m,\u001b[0m\u001b[0;34m\u001b[0m\u001b[0;34m\u001b[0m\u001b[0m\n\u001b[0m\u001b[1;32m      6\u001b[0m ).fit(X_train, y_train)\n",
        "\u001b[0;31mTypeError\u001b[0m: __init__() got an unexpected keyword argument 'max_depth'"
       ]
      }
     ],
     "persistentId": "f6d01dab-0afe-4a7a-af5a-5b411358383d",
     "text": "from sklearn.ensemble import AdaBoostClassifier\n\n# Train new classifier\nclf5 = AdaBoostClassifier(\n    n_estimators=500, learning_rate=1.0, max_depth=2, random_state=0,\n).fit(X_train, y_train)"
    },
    "executionTime": "2020-01-18T00:10:23.718Z"
   },
   {
    "cell": {
     "executionCount": 31,
     "executionEventId": "7b28fd58-cc6d-4c94-8cd3-af5dcceab8c0",
     "hasError": false,
     "id": "9f44be9c-ccad-4c3e-bf69-74a74668602e",
     "outputs": [],
     "persistentId": "f6d01dab-0afe-4a7a-af5a-5b411358383d",
     "text": "from sklearn.ensemble import AdaBoostClassifier\n\n# Train new classifier\nclf5 = AdaBoostClassifier(\n    n_estimators=500, random_state=0,\n).fit(X_train, y_train)"
    },
    "executionTime": "2020-01-18T00:10:35.872Z"
   },
   {
    "cell": {
     "executionCount": 32,
     "executionEventId": "acf43436-e4de-4856-aef8-d1bef58bef64",
     "hasError": false,
     "id": "0ba35861-129e-46ab-aae1-f22140edece2",
     "outputs": [
      {
       "name": "stdout",
       "output_type": "stream",
       "text": "Accuracy in each of the 10 folds: [0.72852761 0.71625767 0.7607362  0.73773006 0.7791411  0.75766871\n 0.7392638  0.75729647 0.70814132 0.75883257]; mean accuracy: 0.7443595506676844.\n"
      }
     ],
     "persistentId": "fdba553b-61a5-48d4-b59e-c6528fe8e2ed",
     "text": "# Cross validate on training data\nscores = cross_val_score(clf5, X_train, y_train, cv=10, n_jobs=-1)\n\nprint(\n    \"Accuracy in each of the 10 folds: {}; mean accuracy: {}.\".format(\n        scores, scores.mean()\n    )\n)"
    },
    "executionTime": "2020-01-18T00:10:54.135Z"
   },
   {
    "cell": {
     "executionCount": 33,
     "executionEventId": "8b2cb532-11c2-4479-b7cb-3a25478dbaef",
     "hasError": false,
     "id": "69694218-5c15-42c4-9ecc-afa088f55e13",
     "outputs": [
      {
       "name": "stdout",
       "output_type": "stream",
       "text": "Confusion matrix: \n[[912 104]\n [302 312]]\n\nAccuracy is 0.750920245398773.\n"
      }
     ],
     "persistentId": "268fe389-9bf5-489c-959a-9920a47e66d6",
     "text": "# Preidct outcomes in test data\ny_pred = clf5.predict(X_test)\n\n# Evaluate performance\ncm = confusion_matrix(y_test, y_pred)\n\nprint(\"Confusion matrix: \\n{}\\n\".format(cm))\nprint(\"Accuracy is {}.\".format(accuracy_score(y_test, y_pred)))"
    },
    "executionTime": "2020-01-18T00:10:56.784Z"
   },
   {
    "cell": {
     "executionCount": 34,
     "executionEventId": "6836b1cc-0b27-419f-84c6-e14cfaee0883",
     "hasError": false,
     "id": "9f44be9c-ccad-4c3e-bf69-74a74668602e",
     "outputs": [],
     "persistentId": "f6d01dab-0afe-4a7a-af5a-5b411358383d",
     "text": "# Train new classifier\nclf5 = GradientBoostingClassifier(\n    n_estimators=500, learning_rate=1.0, max_depth=2, loss=\"exponential\", random_state=0,\n).fit(X_train, y_train)"
    },
    "executionTime": "2020-01-18T00:17:22.540Z"
   },
   {
    "cell": {
     "executionCount": 35,
     "executionEventId": "0732329d-41ee-4555-8e14-baecb9f8fe8f",
     "hasError": false,
     "id": "0ba35861-129e-46ab-aae1-f22140edece2",
     "outputs": [
      {
       "name": "stdout",
       "output_type": "stream",
       "text": "Accuracy in each of the 10 folds: [0.70858896 0.69478528 0.7208589  0.70858896 0.75613497 0.72699387\n 0.7208589  0.73886329 0.72196621 0.73732719]; mean accuracy: 0.723496649797857.\n"
      }
     ],
     "persistentId": "fdba553b-61a5-48d4-b59e-c6528fe8e2ed",
     "text": "# Cross validate on training data\nscores = cross_val_score(clf5, X_train, y_train, cv=10, n_jobs=-1)\n\nprint(\n    \"Accuracy in each of the 10 folds: {}; mean accuracy: {}.\".format(\n        scores, scores.mean()\n    )\n)"
    },
    "executionTime": "2020-01-18T00:17:30.563Z"
   },
   {
    "cell": {
     "executionCount": 36,
     "executionEventId": "f6b38c69-ebc9-4201-86f7-fd851012c72d",
     "hasError": false,
     "id": "69694218-5c15-42c4-9ecc-afa088f55e13",
     "outputs": [
      {
       "name": "stdout",
       "output_type": "stream",
       "text": "Confusion matrix: \n[[883 133]\n [277 337]]\n\nAccuracy is 0.7484662576687117.\n"
      }
     ],
     "persistentId": "268fe389-9bf5-489c-959a-9920a47e66d6",
     "text": "# Preidct outcomes in test data\ny_pred = clf5.predict(X_test)\n\n# Evaluate performance\ncm = confusion_matrix(y_test, y_pred)\n\nprint(\"Confusion matrix: \\n{}\\n\".format(cm))\nprint(\"Accuracy is {}.\".format(accuracy_score(y_test, y_pred)))"
    },
    "executionTime": "2020-01-18T00:19:15.157Z"
   },
   {
    "cell": {
     "executionCount": 37,
     "executionEventId": "b5436c90-7b62-4e5c-8b8a-144856356dfa",
     "hasError": false,
     "id": "7746fba2-e96f-472b-b712-7c13e281e285",
     "outputs": [],
     "persistentId": "5ee9e2e6-8137-4871-8052-c05ac6ca624e",
     "text": "clf = GradientBoostingClassifier(\n    n_estimators=500, learning_rate=0.1, max_depth=2, loss=\"deviance\", random_state=0\n).fit(X_train, y_train)"
    },
    "executionTime": "2020-01-18T00:36:34.918Z"
   },
   {
    "cell": {
     "executionCount": 39,
     "executionEventId": "921bd2dd-d29d-41f8-97ff-93634465216c",
     "hasError": false,
     "id": "cea6abe8-46d2-46e8-9aea-7b1b81bc9e72",
     "outputs": [
      {
       "name": "stdout",
       "output_type": "stream",
       "text": "Confusion matrix: \n[[912 104]\n [293 321]]\n\nAccuracy is 0.756441717791411.\n"
      }
     ],
     "persistentId": "45cab3c9-c1c0-4738-9852-857ffec92670",
     "text": "# Predict partner status for the testing data\ny_pred = clf.predict(X_test)\n\n# Evaluate predictions against actual outcomes\ncm = confusion_matrix(y_test, y_pred)\n\nprint(\"Confusion matrix: \\n{}\\n\".format(cm))\nprint(\"Accuracy is {}.\".format(accuracy_score(y_test, y_pred)))"
    },
    "executionTime": "2020-01-18T00:36:51.846Z"
   },
   {
    "cell": {
     "executionCount": 40,
     "executionEventId": "dfa9166e-de38-4b3b-8342-dc39a1999f74",
     "hasError": false,
     "id": "0abb8b5e-f01a-4927-9b06-e400e11baab8",
     "outputs": [],
     "persistentId": "b378d6d2-7c53-416b-8861-c41e7c1c0138",
     "text": "# Train new classifier\nclf2 = GradientBoostingClassifier(\n    n_estimators=500,\n    subsample=np.sqrt(X_train.shape[1]) / X_train.shape[1],\n    learning_rate=0.1,\n    max_depth=2,\n    loss=\"deviance\",\n    random_state=0,\n).fit(X_train, y_train)"
    },
    "executionTime": "2020-01-18T00:37:03.952Z"
   },
   {
    "cell": {
     "executionCount": 41,
     "executionEventId": "649e7b42-a551-4ff6-ac3d-dfd1eaf04a93",
     "hasError": false,
     "id": "e91d92db-a97c-405d-abc2-2b8387e97168",
     "outputs": [
      {
       "name": "stdout",
       "output_type": "stream",
       "text": "Accuracy in each of the 10 folds: [0.73466258 0.7208589  0.76533742 0.73619632 0.76380368 0.77760736\n 0.75153374 0.76804916 0.71889401 0.76497696]; mean accuracy: 0.7501920122887865.\n"
      }
     ],
     "persistentId": "ae1cc5cb-6517-4030-8ea6-dcf6681f6ea2",
     "text": "# Cross validate on training data\nscores = cross_val_score(clf2, X_train, y_train, cv=10, n_jobs=-1)\n\nprint(\n    \"Accuracy in each of the 10 folds: {}; mean accuracy: {}.\".format(\n        scores, scores.mean()\n    )\n)"
    },
    "executionTime": "2020-01-18T00:37:09.894Z"
   },
   {
    "cell": {
     "executionCount": 42,
     "executionEventId": "f278f8d9-7346-4d10-b568-f41318e95888",
     "hasError": false,
     "id": "8f720833-c1d4-4bd3-a85e-27829721e6b1",
     "outputs": [
      {
       "name": "stdout",
       "output_type": "stream",
       "text": "Confusion matrix: \n[[908 108]\n [268 346]]\n\nAccuracy is 0.7693251533742331.\n"
      }
     ],
     "persistentId": "d40bc403-17ab-4487-a022-c722aaa7a9ab",
     "text": "# Preidct outcomes in test data\ny_pred = clf2.predict(X_test)\n\n# Evaluate performance\ncm = confusion_matrix(y_test, y_pred)\n\nprint(\"Confusion matrix: \\n{}\\n\".format(cm))\nprint(\"Accuracy is {}.\".format(accuracy_score(y_test, y_pred)))"
    },
    "executionTime": "2020-01-18T00:37:11.048Z"
   },
   {
    "cell": {
     "executionCount": 43,
     "executionEventId": "640e02ca-e19f-46f0-af87-028cf72e72f0",
     "hasError": false,
     "id": "c95b49be-2ce9-4b5c-a7d1-6c200ef54edd",
     "outputs": [],
     "persistentId": "4603a0c8-9383-4f58-a348-e2f751b0d558",
     "text": "# Train new classifier\nclf3 = GradientBoostingClassifier(\n    n_estimators=10000, learning_rate=0.1, max_depth=2, loss=\"deviance\", random_state=0,\n).fit(X_train, y_train)"
    },
    "executionTime": "2020-01-18T00:38:12.239Z"
   }
  ],
  "kernelspec": {
   "display_name": "Python 3",
   "language": "python",
   "name": "python3"
  },
  "language_info": {
   "codemirror_mode": {
    "name": "ipython",
    "version": 3
   },
   "file_extension": ".py",
   "mimetype": "text/x-python",
   "name": "python",
   "nbconvert_exporter": "python",
   "pygments_lexer": "ipython3",
   "version": "3.7.3"
  },
  "uuid": "8d072714-1c14-444d-bae7-40a2f7a46c16"
 },
 "nbformat": 4,
 "nbformat_minor": 4
}
